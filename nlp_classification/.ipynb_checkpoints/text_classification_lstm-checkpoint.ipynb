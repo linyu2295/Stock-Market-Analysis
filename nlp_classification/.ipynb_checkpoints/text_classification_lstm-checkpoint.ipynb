{
 "cells": [
  {
   "cell_type": "markdown",
   "id": "human-breathing",
   "metadata": {},
   "source": [
    "# Text classification\n",
    "\n",
    "- LSTM recurrent neural network model for text classification problem\n",
    "- Goal: classify whether it is a truly related News or not\n",
    "- Input data: News title, company name, sector informatin, etc.\n",
    "- Output data: Y/N for the relateness of company"
   ]
  },
  {
   "cell_type": "code",
   "execution_count": 1,
   "id": "sought-humanitarian",
   "metadata": {},
   "outputs": [],
   "source": [
    "import numpy as np\n",
    "import pandas as pd\n",
    "import os\n",
    "\n",
    "from tensorflow.keras.layers import Input, Embedding, Dense, LSTM, Dropout, Concatenate, concatenate, Flatten\n",
    "from tensorflow.keras.models import Model\n",
    "from tensorflow.keras.regularizers import l2\n",
    "from tensorflow import keras\n",
    "from tensorflow.keras.utils import plot_model\n",
    "from sklearn.metrics import classification_report\n",
    "\n",
    "import matplotlib.pyplot as plt\n",
    "\n",
    "### embedding\n",
    "import spacy\n",
    "\n",
    "nlp = spacy.load(\"en_core_web_sm\")\n"
   ]
  },
  {
   "cell_type": "code",
   "execution_count": 2,
   "id": "sacred-massachusetts",
   "metadata": {},
   "outputs": [
    {
     "name": "stdout",
     "output_type": "stream",
     "text": [
      "Data dimension:  (8102, 7)\n",
      "Number of 1:  4227\n"
     ]
    }
   ],
   "source": [
    "news_data = pd.read_csv('Stock market project - News data_ 2021_01_27.csv')\n",
    "print('Data dimension: ', news_data.shape)\n",
    "\n",
    "news_y = [1 if x == 'y' else 0 for x in news_data['label'].tolist()]\n",
    "print('Number of 1: ', sum(news_y))\n",
    "\n",
    "news_all_data = news_data['title'].tolist()\n"
   ]
  },
  {
   "cell_type": "markdown",
   "id": "alternate-secret",
   "metadata": {},
   "source": [
    "## Text pre-processing\n",
    "- convert all text to lower case\n",
    "- remove News sources\n",
    "- remove stop words\n",
    "- remove punctuation\n",
    "\n",
    "## Modeling preparation\n",
    "- vectorize each News title/company name/sector, by turning each text into a vector\n",
    "- Set the max number of words in each News title at 20, each company name at 3, and each sector at 2. \n",
    "- Truncate and pad the input sequences so that they are all in the same length for modeling"
   ]
  },
  {
   "cell_type": "code",
   "execution_count": 3,
   "id": "unauthorized-vacation",
   "metadata": {},
   "outputs": [],
   "source": [
    "# Function: tokens to vector\n",
    "def tokens_to_vectors(max_num_words, tokens, embed_dim):\n",
    "    vectors = np.zeros((max_num_words, embed_dim)).astype('float32')\n",
    "    c = min(max_num_words, len(tokens))-1\n",
    "    end = max_num_words-1\n",
    "    while c >= 0:\n",
    "        vectors[end] = tokens[c].vector\n",
    "        c -= 1\n",
    "        end -= 1\n",
    "    return vectors\n"
   ]
  },
  {
   "cell_type": "code",
   "execution_count": 4,
   "id": "unknown-dressing",
   "metadata": {},
   "outputs": [],
   "source": [
    "# Maximum number of words to be used in each case.\n",
    "name_max_num = 3 # np.ceil(np.mean([len(i) for i in name_tokens]))\n",
    "sector_max_num = 2 # np.ceil(np.mean([len(i) for i in sector_tokens]))\n",
    "max_words = 20\n",
    "# Length of embedding word vector\n",
    "embed_dim = len(nlp(\"nike\").vector)\n"
   ]
  },
  {
   "cell_type": "code",
   "execution_count": 5,
   "id": "freelance-huntington",
   "metadata": {},
   "outputs": [
    {
     "name": "stdout",
     "output_type": "stream",
     "text": [
      "Average length of company name:  2.8754628486793385\n"
     ]
    }
   ],
   "source": [
    "'''\n",
    "Company name:\n",
    "    - \n",
    "'''\n",
    "name_tokens = [\n",
    "    nlp(text.lower()) for text in news_data['Name'].tolist()\n",
    "]\n",
    "\n",
    "print('Average length of company name: ', np.mean([len(i) for i in name_tokens]))\n",
    "\n",
    "name_inputs = []\n",
    "for tokens in name_tokens:\n",
    "    name_inputs.append(\n",
    "        np.stack(tokens_to_vectors(name_max_num, tokens, len(name_tokens[0][1].vector)))\n",
    "    )\n"
   ]
  },
  {
   "cell_type": "code",
   "execution_count": 6,
   "id": "determined-binding",
   "metadata": {},
   "outputs": [
    {
     "name": "stdout",
     "output_type": "stream",
     "text": [
      "Average length of sector:  1.649469266847692\n"
     ]
    }
   ],
   "source": [
    "'''\n",
    "Sector:\n",
    "    - \n",
    "'''\n",
    "sector_tokens = [\n",
    "    nlp(text.lower()) for text in news_data['Sector'].tolist()\n",
    "]\n",
    "\n",
    "print('Average length of sector: ', np.mean([len(i) for i in sector_tokens]))\n",
    "\n",
    "sector_inputs = []\n",
    "for tokens in sector_tokens:\n",
    "    sector_inputs.append(\n",
    "        np.stack(tokens_to_vectors(sector_max_num, tokens, len(sector_tokens[0][1].vector)))\n",
    "    )\n",
    "    "
   ]
  },
  {
   "cell_type": "code",
   "execution_count": 7,
   "id": "desperate-decade",
   "metadata": {},
   "outputs": [
    {
     "name": "stdout",
     "output_type": "stream",
     "text": [
      "50-th and 80-th percentile of the length of titles:  [ 9. 12.]\n",
      "Word embedding vector length:,  96\n",
      "Length of words in each title:  20\n"
     ]
    }
   ],
   "source": [
    "'''\n",
    "News title:\n",
    "    - remove news sources\n",
    "    - remove stopwords and punctuation\n",
    "    \n",
    "'''\n",
    "news_input_data = []\n",
    "for i in range(len(news_all_data)):\n",
    "    tmp_list = news_all_data[i].split(' - ')\n",
    "    if len(tmp_list) > 1:\n",
    "        tmp_list = ' - '.join(tmp_list[:-1])\n",
    "    else:\n",
    "        tmp_list = news_all_data[i]\n",
    "    news_input_data.append(tmp_list.lower())\n",
    "    \n",
    "text_tokens = [\n",
    "    nlp(text) for text in news_input_data\n",
    "]\n",
    "\n",
    "# filter out the stopwords and punctuation\n",
    "filtered_tokens = [\n",
    "    [token for token in tokens \n",
    "     if not token.is_stop \n",
    "     and not token.is_punct] for tokens in text_tokens\n",
    "]\n",
    "\n",
    "print('50-th and 80-th percentile of the length of titles: ', \n",
    "      np.quantile([len(i) for i in filtered_tokens], [0.5, 0.8]))\n",
    "\n",
    "print('Word embedding vector length:, ', embed_dim)\n",
    "print('Length of words in each title: ', max_words)\n"
   ]
  },
  {
   "cell_type": "code",
   "execution_count": 8,
   "id": "bacterial-recipe",
   "metadata": {},
   "outputs": [
    {
     "name": "stdout",
     "output_type": "stream",
     "text": [
      "vector input dimension:  (20, 96)\n"
     ]
    },
    {
     "data": {
      "text/plain": [
       "True"
      ]
     },
     "execution_count": 8,
     "metadata": {},
     "output_type": "execute_result"
    }
   ],
   "source": [
    "'''\n",
    "    - vector_input: length = max_words*embed_dim \n",
    "    - each title: \n",
    "        - if length < max_words, pre padding 0s\n",
    "        - if length > max_words, use the first max_words\n",
    "\n",
    "'''\n",
    "vector_inputs = []\n",
    "for tokens in filtered_tokens:\n",
    "    vector_inputs.append(\n",
    "        np.stack(tokens_to_vectors(max_words, tokens, embed_dim))\n",
    "    )\n",
    "\n",
    "print('vector input dimension: ', vector_inputs[0].shape)\n",
    "\n",
    "np.array_equal(vector_inputs[0][-3], filtered_tokens[0][-3].vector)\n"
   ]
  },
  {
   "cell_type": "markdown",
   "id": "bearing-messaging",
   "metadata": {},
   "source": [
    "## LSTM modeling \n",
    "- late fusion: three input features pass into three individual lstm model, then combine to get a final output\n",
    "- early fusion: concatenate three features in the input layer and pass into one lstm model to get the final output\n"
   ]
  },
  {
   "cell_type": "code",
   "execution_count": 9,
   "id": "still-duration",
   "metadata": {},
   "outputs": [],
   "source": [
    "'''\n",
    "    1. Late fusion\n",
    "\n",
    "'''\n",
    "def lstm_late_fusion():\n",
    "    # input layer\n",
    "    '''\n",
    "        News title\n",
    "    '''\n",
    "    input_layer = Input(shape=(max_words, embed_dim), \n",
    "                        name=\"input_title\")\n",
    "    lstm_layer = LSTM(100, name=\"lstm_title\")(input_layer) # why 100?\n",
    "\n",
    "    '''\n",
    "        Company Name\n",
    "    '''\n",
    "    input_company_layer = Input(shape=(name_max_num, embed_dim), \n",
    "                                name = 'input_company')\n",
    "    lstm_company_layer = LSTM(50, name = 'lstm_company')(input_company_layer)\n",
    "\n",
    "    '''\n",
    "        Sector\n",
    "    '''\n",
    "    input_sector_layer = Input(shape=(sector_max_num, embed_dim), \n",
    "                               name = 'input_sector')\n",
    "    lstm_sector_layer = LSTM(50, name = 'lstm_sector')(input_sector_layer)\n",
    "\n",
    "    # concatenate layer\n",
    "    concat_layer = concatenate([lstm_layer, lstm_company_layer, lstm_sector_layer])\n",
    "\n",
    "    # dropout layer\n",
    "    dropout_layer = Dropout(0.5)(concat_layer)\n",
    "\n",
    "    # fully connected layer\n",
    "    fc_layer = Dense(50)(dropout_layer)\n",
    "\n",
    "    # output layer\n",
    "    out = Dense(\n",
    "        1,\n",
    "        activation=\"sigmoid\",\n",
    "        name=\"out\"\n",
    "    )(fc_layer)\n",
    "\n",
    "    model = Model(\n",
    "        inputs=[input_layer, input_company_layer, input_sector_layer],\n",
    "        outputs=out\n",
    "    )\n",
    "\n",
    "    model.compile(\n",
    "        loss=\"binary_crossentropy\",\n",
    "        optimizer=\"adam\",\n",
    "        metrics=\"accuracy\"\n",
    "    )\n",
    "    \n",
    "    return model"
   ]
  },
  {
   "cell_type": "code",
   "execution_count": 10,
   "id": "improved-chorus",
   "metadata": {},
   "outputs": [
    {
     "data": {
      "image/png": "[encoded data removed]",
      "text/plain": [
       "<IPython.core.display.Image object>"
      ]
     },
     "execution_count": 10,
     "metadata": {},
     "output_type": "execute_result"
    }
   ],
   "source": [
    "late_model = lstm_late_fusion()\n",
    "\n",
    "# plot model architecture\n",
    "plot_model(late_model, to_file=\"./model.png\")\n"
   ]
  },
  {
   "cell_type": "code",
   "execution_count": 11,
   "id": "former-television",
   "metadata": {},
   "outputs": [
    {
     "name": "stdout",
     "output_type": "stream",
     "text": [
      "Model: \"model\"\n",
      "__________________________________________________________________________________________________\n",
      "Layer (type)                    Output Shape         Param #     Connected to                     \n",
      "==================================================================================================\n",
      "input_title (InputLayer)        [(None, 20, 96)]     0                                            \n",
      "__________________________________________________________________________________________________\n",
      "input_company (InputLayer)      [(None, 3, 96)]      0                                            \n",
      "__________________________________________________________________________________________________\n",
      "input_sector (InputLayer)       [(None, 2, 96)]      0                                            \n",
      "__________________________________________________________________________________________________\n",
      "lstm_title (LSTM)               (None, 100)          78800       input_title[0][0]                \n",
      "__________________________________________________________________________________________________\n",
      "lstm_company (LSTM)             (None, 50)           29400       input_company[0][0]              \n",
      "__________________________________________________________________________________________________\n",
      "lstm_sector (LSTM)              (None, 50)           29400       input_sector[0][0]               \n",
      "__________________________________________________________________________________________________\n",
      "concatenate (Concatenate)       (None, 200)          0           lstm_title[0][0]                 \n",
      "                                                                 lstm_company[0][0]               \n",
      "                                                                 lstm_sector[0][0]                \n",
      "__________________________________________________________________________________________________\n",
      "dropout (Dropout)               (None, 200)          0           concatenate[0][0]                \n",
      "__________________________________________________________________________________________________\n",
      "dense (Dense)                   (None, 50)           10050       dropout[0][0]                    \n",
      "__________________________________________________________________________________________________\n",
      "out (Dense)                     (None, 1)            51          dense[0][0]                      \n",
      "==================================================================================================\n",
      "Total params: 147,701\n",
      "Trainable params: 147,701\n",
      "Non-trainable params: 0\n",
      "__________________________________________________________________________________________________\n"
     ]
    }
   ],
   "source": [
    "late_model.summary()\n"
   ]
  },
  {
   "cell_type": "code",
   "execution_count": 12,
   "id": "derived-forwarding",
   "metadata": {},
   "outputs": [],
   "source": [
    "'''\n",
    "    2. early fusion\n",
    "\n",
    "'''\n",
    "def lstm_early_fusion():\n",
    "    # input layer\n",
    "    '''\n",
    "        All: News title + company name + sector\n",
    "    '''\n",
    "    input_layer = Input(shape=(max_words+name_max_num+sector_max_num, embed_dim), \n",
    "                        name=\"input_layer\")\n",
    "    lstm_layer = LSTM(100, name=\"lstm\")(input_layer) # why 100?\n",
    "\n",
    "\n",
    "    dropout_layer = Dropout(0.5)(lstm_layer)\n",
    "    fc_layer = Dense(50)(dropout_layer)\n",
    "\n",
    "    # output layer\n",
    "    out = Dense(\n",
    "        1,\n",
    "        activation=\"sigmoid\",\n",
    "        name=\"out\"\n",
    "    )(fc_layer)\n",
    "\n",
    "    model = Model(\n",
    "        inputs=input_layer,\n",
    "        outputs=out\n",
    "    )\n",
    "\n",
    "    model.compile(\n",
    "        loss=\"binary_crossentropy\",\n",
    "        optimizer=\"adam\",\n",
    "        metrics=\"accuracy\"\n",
    "    )\n",
    "\n",
    "    return model"
   ]
  },
  {
   "cell_type": "code",
   "execution_count": 13,
   "id": "underlying-cabinet",
   "metadata": {},
   "outputs": [
    {
     "data": {
      "image/png": "[encoded data removed]",
      "text/plain": [
       "<IPython.core.display.Image object>"
      ]
     },
     "execution_count": 13,
     "metadata": {},
     "output_type": "execute_result"
    }
   ],
   "source": [
    "early_model = lstm_early_fusion()\n",
    "\n",
    "plot_model(early_model, to_file=\"./model.png\")\n"
   ]
  },
  {
   "cell_type": "code",
   "execution_count": 14,
   "id": "lovely-wayne",
   "metadata": {},
   "outputs": [
    {
     "name": "stdout",
     "output_type": "stream",
     "text": [
      "Model: \"model_1\"\n",
      "_________________________________________________________________\n",
      "Layer (type)                 Output Shape              Param #   \n",
      "=================================================================\n",
      "input_layer (InputLayer)     [(None, 25, 96)]          0         \n",
      "_________________________________________________________________\n",
      "lstm (LSTM)                  (None, 100)               78800     \n",
      "_________________________________________________________________\n",
      "dropout_1 (Dropout)          (None, 100)               0         \n",
      "_________________________________________________________________\n",
      "dense_1 (Dense)              (None, 50)                5050      \n",
      "_________________________________________________________________\n",
      "out (Dense)                  (None, 1)                 51        \n",
      "=================================================================\n",
      "Total params: 83,901\n",
      "Trainable params: 83,901\n",
      "Non-trainable params: 0\n",
      "_________________________________________________________________\n"
     ]
    }
   ],
   "source": [
    "early_model.summary()\n"
   ]
  },
  {
   "cell_type": "code",
   "execution_count": 15,
   "id": "familiar-rhythm",
   "metadata": {},
   "outputs": [],
   "source": [
    "def graph_plots(history, string):\n",
    "    plt.plot(history.history[string])\n",
    "    plt.plot(history.history['val_'+string])\n",
    "    plt.xlabel(\"Epochs\")\n",
    "    plt.ylabel(string)\n",
    "    plt.legend([string, 'val_'+string])\n",
    "    plt.show()\n"
   ]
  },
  {
   "cell_type": "code",
   "execution_count": 16,
   "id": "acknowledged-official",
   "metadata": {},
   "outputs": [
    {
     "name": "stdout",
     "output_type": "stream",
     "text": [
      "4861 1620 1621 8102\n"
     ]
    }
   ],
   "source": [
    "'''\n",
    "    - split dataset into: training, validation, testing with 6:2:2\n",
    "'''\n",
    "np.random.seed(12345)\n",
    "all_index = np.arange(len(news_input_data))\n",
    "np.random.shuffle(all_index)\n",
    "train_index = all_index[:int(0.6*len(news_input_data))]\n",
    "validate_index = all_index[int(0.6*len(news_input_data)):int(0.8*len(news_input_data))]\n",
    "test_index = all_index[int(0.8*len(news_input_data)):]\n",
    "\n",
    "print(len(train_index), len(validate_index), len(test_index), len(all_index))\n"
   ]
  },
  {
   "cell_type": "code",
   "execution_count": 17,
   "id": "cosmetic-prior",
   "metadata": {},
   "outputs": [],
   "source": [
    "'''\n",
    "    1. late fusion\n",
    "'''\n",
    "def get_late_fusion_dataset():\n",
    "    x_train = [np.array(vector_inputs)[train_index], \n",
    "               np.array(name_inputs)[train_index],\n",
    "               np.array(sector_inputs)[train_index]]\n",
    "    y_train = np.array(news_y)[train_index]\n",
    "\n",
    "    x_validate = [np.array(vector_inputs)[validate_index],\n",
    "                  np.array(name_inputs)[validate_index],\n",
    "                  np.array(sector_inputs)[validate_index]]\n",
    "    y_validate = np.array(news_y)[validate_index]\n",
    "\n",
    "    x_test = [np.array(vector_inputs)[test_index],\n",
    "              np.array(name_inputs)[test_index],\n",
    "              np.array(sector_inputs)[test_index]]\n",
    "\n",
    "    y_test = np.array(news_y)[test_index]\n",
    "    \n",
    "    return x_train, y_train, x_validate, y_validate, x_test, y_test"
   ]
  },
  {
   "cell_type": "code",
   "execution_count": 18,
   "id": "abroad-restaurant",
   "metadata": {},
   "outputs": [],
   "source": [
    "x_train_late, y_train_late,\\\n",
    "x_validate_late, y_validate_late, \\\n",
    "x_test_late, y_test_late = get_late_fusion_dataset()"
   ]
  },
  {
   "cell_type": "code",
   "execution_count": 19,
   "id": "hollywood-charge",
   "metadata": {
    "scrolled": true
   },
   "outputs": [
    {
     "name": "stdout",
     "output_type": "stream",
     "text": [
      "Epoch 1/20\n",
      "152/152 [==============================] - 8s 25ms/step - loss: 0.5861 - accuracy: 0.6787 - val_loss: 0.3209 - val_accuracy: 0.8710\n",
      "Epoch 2/20\n",
      "152/152 [==============================] - 2s 12ms/step - loss: 0.3104 - accuracy: 0.8784 - val_loss: 0.2951 - val_accuracy: 0.8852\n",
      "Epoch 3/20\n",
      "152/152 [==============================] - 2s 12ms/step - loss: 0.2448 - accuracy: 0.9116 - val_loss: 0.2695 - val_accuracy: 0.8975\n",
      "Epoch 4/20\n",
      "152/152 [==============================] - 2s 12ms/step - loss: 0.1864 - accuracy: 0.9263 - val_loss: 0.2542 - val_accuracy: 0.9105\n",
      "Epoch 5/20\n",
      "152/152 [==============================] - 2s 12ms/step - loss: 0.1466 - accuracy: 0.9486 - val_loss: 0.2596 - val_accuracy: 0.9031\n",
      "Epoch 6/20\n",
      "152/152 [==============================] - 2s 13ms/step - loss: 0.1177 - accuracy: 0.9593 - val_loss: 0.3112 - val_accuracy: 0.8889\n",
      "Epoch 7/20\n",
      "152/152 [==============================] - 2s 13ms/step - loss: 0.1053 - accuracy: 0.9608 - val_loss: 0.2906 - val_accuracy: 0.9049\n",
      "Epoch 8/20\n",
      "152/152 [==============================] - 2s 12ms/step - loss: 0.0674 - accuracy: 0.9764 - val_loss: 0.3163 - val_accuracy: 0.9160\n",
      "Epoch 9/20\n",
      "152/152 [==============================] - 2s 12ms/step - loss: 0.0606 - accuracy: 0.9766 - val_loss: 0.3211 - val_accuracy: 0.9068\n",
      "Epoch 10/20\n",
      "152/152 [==============================] - 2s 13ms/step - loss: 0.0508 - accuracy: 0.9800 - val_loss: 0.3622 - val_accuracy: 0.9062\n",
      "Epoch 11/20\n",
      "152/152 [==============================] - 2s 12ms/step - loss: 0.0335 - accuracy: 0.9874 - val_loss: 0.4259 - val_accuracy: 0.8864\n",
      "Epoch 12/20\n",
      "152/152 [==============================] - 2s 12ms/step - loss: 0.0465 - accuracy: 0.9838 - val_loss: 0.3661 - val_accuracy: 0.9111\n",
      "Epoch 13/20\n",
      "152/152 [==============================] - 2s 12ms/step - loss: 0.0434 - accuracy: 0.9848 - val_loss: 0.4136 - val_accuracy: 0.8951\n",
      "Epoch 14/20\n",
      "152/152 [==============================] - 2s 13ms/step - loss: 0.0355 - accuracy: 0.9863 - val_loss: 0.4406 - val_accuracy: 0.8981\n",
      "Epoch 15/20\n",
      "152/152 [==============================] - 2s 13ms/step - loss: 0.0323 - accuracy: 0.9879 - val_loss: 0.4202 - val_accuracy: 0.9074\n",
      "Epoch 16/20\n",
      "152/152 [==============================] - 2s 13ms/step - loss: 0.0229 - accuracy: 0.9916 - val_loss: 0.4860 - val_accuracy: 0.8969\n",
      "Epoch 17/20\n",
      "152/152 [==============================] - 2s 12ms/step - loss: 0.0300 - accuracy: 0.9896 - val_loss: 0.4303 - val_accuracy: 0.9080\n",
      "Epoch 18/20\n",
      "152/152 [==============================] - 2s 13ms/step - loss: 0.0235 - accuracy: 0.9917 - val_loss: 0.4917 - val_accuracy: 0.8981\n",
      "Epoch 19/20\n",
      "152/152 [==============================] - 2s 14ms/step - loss: 0.0262 - accuracy: 0.9910 - val_loss: 0.4425 - val_accuracy: 0.8981\n",
      "Epoch 20/20\n",
      "152/152 [==============================] - 2s 12ms/step - loss: 0.0228 - accuracy: 0.9919 - val_loss: 0.5291 - val_accuracy: 0.8957\n"
     ]
    }
   ],
   "source": [
    "### train model\n",
    "history_late = late_model.fit(\n",
    "    x=x_train_late,\n",
    "    y=y_train_late,\n",
    "    epochs=20,\n",
    "    batch_size=32,\n",
    "    validation_data=(\n",
    "        x_validate_late,\n",
    "        y_validate_late,\n",
    "    )\n",
    ")\n"
   ]
  },
  {
   "cell_type": "code",
   "execution_count": 20,
   "id": "generous-electronics",
   "metadata": {},
   "outputs": [
    {
     "data": {
      "image/png": "[encoded data removed]",
      "text/plain": [
       "<Figure size 432x288 with 1 Axes>"
      ]
     },
     "metadata": {
      "needs_background": "light"
     },
     "output_type": "display_data"
    },
    {
     "data": {
      "image/png": "[encoded data removed]",
      "text/plain": [
       "<Figure size 432x288 with 1 Axes>"
      ]
     },
     "metadata": {
      "needs_background": "light"
     },
     "output_type": "display_data"
    }
   ],
   "source": [
    "graph_plots(history_late, \"accuracy\")\n",
    "graph_plots(history_late, \"loss\")\n"
   ]
  },
  {
   "cell_type": "code",
   "execution_count": 21,
   "id": "preceding-tuning",
   "metadata": {},
   "outputs": [
    {
     "name": "stdout",
     "output_type": "stream",
     "text": [
      "TEST accuracy: 0.9099321406539174\n"
     ]
    }
   ],
   "source": [
    "predict_test_late = late_model.predict(x_test_late)\n",
    "\n",
    "y_test_pred_late = [x[0] for x in (predict_test_late > 0.5).astype(np.int32)]\n",
    "test_acc_late = (y_test_late == y_test_pred_late).sum()/len(y_test_late)\n",
    "\n",
    "print(\"TEST accuracy: {}\".format(test_acc_late))\n"
   ]
  },
  {
   "cell_type": "code",
   "execution_count": 22,
   "id": "democratic-malta",
   "metadata": {},
   "outputs": [
    {
     "data": {
      "text/plain": [
       "{'0': {'precision': 0.9393511988716502,\n",
       "  'recall': 0.8660598179453837,\n",
       "  'f1-score': 0.9012178619756428,\n",
       "  'support': 769},\n",
       " '1': {'precision': 0.8870614035087719,\n",
       "  'recall': 0.9495305164319249,\n",
       "  'f1-score': 0.9172335600907029,\n",
       "  'support': 852},\n",
       " 'accuracy': 0.9099321406539174,\n",
       " 'macro avg': {'precision': 0.9132063011902111,\n",
       "  'recall': 0.9077951671886543,\n",
       "  'f1-score': 0.9092257110331728,\n",
       "  'support': 1621},\n",
       " 'weighted avg': {'precision': 0.911867605010347,\n",
       "  'recall': 0.9099321406539174,\n",
       "  'f1-score': 0.9096357366172413,\n",
       "  'support': 1621}}"
      ]
     },
     "execution_count": 22,
     "metadata": {},
     "output_type": "execute_result"
    }
   ],
   "source": [
    "report_late = classification_report(y_test_late, y_test_pred_late, output_dict=True)\n",
    "report_late\n"
   ]
  },
  {
   "cell_type": "code",
   "execution_count": 23,
   "id": "preceding-shopper",
   "metadata": {},
   "outputs": [],
   "source": [
    "'''\n",
    "    2. early fusion\n",
    "'''\n",
    "def get_early_fusion_dataset():\n",
    "    \n",
    "    all_inputs = [np.concatenate((vector_inputs[i], name_inputs[i], sector_inputs[i]))\n",
    "                     for i in range(len(vector_inputs))]\n",
    "    print(len(all_inputs), all_inputs[0].shape)\n",
    "\n",
    "    x_train = np.array(all_inputs)[train_index]\n",
    "    y_train = np.array(news_y)[train_index]\n",
    "\n",
    "    x_validate = np.array(all_inputs)[validate_index]\n",
    "    y_validate = np.array(news_y)[validate_index]\n",
    "\n",
    "    x_test = np.array(all_inputs)[test_index]\n",
    "\n",
    "    y_test = np.array(news_y)[test_index]\n",
    "\n",
    "    return x_train, y_train, x_validate, y_validate, x_test, y_test"
   ]
  },
  {
   "cell_type": "code",
   "execution_count": 24,
   "id": "front-running",
   "metadata": {},
   "outputs": [
    {
     "name": "stdout",
     "output_type": "stream",
     "text": [
      "8102 (25, 96)\n"
     ]
    }
   ],
   "source": [
    "x_train_early, y_train_early,\\\n",
    "x_validate_early, y_validate_early, \\\n",
    "x_test_early, y_test_early = get_early_fusion_dataset()"
   ]
  },
  {
   "cell_type": "code",
   "execution_count": 25,
   "id": "funny-feedback",
   "metadata": {
    "scrolled": true
   },
   "outputs": [
    {
     "name": "stdout",
     "output_type": "stream",
     "text": [
      "Epoch 1/20\n",
      "152/152 [==============================] - 4s 16ms/step - loss: 0.5919 - accuracy: 0.6841 - val_loss: 0.3826 - val_accuracy: 0.8389\n",
      "Epoch 2/20\n",
      "152/152 [==============================] - 2s 13ms/step - loss: 0.3770 - accuracy: 0.8433 - val_loss: 0.3048 - val_accuracy: 0.8821\n",
      "Epoch 3/20\n",
      "152/152 [==============================] - 2s 14ms/step - loss: 0.2723 - accuracy: 0.8975 - val_loss: 0.2765 - val_accuracy: 0.8988\n",
      "Epoch 4/20\n",
      "152/152 [==============================] - 2s 14ms/step - loss: 0.1824 - accuracy: 0.9349 - val_loss: 0.3430 - val_accuracy: 0.8673\n",
      "Epoch 5/20\n",
      "152/152 [==============================] - 2s 14ms/step - loss: 0.1511 - accuracy: 0.9490 - val_loss: 0.3125 - val_accuracy: 0.8883\n",
      "Epoch 6/20\n",
      "152/152 [==============================] - 2s 14ms/step - loss: 0.1077 - accuracy: 0.9604 - val_loss: 0.3430 - val_accuracy: 0.9000\n",
      "Epoch 7/20\n",
      "152/152 [==============================] - 2s 14ms/step - loss: 0.0751 - accuracy: 0.9753 - val_loss: 0.3818 - val_accuracy: 0.8926\n",
      "Epoch 8/20\n",
      "152/152 [==============================] - 2s 14ms/step - loss: 0.0483 - accuracy: 0.9823 - val_loss: 0.4242 - val_accuracy: 0.8926\n",
      "Epoch 9/20\n",
      "152/152 [==============================] - 2s 14ms/step - loss: 0.0486 - accuracy: 0.9845 - val_loss: 0.4219 - val_accuracy: 0.9012\n",
      "Epoch 10/20\n",
      "152/152 [==============================] - 2s 14ms/step - loss: 0.0257 - accuracy: 0.9906 - val_loss: 0.5381 - val_accuracy: 0.8901\n",
      "Epoch 11/20\n",
      "152/152 [==============================] - 2s 14ms/step - loss: 0.0290 - accuracy: 0.9919 - val_loss: 0.5460 - val_accuracy: 0.8802\n",
      "Epoch 12/20\n",
      "152/152 [==============================] - 2s 14ms/step - loss: 0.0269 - accuracy: 0.9904 - val_loss: 0.5390 - val_accuracy: 0.8827\n",
      "Epoch 13/20\n",
      "152/152 [==============================] - 2s 16ms/step - loss: 0.0130 - accuracy: 0.9960 - val_loss: 0.4925 - val_accuracy: 0.8901\n",
      "Epoch 14/20\n",
      "152/152 [==============================] - 2s 14ms/step - loss: 0.0453 - accuracy: 0.9848 - val_loss: 0.4607 - val_accuracy: 0.9080\n",
      "Epoch 15/20\n",
      "152/152 [==============================] - 2s 14ms/step - loss: 0.0182 - accuracy: 0.9942 - val_loss: 0.4884 - val_accuracy: 0.8932\n",
      "Epoch 16/20\n",
      "152/152 [==============================] - 2s 14ms/step - loss: 0.0232 - accuracy: 0.9921 - val_loss: 0.5154 - val_accuracy: 0.8981\n",
      "Epoch 17/20\n",
      "152/152 [==============================] - 2s 14ms/step - loss: 0.0106 - accuracy: 0.9973 - val_loss: 0.6692 - val_accuracy: 0.8883\n",
      "Epoch 18/20\n",
      "152/152 [==============================] - 2s 15ms/step - loss: 0.0087 - accuracy: 0.9975 - val_loss: 0.5700 - val_accuracy: 0.8914\n",
      "Epoch 19/20\n",
      "152/152 [==============================] - 2s 14ms/step - loss: 0.0117 - accuracy: 0.9954 - val_loss: 0.6152 - val_accuracy: 0.8840\n",
      "Epoch 20/20\n",
      "152/152 [==============================] - 2s 14ms/step - loss: 0.0247 - accuracy: 0.9935 - val_loss: 0.5622 - val_accuracy: 0.8938\n"
     ]
    }
   ],
   "source": [
    "### train model\n",
    "history_early = early_model.fit(\n",
    "    x=x_train_early,\n",
    "    y=y_train_early,\n",
    "    epochs=20,\n",
    "    batch_size=32,\n",
    "    validation_data=(\n",
    "        x_validate_early,\n",
    "        y_validate_early,\n",
    "    )\n",
    ")\n"
   ]
  },
  {
   "cell_type": "code",
   "execution_count": 26,
   "id": "compliant-prague",
   "metadata": {},
   "outputs": [
    {
     "data": {
      "image/png": "[encoded data removed]",
      "text/plain": [
       "<Figure size 432x288 with 1 Axes>"
      ]
     },
     "metadata": {
      "needs_background": "light"
     },
     "output_type": "display_data"
    },
    {
     "data": {
      "image/png": "[encoded data removed]",
      "text/plain": [
       "<Figure size 432x288 with 1 Axes>"
      ]
     },
     "metadata": {
      "needs_background": "light"
     },
     "output_type": "display_data"
    }
   ],
   "source": [
    "graph_plots(history_early, \"accuracy\")\n",
    "graph_plots(history_early, \"loss\")\n"
   ]
  },
  {
   "cell_type": "code",
   "execution_count": 27,
   "id": "massive-municipality",
   "metadata": {},
   "outputs": [
    {
     "name": "stdout",
     "output_type": "stream",
     "text": [
      "TEST accuracy: 0.904996915484269\n"
     ]
    }
   ],
   "source": [
    "predict_test_early = early_model.predict(x_test_early)\n",
    "\n",
    "y_test_pred_early = [x[0] for x in (predict_test_early > 0.5).astype(np.int32)]\n",
    "test_acc_early = (y_test_early == y_test_pred_early).sum()/len(y_test_early)\n",
    "\n",
    "print(\"TEST accuracy: {}\".format(test_acc_early))\n"
   ]
  },
  {
   "cell_type": "code",
   "execution_count": 28,
   "id": "upper-evidence",
   "metadata": {},
   "outputs": [
    {
     "data": {
      "text/plain": [
       "{'0': {'precision': 0.9030144167758847,\n",
       "  'recall': 0.8959687906371911,\n",
       "  'f1-score': 0.8994778067885117,\n",
       "  'support': 769},\n",
       " '1': {'precision': 0.9067599067599068,\n",
       "  'recall': 0.9131455399061033,\n",
       "  'f1-score': 0.9099415204678363,\n",
       "  'support': 852},\n",
       " 'accuracy': 0.904996915484269,\n",
       " 'macro avg': {'precision': 0.9048871617678957,\n",
       "  'recall': 0.9045571652716472,\n",
       "  'f1-score': 0.904709663628174,\n",
       "  'support': 1621},\n",
       " 'weighted avg': {'precision': 0.9049830518569377,\n",
       "  'recall': 0.904996915484269,\n",
       "  'f1-score': 0.9049775501905996,\n",
       "  'support': 1621}}"
      ]
     },
     "execution_count": 28,
     "metadata": {},
     "output_type": "execute_result"
    }
   ],
   "source": [
    "report_early = classification_report(y_test_early, y_test_pred_early, output_dict=True)\n",
    "report_early\n"
   ]
  },
  {
   "cell_type": "code",
   "execution_count": null,
   "id": "historic-flower",
   "metadata": {},
   "outputs": [],
   "source": []
  },
  {
   "cell_type": "code",
   "execution_count": null,
   "id": "flush-marker",
   "metadata": {},
   "outputs": [],
   "source": []
  }
 ],
 "metadata": {
  "kernelspec": {
   "display_name": "Python 3",
   "language": "python",
   "name": "python3"
  },
  "language_info": {
   "codemirror_mode": {
    "name": "ipython",
    "version": 3
   },
   "file_extension": ".py",
   "mimetype": "text/x-python",
   "name": "python",
   "nbconvert_exporter": "python",
   "pygments_lexer": "ipython3",
   "version": "3.7.7"
  }
 },
 "nbformat": 4,
 "nbformat_minor": 5
}
