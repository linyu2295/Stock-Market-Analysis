{
 "cells": [
  {
   "cell_type": "markdown",
   "id": "legendary-contemporary",
   "metadata": {},
   "source": [
    "# Multi-class text classification"
   ]
  },
  {
   "cell_type": "code",
   "execution_count": 11,
   "id": "bronze-brook",
   "metadata": {},
   "outputs": [],
   "source": [
    "import numpy as np\n",
    "import pandas as pd\n",
    "import os\n",
    "\n",
    "from tensorflow.keras.layers import Input, Embedding, Dense, LSTM, Dropout, Concatenate, concatenate, Flatten\n",
    "from tensorflow.keras.models import Model\n",
    "from tensorflow.keras.regularizers import l2\n",
    "from tensorflow import keras\n",
    "from tensorflow.keras.utils import plot_model\n",
    "from sklearn.metrics import classification_report\n",
    "\n",
    "import matplotlib.pyplot as plt\n",
    "\n",
    "### embedding\n",
    "import spacy\n",
    "\n",
    "nlp = spacy.load(\"en_core_web_sm\")\n"
   ]
  },
  {
   "cell_type": "code",
   "execution_count": 2,
   "id": "dying-recorder",
   "metadata": {},
   "outputs": [
    {
     "name": "stdout",
     "output_type": "stream",
     "text": [
      "Data dimension:  (1271, 13)\n"
     ]
    }
   ],
   "source": [
    "news_data = pd.read_csv('Stock market project - all training samples.csv')\n",
    "news_data = news_data[(news_data['news'] != '-')&(~news_data['news'].isnull())].reset_index(drop=True)\n",
    "\n",
    "print('Data dimension: ', news_data.shape)"
   ]
  },
  {
   "cell_type": "code",
   "execution_count": 4,
   "id": "fatal-payday",
   "metadata": {},
   "outputs": [
    {
     "name": "stdout",
     "output_type": "stream",
     "text": [
      "(896, 15)\n"
     ]
    },
    {
     "data": {
      "text/html": [
       "<div>\n",
       "<style scoped>\n",
       "    .dataframe tbody tr th:only-of-type {\n",
       "        vertical-align: middle;\n",
       "    }\n",
       "\n",
       "    .dataframe tbody tr th {\n",
       "        vertical-align: top;\n",
       "    }\n",
       "\n",
       "    .dataframe thead th {\n",
       "        text-align: right;\n",
       "    }\n",
       "</style>\n",
       "<table border=\"1\" class=\"dataframe\">\n",
       "  <thead>\n",
       "    <tr style=\"text-align: right;\">\n",
       "      <th></th>\n",
       "      <th>Symbol</th>\n",
       "      <th>Size</th>\n",
       "      <th>Market_Cap</th>\n",
       "      <th>Name</th>\n",
       "      <th>Security_Type</th>\n",
       "      <th>Sector</th>\n",
       "      <th>Industry</th>\n",
       "      <th>Sub_Industry</th>\n",
       "      <th>Exchange</th>\n",
       "      <th>Headquarters_Location</th>\n",
       "      <th>Unnamed: 10</th>\n",
       "      <th>include ticker</th>\n",
       "      <th>include name (wo delete words)</th>\n",
       "      <th>include full name</th>\n",
       "      <th>Security_Price</th>\n",
       "    </tr>\n",
       "  </thead>\n",
       "  <tbody>\n",
       "    <tr>\n",
       "      <th>0</th>\n",
       "      <td>A</td>\n",
       "      <td>large-cap</td>\n",
       "      <td>2.970259e+10</td>\n",
       "      <td>Agilent Technologies Inc</td>\n",
       "      <td>Common Stock</td>\n",
       "      <td>Health Care</td>\n",
       "      <td>Life Sciences Tools &amp; Services</td>\n",
       "      <td>Life Sciences Tools &amp; Services</td>\n",
       "      <td>NYSE</td>\n",
       "      <td>United States of America</td>\n",
       "      <td>NaN</td>\n",
       "      <td>n</td>\n",
       "      <td>y</td>\n",
       "      <td>n</td>\n",
       "      <td>NaN</td>\n",
       "    </tr>\n",
       "    <tr>\n",
       "      <th>1</th>\n",
       "      <td>AAP</td>\n",
       "      <td>large-cap</td>\n",
       "      <td>1.014335e+10</td>\n",
       "      <td>Advance Auto Parts Inc.</td>\n",
       "      <td>Common Stock</td>\n",
       "      <td>Consumer Discretionary</td>\n",
       "      <td>Specialty Retail</td>\n",
       "      <td>Automotive Retail</td>\n",
       "      <td>NYSE</td>\n",
       "      <td>United States of America</td>\n",
       "      <td>NaN</td>\n",
       "      <td>n</td>\n",
       "      <td>y</td>\n",
       "      <td>n</td>\n",
       "      <td>NaN</td>\n",
       "    </tr>\n",
       "    <tr>\n",
       "      <th>2</th>\n",
       "      <td>AAPL</td>\n",
       "      <td>mega-cap</td>\n",
       "      <td>1.876243e+12</td>\n",
       "      <td>Apple Inc</td>\n",
       "      <td>Common Stock</td>\n",
       "      <td>Information Technology</td>\n",
       "      <td>Technology Hardware, Storage &amp; Peripherals</td>\n",
       "      <td>Technology Hardware, Storage &amp; Peripherals</td>\n",
       "      <td>NASDAQ</td>\n",
       "      <td>United States of America</td>\n",
       "      <td>NaN</td>\n",
       "      <td>y</td>\n",
       "      <td>y</td>\n",
       "      <td>n</td>\n",
       "      <td>NaN</td>\n",
       "    </tr>\n",
       "    <tr>\n",
       "      <th>3</th>\n",
       "      <td>ABB</td>\n",
       "      <td>large-cap</td>\n",
       "      <td>5.349248e+10</td>\n",
       "      <td>ABB Ltd</td>\n",
       "      <td>Depository Receipt</td>\n",
       "      <td>Industrials</td>\n",
       "      <td>Electrical Equipment</td>\n",
       "      <td>Electrical Components &amp; Equipment</td>\n",
       "      <td>NYSE</td>\n",
       "      <td>Switzerland</td>\n",
       "      <td>NaN</td>\n",
       "      <td>n</td>\n",
       "      <td>n</td>\n",
       "      <td>y</td>\n",
       "      <td>NaN</td>\n",
       "    </tr>\n",
       "    <tr>\n",
       "      <th>4</th>\n",
       "      <td>ABBV</td>\n",
       "      <td>large-cap</td>\n",
       "      <td>1.516165e+11</td>\n",
       "      <td>AbbVie Inc</td>\n",
       "      <td>Common Stock</td>\n",
       "      <td>Health Care</td>\n",
       "      <td>Biotechnology</td>\n",
       "      <td>Biotechnology</td>\n",
       "      <td>NYSE</td>\n",
       "      <td>United States of America</td>\n",
       "      <td>NaN</td>\n",
       "      <td>y</td>\n",
       "      <td>y</td>\n",
       "      <td>n</td>\n",
       "      <td>NaN</td>\n",
       "    </tr>\n",
       "  </tbody>\n",
       "</table>\n",
       "</div>"
      ],
      "text/plain": [
       "  Symbol       Size    Market_Cap                      Name  \\\n",
       "0      A  large-cap  2.970259e+10  Agilent Technologies Inc   \n",
       "1    AAP  large-cap  1.014335e+10   Advance Auto Parts Inc.   \n",
       "2   AAPL   mega-cap  1.876243e+12                 Apple Inc   \n",
       "3    ABB  large-cap  5.349248e+10                   ABB Ltd   \n",
       "4   ABBV  large-cap  1.516165e+11                AbbVie Inc   \n",
       "\n",
       "        Security_Type                  Sector  \\\n",
       "0        Common Stock             Health Care   \n",
       "1        Common Stock  Consumer Discretionary   \n",
       "2        Common Stock  Information Technology   \n",
       "3  Depository Receipt             Industrials   \n",
       "4        Common Stock             Health Care   \n",
       "\n",
       "                                     Industry  \\\n",
       "0              Life Sciences Tools & Services   \n",
       "1                            Specialty Retail   \n",
       "2  Technology Hardware, Storage & Peripherals   \n",
       "3                        Electrical Equipment   \n",
       "4                               Biotechnology   \n",
       "\n",
       "                                 Sub_Industry Exchange  \\\n",
       "0              Life Sciences Tools & Services     NYSE   \n",
       "1                           Automotive Retail     NYSE   \n",
       "2  Technology Hardware, Storage & Peripherals   NASDAQ   \n",
       "3           Electrical Components & Equipment     NYSE   \n",
       "4                               Biotechnology     NYSE   \n",
       "\n",
       "      Headquarters_Location  Unnamed: 10 include ticker  \\\n",
       "0  United States of America          NaN              n   \n",
       "1  United States of America          NaN              n   \n",
       "2  United States of America          NaN              y   \n",
       "3               Switzerland          NaN              n   \n",
       "4  United States of America          NaN              y   \n",
       "\n",
       "  include name (wo delete words) include full name  Security_Price  \n",
       "0                              y                 n             NaN  \n",
       "1                              y                 n             NaN  \n",
       "2                              y                 n             NaN  \n",
       "3                              n                 y             NaN  \n",
       "4                              y                 n             NaN  "
      ]
     },
     "execution_count": 4,
     "metadata": {},
     "output_type": "execute_result"
    }
   ],
   "source": [
    "stocks_list = pd.read_csv('all_stocks_list.csv', index_col=0)\n",
    "print(stocks_list.shape)\n",
    "\n",
    "stocks_list.head()"
   ]
  },
  {
   "cell_type": "code",
   "execution_count": 5,
   "id": "consecutive-perception",
   "metadata": {},
   "outputs": [],
   "source": [
    "def return_sector(s):\n",
    "    return stocks_list[stocks_list['Symbol']== s ]['Sector'].values[0]"
   ]
  },
  {
   "cell_type": "code",
   "execution_count": 6,
   "id": "universal-relief",
   "metadata": {},
   "outputs": [],
   "source": [
    "# Function: tokens to vector\n",
    "def tokens_to_vectors(max_num_words, tokens, embed_dim):\n",
    "    vectors = np.zeros((max_num_words, embed_dim)).astype('float32')\n",
    "    c = min(max_num_words, len(tokens))-1\n",
    "    end = max_num_words-1\n",
    "    while c >= 0:\n",
    "        vectors[end] = tokens[c].vector\n",
    "        c -= 1\n",
    "        end -= 1\n",
    "    return vectors\n"
   ]
  },
  {
   "cell_type": "code",
   "execution_count": 7,
   "id": "moderate-cooperative",
   "metadata": {},
   "outputs": [],
   "source": [
    "# Maximum number of words to be used in each case.\n",
    "name_max_num = 5 # np.ceil(np.mean([len(i) for i in name_tokens]))\n",
    "sector_max_num = 3 # np.ceil(np.mean([len(i) for i in sector_tokens]))\n",
    "max_words = 20\n",
    "source_max_num = 5\n",
    "# Length of embedding word vector\n",
    "embed_dim = len(nlp(\"nike\").vector)\n"
   ]
  },
  {
   "cell_type": "code",
   "execution_count": 8,
   "id": "digital-stretch",
   "metadata": {},
   "outputs": [],
   "source": [
    "'''\n",
    "    Complete the training dataset:\n",
    "'''\n",
    "\n",
    "dat = news_data.copy()\n",
    "\n",
    "for i in range(1, dat.shape[0]):\n",
    "    if pd.isnull(dat.iloc[i, 0]): # position \n",
    "        dat.iloc[i, :7] = dat.iloc[i-1, :7]\n"
   ]
  },
  {
   "cell_type": "code",
   "execution_count": 9,
   "id": "upset-harassment",
   "metadata": {},
   "outputs": [
    {
     "name": "stdout",
     "output_type": "stream",
     "text": [
      "Average length of company name:  [2. 4.]\n",
      "1271 (5, 96)\n"
     ]
    }
   ],
   "source": [
    "'''\n",
    "Company name:\n",
    "    - \n",
    "'''\n",
    "name_tokens = [\n",
    "    nlp(text.lower()) for text in dat['name'].tolist()\n",
    "]\n",
    "\n",
    "print('Average length of company name: ', \n",
    "    np.quantile([len(i) for i in name_tokens], [0.5, 0.9]))\n",
    "\n",
    "name_inputs = []\n",
    "for tokens in name_tokens:\n",
    "    name_inputs.append(\n",
    "        np.stack(tokens_to_vectors(name_max_num, tokens, len(name_tokens[0][1].vector)))\n",
    "    )\n",
    "\n",
    "print(len(name_inputs), name_inputs[0].shape)"
   ]
  },
  {
   "cell_type": "code",
   "execution_count": 10,
   "id": "accredited-incidence",
   "metadata": {},
   "outputs": [
    {
     "name": "stdout",
     "output_type": "stream",
     "text": [
      "Average length of sector:  [2. 2.]\n",
      "1271 (3, 96)\n"
     ]
    }
   ],
   "source": [
    "'''\n",
    "Sector:\n",
    "    - \n",
    "'''\n",
    "sector_tokens = [\n",
    "    nlp(text.lower()) for text in [return_sector(s) for s in dat['symbol']]\n",
    "]\n",
    "\n",
    "print('Average length of sector: ', \n",
    "    np.quantile([len(i) for i in sector_tokens], [0.5, 0.8]))\n",
    "\n",
    "sector_inputs = []\n",
    "for tokens in sector_tokens:\n",
    "    sector_inputs.append(\n",
    "        np.stack(tokens_to_vectors(sector_max_num, tokens, len(sector_tokens[0].vector)))\n",
    "    )\n",
    "\n",
    "print(len(sector_inputs), sector_inputs[0].shape)"
   ]
  },
  {
   "cell_type": "code",
   "execution_count": 13,
   "id": "compressed-possibility",
   "metadata": {},
   "outputs": [
    {
     "name": "stdout",
     "output_type": "stream",
     "text": [
      "1271 (1271, 16)\n",
      "50-th and 80-th percentile of the length of titles:  [ 8. 12.]\n",
      "Word embedding vector length:,  96\n",
      "Length of words in each title:  20\n",
      "vector input dimension:  (20, 96)\n"
     ]
    }
   ],
   "source": [
    "'''\n",
    "    news_source_list: list of website names \n",
    "    label: \n",
    "\n",
    "'''\n",
    "\n",
    "dat['news_source'] = ''\n",
    "dat['title'] = ''\n",
    "dat['label'] = ''\n",
    "\n",
    "news_source_list = []\n",
    "news_input_data = []\n",
    "\n",
    "label_names = ['company specific (non-earning) (y/n)',\n",
    "               'company-specific (earning) (y/n)',\n",
    "               'sector-specific (y/n)']\n",
    "multi_labels = ['company', 'earning', 'sector', 'non-relevant']\n",
    "    \n",
    "for i in range(dat.shape[0]):\n",
    "    # news: title + news source\n",
    "    tmp_news = dat.loc[i, 'news']\n",
    "    if tmp_news is not np.nan and tmp_news != '-':\n",
    "        tmp_news_list = tmp_news.split(' - ')\n",
    "        if len(tmp_news_list) > 1:\n",
    "            dat.loc[i, 'title'] = ' - '.join(tmp_news_list[:-1])\n",
    "            dat.loc[i, 'news_source'] = tmp_news_list[-1]\n",
    "            news_source_list.append(tmp_news_list[-1])\n",
    "        else:\n",
    "            dat.loc[i, 'title'] = tmp_news\n",
    "            dat.loc[i, 'news_source'] = ''\n",
    "            news_source_list.append('')\n",
    "    else:\n",
    "        dat.loc[i, 'title'] = ''\n",
    "        dat.loc[i, 'news_source'] = ''\n",
    "        news_source_list.append('')\n",
    "        \n",
    "    news_input_data = [x.lower() for x in dat['title'].tolist()]\n",
    "    \n",
    "    # label:\n",
    "    tmp_label = [(idx, ele) for idx, ele in \\\n",
    "                 enumerate(dat[[label_names[0], label_names[1], label_names[2]]].loc[i].values) \n",
    "                 if ele is not np.nan]\n",
    "\n",
    "    if tmp_label: # [(idx, element)]\n",
    "        if len(tmp_label) == 1:\n",
    "            if tmp_label[0][1] == 'y':\n",
    "                dat.loc[i, 'label'] = multi_labels[tmp_label[0][0]]\n",
    "            else:\n",
    "                dat.loc[i, 'label'] = multi_labels[3]\n",
    "        else:\n",
    "            n = [i[0] for i in tmp_label]\n",
    "            if tmp_label[n.index(max(n))][1] == 'y':\n",
    "                dat.loc[i, 'label'] = multi_labels[tmp_label[n.index(max(n))][0]]\n",
    "            else:\n",
    "                dat.loc[i, 'label'] = multi_labels[3]\n",
    "    else: # []\n",
    "        dat.loc[i, 'label'] = multi_labels[3]\n",
    "\n",
    "\n",
    "print(len(news_source_list), dat.shape)\n",
    "\n",
    "text_tokens = [\n",
    "    nlp(text) for text in news_input_data\n",
    "]\n",
    "# filter掉stopword 和 punct\n",
    "filtered_tokens = [\n",
    "    [token for token in tokens \n",
    "     if not token.is_stop \n",
    "     and not token.is_punct] for tokens in text_tokens\n",
    "]\n",
    "\n",
    "print('50-th and 80-th percentile of the length of titles: ',\n",
    "    np.quantile([len(i) for i in filtered_tokens], [0.5, 0.8]))\n",
    "\n",
    "\n",
    "print('Word embedding vector length:, ', embed_dim)\n",
    "\n",
    "print('Length of words in each title: ', max_words)\n",
    "\n",
    "'''\n",
    "    - vector_input: length = max_words*embed_dim \n",
    "    - each title: \n",
    "        - if length < max_words, pre padding 0s\n",
    "        - if length > max_words, use the first max_words\n",
    "\n",
    "'''\n",
    "vector_inputs = []\n",
    "for tokens in filtered_tokens:\n",
    "    vector_inputs.append(\n",
    "        np.stack(tokens_to_vectors(max_words, tokens, embed_dim))\n",
    "    )\n",
    "\n",
    "print('vector input dimension: ', vector_inputs[0].shape)\n"
   ]
  },
  {
   "cell_type": "code",
   "execution_count": 14,
   "id": "liable-specification",
   "metadata": {},
   "outputs": [
    {
     "name": "stdout",
     "output_type": "stream",
     "text": [
      "Average length of sector:  [2. 3.]\n",
      "1271 (5, 96)\n"
     ]
    }
   ],
   "source": [
    "'''\n",
    "    News source:\n",
    "    - \n",
    "'''\n",
    "source_tokens = [\n",
    "    nlp(text.lower()) for text in news_source_list\n",
    "]\n",
    "\n",
    "print('Average length of sector: ', \n",
    "    np.quantile([len(i) for i in source_tokens], [0.5, 0.9]))\n",
    "\n",
    "source_inputs = []\n",
    "for tokens in source_tokens:\n",
    "    source_inputs.append(\n",
    "        np.stack(tokens_to_vectors(source_max_num, tokens, len(source_tokens[0][1].vector)))\n",
    "    )    \n",
    "\n",
    "print(len(source_inputs), source_inputs[0].shape)"
   ]
  },
  {
   "cell_type": "markdown",
   "id": "departmental-martin",
   "metadata": {},
   "source": [
    "### Multi-labels"
   ]
  },
  {
   "cell_type": "code",
   "execution_count": 29,
   "id": "warming-ivory",
   "metadata": {},
   "outputs": [
    {
     "name": "stdout",
     "output_type": "stream",
     "text": [
      "['company' 'earning' 'non-relevant' 'sector']\n"
     ]
    },
    {
     "data": {
      "text/plain": [
       "(array([[0, 0, 1, 0],\n",
       "        [0, 0, 0, 1],\n",
       "        [0, 0, 1, 0],\n",
       "        [0, 0, 1, 0],\n",
       "        [1, 0, 0, 0]], dtype=uint8),\n",
       " 0    non-relevant\n",
       " 1          sector\n",
       " 2    non-relevant\n",
       " 3    non-relevant\n",
       " 4         company\n",
       " Name: label, dtype: object)"
      ]
     },
     "execution_count": 29,
     "metadata": {},
     "output_type": "execute_result"
    }
   ],
   "source": [
    "'''\n",
    "    Multi-labels: \n",
    "        'company' \n",
    "        'earning' \n",
    "        'non-relevant' \n",
    "        'sector'\n",
    "'''\n",
    "print(np.sort(dat['label'].unique()))\n",
    "\n",
    "news_y = pd.get_dummies(dat['label']).values\n",
    "news_y[:5], dat['label'][:5]"
   ]
  },
  {
   "cell_type": "code",
   "execution_count": 48,
   "id": "fourth-tracy",
   "metadata": {},
   "outputs": [
    {
     "data": {
      "text/plain": [
       "company         583\n",
       "non-relevant    379\n",
       "earning         198\n",
       "sector          111\n",
       "Name: label, dtype: int64"
      ]
     },
     "execution_count": 48,
     "metadata": {},
     "output_type": "execute_result"
    }
   ],
   "source": [
    "dat['label'].value_counts()"
   ]
  },
  {
   "cell_type": "markdown",
   "id": "young-moses",
   "metadata": {},
   "source": [
    "# Multi-class LSTM modeling\n",
    "\n",
    "-  Dataset: name_inputs, sector_inputs, vector_inputs, source_inputs\n"
   ]
  },
  {
   "cell_type": "code",
   "execution_count": 34,
   "id": "sweet-maine",
   "metadata": {},
   "outputs": [],
   "source": [
    "'''\n",
    "    1. Late fusion\n",
    "\n",
    "'''\n",
    "def lstm_late_fusion():\n",
    "    # input layer\n",
    "    '''\n",
    "        News title\n",
    "    '''\n",
    "    input_layer = Input(shape=(max_words, embed_dim), \n",
    "                        name=\"Title_input\")\n",
    "    lstm_layer = LSTM(100, name=\"Title_lstm\")(input_layer) # why 100?\n",
    "\n",
    "    '''\n",
    "        Company Name\n",
    "    '''\n",
    "    input_company_layer = Input(shape=(name_max_num, embed_dim), \n",
    "                                name = 'Company_input')\n",
    "    lstm_company_layer = LSTM(50, name = 'Company_lstm')(input_company_layer)\n",
    "\n",
    "    '''\n",
    "        Sector\n",
    "    '''\n",
    "    input_sector_layer = Input(shape=(sector_max_num, embed_dim), \n",
    "                               name = 'Sector_input')\n",
    "    lstm_sector_layer = LSTM(50, name = 'Sector_lstm')(input_sector_layer)\n",
    "    \n",
    "    '''\n",
    "        News source\n",
    "    '''\n",
    "    input_source_layer = Input(shape=(source_max_num, embed_dim), \n",
    "                               name = 'News_source_input')\n",
    "    lstm_source_layer = LSTM(50, name = 'News_source_lstm')(input_source_layer)\n",
    "\n",
    "\n",
    "    # concatenate layer\n",
    "    concat_layer = concatenate([lstm_layer, lstm_company_layer, \n",
    "                                lstm_sector_layer, lstm_source_layer])\n",
    "\n",
    "    # dropout layer\n",
    "    dropout_layer = Dropout(0.5)(concat_layer)\n",
    "\n",
    "    # fully connected layer\n",
    "    fc_layer = Dense(50)(dropout_layer)\n",
    "\n",
    "    # output layer\n",
    "    out = Dense(\n",
    "        4,\n",
    "        activation=\"softmax\",\n",
    "        name=\"out\"\n",
    "    )(fc_layer)\n",
    "\n",
    "    model = Model(\n",
    "        inputs=[input_layer, input_company_layer, \n",
    "                input_sector_layer, input_source_layer],\n",
    "        outputs=out\n",
    "    )\n",
    "\n",
    "    model.compile(\n",
    "        loss=\"categorical_crossentropy\",\n",
    "        optimizer=\"adam\",\n",
    "        metrics=\"accuracy\"\n",
    "    )\n",
    "    \n",
    "    return model"
   ]
  },
  {
   "cell_type": "code",
   "execution_count": 35,
   "id": "coordinate-browse",
   "metadata": {},
   "outputs": [
    {
     "data": {
      "image/png": "[encoded data removed]",
      "text/plain": [
       "<IPython.core.display.Image object>"
      ]
     },
     "execution_count": 35,
     "metadata": {},
     "output_type": "execute_result"
    }
   ],
   "source": [
    "late_model = lstm_late_fusion()\n",
    "\n",
    "# plot model architecture\n",
    "plot_model(late_model, to_file=\"./multi_class_model_late.png\",\n",
    "           show_shapes=True, show_layer_names=True)\n"
   ]
  },
  {
   "cell_type": "code",
   "execution_count": 36,
   "id": "combined-measurement",
   "metadata": {},
   "outputs": [
    {
     "name": "stdout",
     "output_type": "stream",
     "text": [
      "Model: \"model_2\"\n",
      "__________________________________________________________________________________________________\n",
      "Layer (type)                    Output Shape         Param #     Connected to                     \n",
      "==================================================================================================\n",
      "Title_input (InputLayer)        [(None, 20, 96)]     0                                            \n",
      "__________________________________________________________________________________________________\n",
      "Company_input (InputLayer)      [(None, 5, 96)]      0                                            \n",
      "__________________________________________________________________________________________________\n",
      "Sector_input (InputLayer)       [(None, 3, 96)]      0                                            \n",
      "__________________________________________________________________________________________________\n",
      "News_source_input (InputLayer)  [(None, 5, 96)]      0                                            \n",
      "__________________________________________________________________________________________________\n",
      "Title_lstm (LSTM)               (None, 100)          78800       Title_input[0][0]                \n",
      "__________________________________________________________________________________________________\n",
      "Company_lstm (LSTM)             (None, 50)           29400       Company_input[0][0]              \n",
      "__________________________________________________________________________________________________\n",
      "Sector_lstm (LSTM)              (None, 50)           29400       Sector_input[0][0]               \n",
      "__________________________________________________________________________________________________\n",
      "News_source_lstm (LSTM)         (None, 50)           29400       News_source_input[0][0]          \n",
      "__________________________________________________________________________________________________\n",
      "concatenate_2 (Concatenate)     (None, 250)          0           Title_lstm[0][0]                 \n",
      "                                                                 Company_lstm[0][0]               \n",
      "                                                                 Sector_lstm[0][0]                \n",
      "                                                                 News_source_lstm[0][0]           \n",
      "__________________________________________________________________________________________________\n",
      "dropout_2 (Dropout)             (None, 250)          0           concatenate_2[0][0]              \n",
      "__________________________________________________________________________________________________\n",
      "dense_2 (Dense)                 (None, 50)           12550       dropout_2[0][0]                  \n",
      "__________________________________________________________________________________________________\n",
      "out (Dense)                     (None, 4)            204         dense_2[0][0]                    \n",
      "==================================================================================================\n",
      "Total params: 179,754\n",
      "Trainable params: 179,754\n",
      "Non-trainable params: 0\n",
      "__________________________________________________________________________________________________\n"
     ]
    }
   ],
   "source": [
    "late_model.summary()\n"
   ]
  },
  {
   "cell_type": "code",
   "execution_count": 37,
   "id": "featured-consumption",
   "metadata": {},
   "outputs": [],
   "source": [
    "def graph_plots(history, string):\n",
    "    plt.plot(history.history[string])\n",
    "    plt.plot(history.history['val_'+string])\n",
    "    plt.xlabel(\"Epochs\")\n",
    "    plt.ylabel(string)\n",
    "    plt.legend([string, 'val_'+string])\n",
    "    plt.show()\n"
   ]
  },
  {
   "cell_type": "code",
   "execution_count": 38,
   "id": "private-stock",
   "metadata": {},
   "outputs": [],
   "source": [
    "'''\n",
    "    - split dataset into: training, validation, testing with 6:2:2\n",
    "'''\n",
    "def split_dataset(random_seed, ratio = [0.6, 0.2, 0.2]):\n",
    "    np.random.seed(random_seed)\n",
    "    all_index = np.arange(len(news_input_data))\n",
    "    np.random.shuffle(all_index)\n",
    "    train_index = all_index[:int(ratio[0]*len(news_input_data))]\n",
    "    validate_index = all_index[int(ratio[0]*len(news_input_data)):int(sum(ratio[:2])*len(news_input_data))]\n",
    "    test_index = all_index[int(sum(ratio[:2])*len(news_input_data)):]\n",
    "    print(len(train_index), len(validate_index), len(test_index), len(all_index))\n",
    "\n",
    "    return train_index, validate_index, test_index, all_index"
   ]
  },
  {
   "cell_type": "code",
   "execution_count": 39,
   "id": "fluid-credits",
   "metadata": {},
   "outputs": [],
   "source": [
    "'''\n",
    "    1. late fusion\n",
    "'''\n",
    "def get_late_fusion_dataset():\n",
    "    x_train = [np.array(vector_inputs)[train_index], \n",
    "               np.array(name_inputs)[train_index],\n",
    "               np.array(sector_inputs)[train_index],\n",
    "               np.array(source_inputs)[train_index]]\n",
    "    y_train = np.array(news_y)[train_index]\n",
    "\n",
    "    x_validate = [np.array(vector_inputs)[validate_index],\n",
    "                  np.array(name_inputs)[validate_index],\n",
    "                  np.array(sector_inputs)[validate_index],\n",
    "                  np.array(source_inputs)[validate_index]]\n",
    "    y_validate = np.array(news_y)[validate_index]\n",
    "\n",
    "    x_test = [np.array(vector_inputs)[test_index],\n",
    "              np.array(name_inputs)[test_index],\n",
    "              np.array(sector_inputs)[test_index],\n",
    "              np.array(source_inputs)[test_index]]\n",
    "\n",
    "    y_test = np.array(news_y)[test_index]\n",
    "    \n",
    "    return x_train, y_train, x_validate, y_validate, x_test, y_test"
   ]
  },
  {
   "cell_type": "code",
   "execution_count": 40,
   "id": "czech-understanding",
   "metadata": {},
   "outputs": [
    {
     "name": "stdout",
     "output_type": "stream",
     "text": [
      "762 254 255 1271\n",
      "(762, 20, 96) (762, 5, 96) (762, 3, 96) (762, 5, 96) (762, 4)\n"
     ]
    }
   ],
   "source": [
    "train_index, validate_index, \\\n",
    "test_index, all_index = split_dataset(123456)\n",
    "\n",
    "x_train_late, y_train_late,\\\n",
    "x_validate_late, y_validate_late, \\\n",
    "x_test_late, y_test_late = get_late_fusion_dataset()\n",
    "\n",
    "print(x_train_late[0].shape, x_train_late[1].shape, x_train_late[2].shape,\n",
    "      x_train_late[3].shape, y_train_late.shape)"
   ]
  },
  {
   "cell_type": "code",
   "execution_count": 41,
   "id": "anonymous-chocolate",
   "metadata": {},
   "outputs": [
    {
     "data": {
      "text/plain": [
       "((254, 20, 96), (254, 5, 96))"
      ]
     },
     "execution_count": 41,
     "metadata": {},
     "output_type": "execute_result"
    }
   ],
   "source": [
    "x_validate_late[0].shape, x_validate_late[1].shape"
   ]
  },
  {
   "cell_type": "code",
   "execution_count": 42,
   "id": "statewide-regular",
   "metadata": {
    "scrolled": true
   },
   "outputs": [
    {
     "name": "stdout",
     "output_type": "stream",
     "text": [
      "Epoch 1/10\n",
      "24/24 [==============================] - 7s 70ms/step - loss: 1.3160 - accuracy: 0.4161 - val_loss: 0.9033 - val_accuracy: 0.6220\n",
      "Epoch 2/10\n",
      "24/24 [==============================] - 0s 16ms/step - loss: 0.8423 - accuracy: 0.6751 - val_loss: 0.7073 - val_accuracy: 0.7441\n",
      "Epoch 3/10\n",
      "24/24 [==============================] - 0s 16ms/step - loss: 0.5872 - accuracy: 0.7913 - val_loss: 0.5517 - val_accuracy: 0.8386\n",
      "Epoch 4/10\n",
      "24/24 [==============================] - 0s 14ms/step - loss: 0.4529 - accuracy: 0.8519 - val_loss: 0.5296 - val_accuracy: 0.8150\n",
      "Epoch 5/10\n",
      "24/24 [==============================] - 0s 15ms/step - loss: 0.3292 - accuracy: 0.8872 - val_loss: 0.5415 - val_accuracy: 0.8150\n",
      "Epoch 6/10\n",
      "24/24 [==============================] - 0s 15ms/step - loss: 0.2644 - accuracy: 0.9117 - val_loss: 0.4865 - val_accuracy: 0.8346\n",
      "Epoch 7/10\n",
      "24/24 [==============================] - 0s 14ms/step - loss: 0.1721 - accuracy: 0.9554 - val_loss: 0.4862 - val_accuracy: 0.8465\n",
      "Epoch 8/10\n",
      "24/24 [==============================] - 0s 15ms/step - loss: 0.1574 - accuracy: 0.9464 - val_loss: 0.5028 - val_accuracy: 0.8583\n",
      "Epoch 9/10\n",
      "24/24 [==============================] - 0s 14ms/step - loss: 0.0996 - accuracy: 0.9752 - val_loss: 0.5435 - val_accuracy: 0.8543\n",
      "Epoch 10/10\n",
      "24/24 [==============================] - 0s 14ms/step - loss: 0.0955 - accuracy: 0.9680 - val_loss: 0.5520 - val_accuracy: 0.8346\n"
     ]
    }
   ],
   "source": [
    "### train model\n",
    "history_late = late_model.fit(\n",
    "    x=x_train_late,\n",
    "    y=y_train_late,\n",
    "    epochs=10,\n",
    "    batch_size=32,\n",
    "    validation_data=(\n",
    "        x_validate_late,\n",
    "        y_validate_late,\n",
    "    )\n",
    ")\n"
   ]
  },
  {
   "cell_type": "code",
   "execution_count": 43,
   "id": "recovered-jungle",
   "metadata": {},
   "outputs": [
    {
     "data": {
      "image/png": "[encoded data removed]",
      "text/plain": [
       "<Figure size 432x288 with 1 Axes>"
      ]
     },
     "metadata": {
      "needs_background": "light"
     },
     "output_type": "display_data"
    },
    {
     "data": {
      "image/png": "[encoded data removed]",
      "text/plain": [
       "<Figure size 432x288 with 1 Axes>"
      ]
     },
     "metadata": {
      "needs_background": "light"
     },
     "output_type": "display_data"
    }
   ],
   "source": [
    "graph_plots(history_late, \"accuracy\")\n",
    "graph_plots(history_late, \"loss\")\n"
   ]
  },
  {
   "cell_type": "code",
   "execution_count": 44,
   "id": "planned-synthesis",
   "metadata": {},
   "outputs": [],
   "source": [
    "def return_pred_label(a):\n",
    "    p_zeros = np.zeros(len(a))\n",
    "    p_zeros[np.argmax(a)] = 1\n",
    "    return p_zeros"
   ]
  },
  {
   "cell_type": "code",
   "execution_count": 45,
   "id": "running-stamp",
   "metadata": {},
   "outputs": [
    {
     "name": "stdout",
     "output_type": "stream",
     "text": [
      "8/8 [==============================] - 0s 4ms/step - loss: 0.5911 - accuracy: 0.8235\n",
      "Test set\n",
      "  Loss: 0.591\n",
      "  Accuracy: 0.824\n"
     ]
    }
   ],
   "source": [
    "accr = late_model.evaluate(x_test_late, y_test_late)\n",
    "print('Test set\\n  Loss: {:0.3f}\\n  Accuracy: {:0.3f}'.format(accr[0],accr[1]))"
   ]
  },
  {
   "cell_type": "code",
   "execution_count": 46,
   "id": "extensive-savannah",
   "metadata": {},
   "outputs": [
    {
     "name": "stdout",
     "output_type": "stream",
     "text": [
      "255 4 (255, 20, 96)\n",
      "255\n"
     ]
    }
   ],
   "source": [
    "y_test_pred = late_model.predict(x_test_late)\n",
    "print(len(y_test_pred), len(x_test_late), x_test_late[0].shape)\n",
    "\n",
    "y_test_pred_labels = [return_pred_label(val) for val in y_test_pred]\n",
    "print(len(y_test_pred_labels))"
   ]
  },
  {
   "cell_type": "markdown",
   "id": "requested-reservoir",
   "metadata": {},
   "source": [
    "The reported averages include macro average (averaging the unweighted mean per label), weighted average (averaging the support-weighted mean per label), and sample average (only for multilabel classification)."
   ]
  },
  {
   "cell_type": "code",
   "execution_count": 47,
   "id": "destroyed-married",
   "metadata": {},
   "outputs": [
    {
     "data": {
      "text/plain": [
       "{'0': {'precision': 0.8181818181818182,\n",
       "  'recall': 0.9140625,\n",
       "  'f1-score': 0.8634686346863468,\n",
       "  'support': 128},\n",
       " '1': {'precision': 0.8461538461538461,\n",
       "  'recall': 0.5945945945945946,\n",
       "  'f1-score': 0.6984126984126985,\n",
       "  'support': 37},\n",
       " '2': {'precision': 0.796875,\n",
       "  'recall': 0.7391304347826086,\n",
       "  'f1-score': 0.7669172932330827,\n",
       "  'support': 69},\n",
       " '3': {'precision': 0.9090909090909091,\n",
       "  'recall': 0.9523809523809523,\n",
       "  'f1-score': 0.9302325581395349,\n",
       "  'support': 21},\n",
       " 'micro avg': {'precision': 0.8235294117647058,\n",
       "  'recall': 0.8235294117647058,\n",
       "  'f1-score': 0.8235294117647058,\n",
       "  'support': 255},\n",
       " 'macro avg': {'precision': 0.8425753933566433,\n",
       "  'recall': 0.8000421204395389,\n",
       "  'f1-score': 0.8147577961179157,\n",
       "  'support': 255},\n",
       " 'weighted avg': {'precision': 0.8239617612779377,\n",
       "  'recall': 0.8235294117647058,\n",
       "  'f1-score': 0.8188918903338633,\n",
       "  'support': 255},\n",
       " 'samples avg': {'precision': 0.8235294117647058,\n",
       "  'recall': 0.8235294117647058,\n",
       "  'f1-score': 0.8235294117647058,\n",
       "  'support': 255}}"
      ]
     },
     "execution_count": 47,
     "metadata": {},
     "output_type": "execute_result"
    }
   ],
   "source": [
    "classification_report(y_test_late, y_test_pred_labels, output_dict=True)"
   ]
  },
  {
   "cell_type": "code",
   "execution_count": null,
   "id": "rural-dating",
   "metadata": {},
   "outputs": [],
   "source": []
  }
 ],
 "metadata": {
  "kernelspec": {
   "display_name": "Python 3",
   "language": "python",
   "name": "python3"
  },
  "language_info": {
   "codemirror_mode": {
    "name": "ipython",
    "version": 3
   },
   "file_extension": ".py",
   "mimetype": "text/x-python",
   "name": "python",
   "nbconvert_exporter": "python",
   "pygments_lexer": "ipython3",
   "version": "3.7.7"
  }
 },
 "nbformat": 4,
 "nbformat_minor": 5
}
