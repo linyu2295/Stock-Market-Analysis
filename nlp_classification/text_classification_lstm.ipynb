{
 "cells": [
  {
   "cell_type": "markdown",
   "id": "breeding-bristol",
   "metadata": {},
   "source": [
    "# Text classification\n",
    "\n",
    "- LSTM recurrent neural network model for text classification problem\n",
    "- Goal: classify whether it is a truly related News or not\n",
    "- Input data: News title, company name, sector informatin, etc.\n",
    "- Output data: Y/N for the relateness of company"
   ]
  },
  {
   "cell_type": "code",
   "execution_count": 1,
   "id": "armed-polish",
   "metadata": {},
   "outputs": [],
   "source": [
    "import numpy as np\n",
    "import pandas as pd\n",
    "import os\n",
    "\n",
    "from tensorflow.keras.layers import Input, Embedding, Dense, LSTM, Dropout, Concatenate, concatenate, Flatten\n",
    "from tensorflow.keras.models import Model\n",
    "from tensorflow.keras.regularizers import l2\n",
    "from tensorflow import keras\n",
    "from tensorflow.keras.utils import plot_model\n",
    "from sklearn.metrics import classification_report\n",
    "\n",
    "import matplotlib.pyplot as plt\n",
    "\n",
    "### embedding\n",
    "import spacy\n",
    "\n",
    "nlp = spacy.load(\"en_core_web_sm\")\n"
   ]
  },
  {
   "cell_type": "code",
   "execution_count": 2,
   "id": "palestinian-narrative",
   "metadata": {},
   "outputs": [
    {
     "name": "stdout",
     "output_type": "stream",
     "text": [
      "Data dimension:  (8102, 7)\n",
      "Number of 1:  4227\n"
     ]
    }
   ],
   "source": [
    "news_data = pd.read_csv('Stock market project - News data_ 2021_01_27.csv')\n",
    "print('Data dimension: ', news_data.shape)\n",
    "\n",
    "news_y = [1 if x == 'y' else 0 for x in news_data['label'].tolist()]\n",
    "print('Number of 1: ', sum(news_y))\n"
   ]
  },
  {
   "cell_type": "markdown",
   "id": "elect-weight",
   "metadata": {},
   "source": [
    "## Text pre-processing\n",
    "- convert all text to lower case\n",
    "- remove News sources\n",
    "- remove stop words\n",
    "- remove punctuation\n",
    "\n",
    "## Modeling preparation\n",
    "- vectorize each News title/company name/sector, by turning each text into a vector\n",
    "- Set the max number of words in each News title at 20, each company name at 3, and each sector at 2. \n",
    "- Truncate and pad the input sequences so that they are all in the same length for modeling"
   ]
  },
  {
   "cell_type": "code",
   "execution_count": 3,
   "id": "copyrighted-swift",
   "metadata": {},
   "outputs": [],
   "source": [
    "# Function: tokens to vector\n",
    "def tokens_to_vectors(max_num_words, tokens, embed_dim):\n",
    "    vectors = np.zeros((max_num_words, embed_dim)).astype('float32')\n",
    "    c = min(max_num_words, len(tokens))-1\n",
    "    end = max_num_words-1\n",
    "    while c >= 0:\n",
    "        vectors[end] = tokens[c].vector\n",
    "        c -= 1\n",
    "        end -= 1\n",
    "    return vectors\n"
   ]
  },
  {
   "cell_type": "code",
   "execution_count": 4,
   "id": "requested-norfolk",
   "metadata": {},
   "outputs": [],
   "source": [
    "def get_input_data(tmp_data, name_max_num, sector_max_num, max_words, embed_dim):\n",
    "\n",
    "    '''\n",
    "    Company name:\n",
    "        - \n",
    "    '''\n",
    "    name_tokens = [\n",
    "        nlp(text.lower()) for text in tmp_data['Name'].tolist()\n",
    "    ]\n",
    "\n",
    "    print('Average length of company name: ', \n",
    "        np.mean([len(i) for i in name_tokens]))\n",
    "\n",
    "    name_inputs = []\n",
    "    for tokens in name_tokens:\n",
    "        name_inputs.append(\n",
    "            np.stack(tokens_to_vectors(name_max_num, tokens, len(name_tokens[0][1].vector)))\n",
    "        )\n",
    "\n",
    "    '''\n",
    "    Sector:\n",
    "        - \n",
    "    '''\n",
    "    sector_tokens = [\n",
    "        nlp(text.lower()) for text in tmp_data['Sector'].tolist()\n",
    "    ]\n",
    "\n",
    "    print('Average length of sector: ', \n",
    "        np.mean([len(i) for i in sector_tokens]))\n",
    "\n",
    "    sector_inputs = []\n",
    "    for tokens in sector_tokens:\n",
    "        sector_inputs.append(\n",
    "            np.stack(tokens_to_vectors(sector_max_num, tokens, len(sector_tokens[0][1].vector)))\n",
    "        )\n",
    "\n",
    "    '''\n",
    "    News title:\n",
    "        - remove news sources\n",
    "        - remove stopwords\n",
    "\n",
    "    '''\n",
    "    news_all_data = tmp_data['title'].tolist()\n",
    "\n",
    "    news_input_data = []\n",
    "    for i in range(len(news_all_data)):\n",
    "        tmp_list = news_all_data[i].split(' - ')\n",
    "        if len(tmp_list) > 1:\n",
    "            tmp_list = ' - '.join(tmp_list[:-1])\n",
    "        else:\n",
    "            tmp_list = news_all_data[i]\n",
    "        news_input_data.append(tmp_list.lower())\n",
    "\n",
    "    text_tokens = [\n",
    "        nlp(text) for text in news_input_data\n",
    "    ]\n",
    "    # filter掉stopword 和 punct\n",
    "    filtered_tokens = [\n",
    "        [token for token in tokens \n",
    "         if not token.is_stop \n",
    "         and not token.is_punct] for tokens in text_tokens\n",
    "    ]\n",
    "\n",
    "    print('50-th and 80-th percentile of the length of titles: ',\n",
    "        np.quantile([len(i) for i in filtered_tokens], [0.5, 0.8]))\n",
    "\n",
    "\n",
    "    print('Word embedding vector length:, ', embed_dim)\n",
    "\n",
    "    print('Length of words in each title: ', max_words)\n",
    "\n",
    "    '''\n",
    "        - vector_input: length = max_words*embed_dim \n",
    "        - each title: \n",
    "            - if length < max_words, pre padding 0s\n",
    "            - if length > max_words, use the first max_words\n",
    "\n",
    "    '''\n",
    "    vector_inputs = []\n",
    "    for tokens in filtered_tokens:\n",
    "        vector_inputs.append(\n",
    "            np.stack(tokens_to_vectors(max_words, tokens, embed_dim))\n",
    "        )\n",
    "\n",
    "    print('vector input dimension: ', vector_inputs[0].shape)\n",
    "\n",
    "    return name_inputs, sector_inputs, vector_inputs, news_input_data\n"
   ]
  },
  {
   "cell_type": "code",
   "execution_count": 5,
   "id": "numeric-shopper",
   "metadata": {},
   "outputs": [],
   "source": [
    "# Maximum number of words to be used in each case.\n",
    "name_max_num = 3 # np.ceil(np.mean([len(i) for i in name_tokens]))\n",
    "sector_max_num = 2 # np.ceil(np.mean([len(i) for i in sector_tokens]))\n",
    "max_words = 20\n",
    "# Length of embedding word vector\n",
    "embed_dim = len(nlp(\"nike\").vector)\n"
   ]
  },
  {
   "cell_type": "code",
   "execution_count": 6,
   "id": "guided-bryan",
   "metadata": {},
   "outputs": [
    {
     "name": "stdout",
     "output_type": "stream",
     "text": [
      "Average length of company name:  2.8754628486793385\n",
      "Average length of sector:  1.649469266847692\n",
      "50-th and 80-th percentile of the length of titles:  [ 9. 12.]\n",
      "Word embedding vector length:,  96\n",
      "Length of words in each title:  20\n",
      "vector input dimension:  (20, 96)\n"
     ]
    }
   ],
   "source": [
    "name_inputs, \\\n",
    "sector_inputs, \\\n",
    "vector_inputs, \\\n",
    "news_input_data = get_input_data(news_data, name_max_num, sector_max_num, \n",
    "                                 max_words, embed_dim)"
   ]
  },
  {
   "cell_type": "markdown",
   "id": "technological-cosmetic",
   "metadata": {},
   "source": [
    "## LSTM modeling \n",
    "- late fusion: three input features pass into three individual lstm model, then combine to get a final output\n",
    "- early fusion: concatenate three features in the input layer and pass into one lstm model to get the final output\n"
   ]
  },
  {
   "cell_type": "code",
   "execution_count": 7,
   "id": "likely-paste",
   "metadata": {},
   "outputs": [],
   "source": [
    "'''\n",
    "    1. Late fusion\n",
    "\n",
    "'''\n",
    "def lstm_late_fusion():\n",
    "    # input layer\n",
    "    '''\n",
    "        News title\n",
    "    '''\n",
    "    input_layer = Input(shape=(max_words, embed_dim), \n",
    "                        name=\"input_title\")\n",
    "    lstm_layer = LSTM(100, name=\"lstm_title\")(input_layer) # why 100?\n",
    "\n",
    "    '''\n",
    "        Company Name\n",
    "    '''\n",
    "    input_company_layer = Input(shape=(name_max_num, embed_dim), \n",
    "                                name = 'input_company')\n",
    "    lstm_company_layer = LSTM(50, name = 'lstm_company')(input_company_layer)\n",
    "\n",
    "    '''\n",
    "        Sector\n",
    "    '''\n",
    "    input_sector_layer = Input(shape=(sector_max_num, embed_dim), \n",
    "                               name = 'input_sector')\n",
    "    lstm_sector_layer = LSTM(50, name = 'lstm_sector')(input_sector_layer)\n",
    "\n",
    "    # concatenate layer\n",
    "    concat_layer = concatenate([lstm_layer, lstm_company_layer, lstm_sector_layer])\n",
    "\n",
    "    # dropout layer\n",
    "    dropout_layer = Dropout(0.5)(concat_layer)\n",
    "\n",
    "    # fully connected layer\n",
    "    fc_layer = Dense(50)(dropout_layer)\n",
    "\n",
    "    # output layer\n",
    "    out = Dense(\n",
    "        1,\n",
    "        activation=\"sigmoid\",\n",
    "        name=\"out\"\n",
    "    )(fc_layer)\n",
    "\n",
    "    model = Model(\n",
    "        inputs=[input_layer, input_company_layer, input_sector_layer],\n",
    "        outputs=out\n",
    "    )\n",
    "\n",
    "    model.compile(\n",
    "        loss=\"binary_crossentropy\",\n",
    "        optimizer=\"adam\",\n",
    "        metrics=\"accuracy\"\n",
    "    )\n",
    "    \n",
    "    return model"
   ]
  },
  {
   "cell_type": "code",
   "execution_count": 8,
   "id": "joined-nashville",
   "metadata": {},
   "outputs": [
    {
     "data": {
      "image/png": "[encoded data removed]",
      "text/plain": [
       "<IPython.core.display.Image object>"
      ]
     },
     "execution_count": 8,
     "metadata": {},
     "output_type": "execute_result"
    }
   ],
   "source": [
    "late_model = lstm_late_fusion()\n",
    "\n",
    "# plot model architecture\n",
    "plot_model(late_model, to_file=\"./model_late.png\")\n"
   ]
  },
  {
   "cell_type": "code",
   "execution_count": 9,
   "id": "pending-happening",
   "metadata": {},
   "outputs": [
    {
     "name": "stdout",
     "output_type": "stream",
     "text": [
      "Model: \"model\"\n",
      "__________________________________________________________________________________________________\n",
      "Layer (type)                    Output Shape         Param #     Connected to                     \n",
      "==================================================================================================\n",
      "input_title (InputLayer)        [(None, 20, 96)]     0                                            \n",
      "__________________________________________________________________________________________________\n",
      "input_company (InputLayer)      [(None, 3, 96)]      0                                            \n",
      "__________________________________________________________________________________________________\n",
      "input_sector (InputLayer)       [(None, 2, 96)]      0                                            \n",
      "__________________________________________________________________________________________________\n",
      "lstm_title (LSTM)               (None, 100)          78800       input_title[0][0]                \n",
      "__________________________________________________________________________________________________\n",
      "lstm_company (LSTM)             (None, 50)           29400       input_company[0][0]              \n",
      "__________________________________________________________________________________________________\n",
      "lstm_sector (LSTM)              (None, 50)           29400       input_sector[0][0]               \n",
      "__________________________________________________________________________________________________\n",
      "concatenate (Concatenate)       (None, 200)          0           lstm_title[0][0]                 \n",
      "                                                                 lstm_company[0][0]               \n",
      "                                                                 lstm_sector[0][0]                \n",
      "__________________________________________________________________________________________________\n",
      "dropout (Dropout)               (None, 200)          0           concatenate[0][0]                \n",
      "__________________________________________________________________________________________________\n",
      "dense (Dense)                   (None, 50)           10050       dropout[0][0]                    \n",
      "__________________________________________________________________________________________________\n",
      "out (Dense)                     (None, 1)            51          dense[0][0]                      \n",
      "==================================================================================================\n",
      "Total params: 147,701\n",
      "Trainable params: 147,701\n",
      "Non-trainable params: 0\n",
      "__________________________________________________________________________________________________\n"
     ]
    }
   ],
   "source": [
    "late_model.summary()\n"
   ]
  },
  {
   "cell_type": "code",
   "execution_count": 10,
   "id": "bigger-nelson",
   "metadata": {},
   "outputs": [],
   "source": [
    "'''\n",
    "    2. early fusion\n",
    "\n",
    "'''\n",
    "def lstm_early_fusion():\n",
    "    # input layer\n",
    "    '''\n",
    "        All: News title + company name + sector\n",
    "    '''\n",
    "    input_layer = Input(shape=(max_words+name_max_num+sector_max_num, embed_dim), \n",
    "                        name=\"input_layer\")\n",
    "    lstm_layer = LSTM(100, name=\"lstm\")(input_layer) # why 100?\n",
    "\n",
    "\n",
    "    dropout_layer = Dropout(0.5)(lstm_layer)\n",
    "    fc_layer = Dense(50)(dropout_layer)\n",
    "\n",
    "    # output layer\n",
    "    out = Dense(\n",
    "        1,\n",
    "        activation=\"sigmoid\",\n",
    "        name=\"out\"\n",
    "    )(fc_layer)\n",
    "\n",
    "    model = Model(\n",
    "        inputs=input_layer,\n",
    "        outputs=out\n",
    "    )\n",
    "\n",
    "    model.compile(\n",
    "        loss=\"binary_crossentropy\",\n",
    "        optimizer=\"adam\",\n",
    "        metrics=\"accuracy\"\n",
    "    )\n",
    "\n",
    "    return model"
   ]
  },
  {
   "cell_type": "code",
   "execution_count": 11,
   "id": "comparable-integer",
   "metadata": {},
   "outputs": [
    {
     "data": {
      "image/png": "[encoded data removed]",
      "text/plain": [
       "<IPython.core.display.Image object>"
      ]
     },
     "execution_count": 11,
     "metadata": {},
     "output_type": "execute_result"
    }
   ],
   "source": [
    "early_model = lstm_early_fusion()\n",
    "\n",
    "plot_model(early_model, to_file=\"./model_early.png\")\n"
   ]
  },
  {
   "cell_type": "code",
   "execution_count": 12,
   "id": "dental-apollo",
   "metadata": {},
   "outputs": [
    {
     "name": "stdout",
     "output_type": "stream",
     "text": [
      "Model: \"model_1\"\n",
      "_________________________________________________________________\n",
      "Layer (type)                 Output Shape              Param #   \n",
      "=================================================================\n",
      "input_layer (InputLayer)     [(None, 25, 96)]          0         \n",
      "_________________________________________________________________\n",
      "lstm (LSTM)                  (None, 100)               78800     \n",
      "_________________________________________________________________\n",
      "dropout_1 (Dropout)          (None, 100)               0         \n",
      "_________________________________________________________________\n",
      "dense_1 (Dense)              (None, 50)                5050      \n",
      "_________________________________________________________________\n",
      "out (Dense)                  (None, 1)                 51        \n",
      "=================================================================\n",
      "Total params: 83,901\n",
      "Trainable params: 83,901\n",
      "Non-trainable params: 0\n",
      "_________________________________________________________________\n"
     ]
    }
   ],
   "source": [
    "early_model.summary()\n"
   ]
  },
  {
   "cell_type": "code",
   "execution_count": 13,
   "id": "forty-captain",
   "metadata": {},
   "outputs": [],
   "source": [
    "def graph_plots(history, string):\n",
    "    plt.plot(history.history[string])\n",
    "    plt.plot(history.history['val_'+string])\n",
    "    plt.xlabel(\"Epochs\")\n",
    "    plt.ylabel(string)\n",
    "    plt.legend([string, 'val_'+string])\n",
    "    plt.show()\n"
   ]
  },
  {
   "cell_type": "code",
   "execution_count": 14,
   "id": "occupied-reunion",
   "metadata": {},
   "outputs": [
    {
     "name": "stdout",
     "output_type": "stream",
     "text": [
      "4861 1620 1621 8102\n"
     ]
    }
   ],
   "source": [
    "'''\n",
    "    - split dataset into: training, validation, testing with 6:2:2\n",
    "'''\n",
    "np.random.seed(12345)\n",
    "all_index = np.arange(len(news_input_data))\n",
    "np.random.shuffle(all_index)\n",
    "train_index = all_index[:int(0.6*len(news_input_data))]\n",
    "validate_index = all_index[int(0.6*len(news_input_data)):int(0.8*len(news_input_data))]\n",
    "test_index = all_index[int(0.8*len(news_input_data)):]\n",
    "\n",
    "print(len(train_index), len(validate_index), len(test_index), len(all_index))\n"
   ]
  },
  {
   "cell_type": "code",
   "execution_count": 15,
   "id": "linear-humidity",
   "metadata": {},
   "outputs": [],
   "source": [
    "'''\n",
    "    1. late fusion\n",
    "'''\n",
    "def get_late_fusion_dataset():\n",
    "    x_train = [np.array(vector_inputs)[train_index], \n",
    "               np.array(name_inputs)[train_index],\n",
    "               np.array(sector_inputs)[train_index]]\n",
    "    y_train = np.array(news_y)[train_index]\n",
    "\n",
    "    x_validate = [np.array(vector_inputs)[validate_index],\n",
    "                  np.array(name_inputs)[validate_index],\n",
    "                  np.array(sector_inputs)[validate_index]]\n",
    "    y_validate = np.array(news_y)[validate_index]\n",
    "\n",
    "    x_test = [np.array(vector_inputs)[test_index],\n",
    "              np.array(name_inputs)[test_index],\n",
    "              np.array(sector_inputs)[test_index]]\n",
    "\n",
    "    y_test = np.array(news_y)[test_index]\n",
    "    \n",
    "    return x_train, y_train, x_validate, y_validate, x_test, y_test"
   ]
  },
  {
   "cell_type": "code",
   "execution_count": 16,
   "id": "excessive-cooperation",
   "metadata": {},
   "outputs": [],
   "source": [
    "x_train_late, y_train_late,\\\n",
    "x_validate_late, y_validate_late, \\\n",
    "x_test_late, y_test_late = get_late_fusion_dataset()"
   ]
  },
  {
   "cell_type": "code",
   "execution_count": 17,
   "id": "vertical-hazard",
   "metadata": {
    "scrolled": true
   },
   "outputs": [
    {
     "name": "stdout",
     "output_type": "stream",
     "text": [
      "Epoch 1/20\n",
      "152/152 [==============================] - 8s 25ms/step - loss: 0.5615 - accuracy: 0.7054 - val_loss: 0.3830 - val_accuracy: 0.8327\n",
      "Epoch 2/20\n",
      "152/152 [==============================] - 2s 13ms/step - loss: 0.3496 - accuracy: 0.8532 - val_loss: 0.2957 - val_accuracy: 0.8833\n",
      "Epoch 3/20\n",
      "152/152 [==============================] - 2s 13ms/step - loss: 0.2470 - accuracy: 0.9033 - val_loss: 0.2708 - val_accuracy: 0.8981\n",
      "Epoch 4/20\n",
      "152/152 [==============================] - 2s 13ms/step - loss: 0.2026 - accuracy: 0.9182 - val_loss: 0.2443 - val_accuracy: 0.9099\n",
      "Epoch 5/20\n",
      "152/152 [==============================] - 2s 13ms/step - loss: 0.1506 - accuracy: 0.9438 - val_loss: 0.2833 - val_accuracy: 0.9099\n",
      "Epoch 6/20\n",
      "152/152 [==============================] - 2s 15ms/step - loss: 0.1270 - accuracy: 0.9519 - val_loss: 0.3281 - val_accuracy: 0.9000\n",
      "Epoch 7/20\n",
      "152/152 [==============================] - 2s 13ms/step - loss: 0.0891 - accuracy: 0.9694 - val_loss: 0.2954 - val_accuracy: 0.9043\n",
      "Epoch 8/20\n",
      "152/152 [==============================] - 2s 14ms/step - loss: 0.0829 - accuracy: 0.9713 - val_loss: 0.3224 - val_accuracy: 0.8969\n",
      "Epoch 9/20\n",
      "152/152 [==============================] - 2s 13ms/step - loss: 0.0600 - accuracy: 0.9810 - val_loss: 0.3383 - val_accuracy: 0.9117\n",
      "Epoch 10/20\n",
      "152/152 [==============================] - 2s 13ms/step - loss: 0.0514 - accuracy: 0.9818 - val_loss: 0.3365 - val_accuracy: 0.9148\n",
      "Epoch 11/20\n",
      "152/152 [==============================] - 2s 14ms/step - loss: 0.0483 - accuracy: 0.9820 - val_loss: 0.3690 - val_accuracy: 0.9056\n",
      "Epoch 12/20\n",
      "152/152 [==============================] - 2s 14ms/step - loss: 0.0439 - accuracy: 0.9868 - val_loss: 0.4594 - val_accuracy: 0.9000\n",
      "Epoch 13/20\n",
      "152/152 [==============================] - 2s 14ms/step - loss: 0.0403 - accuracy: 0.9843 - val_loss: 0.4142 - val_accuracy: 0.9093\n",
      "Epoch 14/20\n",
      "152/152 [==============================] - 2s 13ms/step - loss: 0.0383 - accuracy: 0.9872 - val_loss: 0.4122 - val_accuracy: 0.9056\n",
      "Epoch 15/20\n",
      "152/152 [==============================] - 2s 13ms/step - loss: 0.0259 - accuracy: 0.9906 - val_loss: 0.4374 - val_accuracy: 0.9049\n",
      "Epoch 16/20\n",
      "152/152 [==============================] - 2s 13ms/step - loss: 0.0259 - accuracy: 0.9917 - val_loss: 0.4063 - val_accuracy: 0.9062\n",
      "Epoch 17/20\n",
      "152/152 [==============================] - 2s 15ms/step - loss: 0.0371 - accuracy: 0.9868 - val_loss: 0.4302 - val_accuracy: 0.9006\n",
      "Epoch 18/20\n",
      "152/152 [==============================] - 2s 15ms/step - loss: 0.0340 - accuracy: 0.9877 - val_loss: 0.4495 - val_accuracy: 0.9019\n",
      "Epoch 19/20\n",
      "152/152 [==============================] - 2s 14ms/step - loss: 0.0311 - accuracy: 0.9876 - val_loss: 0.3939 - val_accuracy: 0.9093\n",
      "Epoch 20/20\n",
      "152/152 [==============================] - 3s 18ms/step - loss: 0.0247 - accuracy: 0.9910 - val_loss: 0.4634 - val_accuracy: 0.8975\n"
     ]
    }
   ],
   "source": [
    "### train model\n",
    "history_late = late_model.fit(\n",
    "    x=x_train_late,\n",
    "    y=y_train_late,\n",
    "    epochs=20,\n",
    "    batch_size=32,\n",
    "    validation_data=(\n",
    "        x_validate_late,\n",
    "        y_validate_late,\n",
    "    )\n",
    ")\n"
   ]
  },
  {
   "cell_type": "code",
   "execution_count": 18,
   "id": "characteristic-leisure",
   "metadata": {},
   "outputs": [
    {
     "data": {
      "image/png": "[encoded data removed]",
      "text/plain": [
       "<Figure size 432x288 with 1 Axes>"
      ]
     },
     "metadata": {
      "needs_background": "light"
     },
     "output_type": "display_data"
    },
    {
     "data": {
      "image/png": "[encoded data removed]",
      "text/plain": [
       "<Figure size 432x288 with 1 Axes>"
      ]
     },
     "metadata": {
      "needs_background": "light"
     },
     "output_type": "display_data"
    }
   ],
   "source": [
    "graph_plots(history_late, \"accuracy\")\n",
    "graph_plots(history_late, \"loss\")\n"
   ]
  },
  {
   "cell_type": "code",
   "execution_count": 19,
   "id": "european-blame",
   "metadata": {},
   "outputs": [
    {
     "name": "stdout",
     "output_type": "stream",
     "text": [
      "TEST accuracy: 0.9117828500925355\n"
     ]
    }
   ],
   "source": [
    "predict_test_late = late_model.predict(x_test_late)\n",
    "\n",
    "y_test_pred_late = [x[0] for x in (predict_test_late > 0.5).astype(np.int32)]\n",
    "test_acc_late = (y_test_late == y_test_pred_late).sum()/len(y_test_late)\n",
    "\n",
    "print(\"TEST accuracy: {}\".format(test_acc_late))\n"
   ]
  },
  {
   "cell_type": "code",
   "execution_count": 20,
   "id": "natural-camping",
   "metadata": {},
   "outputs": [
    {
     "data": {
      "text/plain": [
       "{'0': {'precision': 0.9064935064935065,\n",
       "  'recall': 0.9076723016905072,\n",
       "  'f1-score': 0.9070825211176089,\n",
       "  'support': 769},\n",
       " '1': {'precision': 0.9165687426556992,\n",
       "  'recall': 0.9154929577464789,\n",
       "  'f1-score': 0.916030534351145,\n",
       "  'support': 852},\n",
       " 'accuracy': 0.9117828500925355,\n",
       " 'macro avg': {'precision': 0.9115311245746028,\n",
       "  'recall': 0.911582629718493,\n",
       "  'f1-score': 0.9115565277343769,\n",
       "  'support': 1621},\n",
       " 'weighted avg': {'precision': 0.9117890655374228,\n",
       "  'recall': 0.9117828500925355,\n",
       "  'f1-score': 0.9117856101212936,\n",
       "  'support': 1621}}"
      ]
     },
     "execution_count": 20,
     "metadata": {},
     "output_type": "execute_result"
    }
   ],
   "source": [
    "report_late = classification_report(y_test_late, y_test_pred_late, output_dict=True)\n",
    "report_late\n"
   ]
  },
  {
   "cell_type": "code",
   "execution_count": 21,
   "id": "broad-davis",
   "metadata": {},
   "outputs": [],
   "source": [
    "'''\n",
    "    2. early fusion\n",
    "'''\n",
    "def get_early_fusion_dataset():\n",
    "    \n",
    "    all_inputs = [np.concatenate((vector_inputs[i], name_inputs[i], sector_inputs[i]))\n",
    "                     for i in range(len(vector_inputs))]\n",
    "    print(len(all_inputs), all_inputs[0].shape)\n",
    "\n",
    "    x_train = np.array(all_inputs)[train_index]\n",
    "    y_train = np.array(news_y)[train_index]\n",
    "\n",
    "    x_validate = np.array(all_inputs)[validate_index]\n",
    "    y_validate = np.array(news_y)[validate_index]\n",
    "\n",
    "    x_test = np.array(all_inputs)[test_index]\n",
    "\n",
    "    y_test = np.array(news_y)[test_index]\n",
    "\n",
    "    return x_train, y_train, x_validate, y_validate, x_test, y_test"
   ]
  },
  {
   "cell_type": "code",
   "execution_count": 22,
   "id": "supposed-techno",
   "metadata": {},
   "outputs": [
    {
     "name": "stdout",
     "output_type": "stream",
     "text": [
      "8102 (25, 96)\n"
     ]
    }
   ],
   "source": [
    "x_train_early, y_train_early,\\\n",
    "x_validate_early, y_validate_early, \\\n",
    "x_test_early, y_test_early = get_early_fusion_dataset()"
   ]
  },
  {
   "cell_type": "code",
   "execution_count": 23,
   "id": "ultimate-programmer",
   "metadata": {
    "scrolled": true
   },
   "outputs": [
    {
     "name": "stdout",
     "output_type": "stream",
     "text": [
      "Epoch 1/20\n",
      "152/152 [==============================] - 4s 18ms/step - loss: 0.5980 - accuracy: 0.6786 - val_loss: 0.3818 - val_accuracy: 0.8389\n",
      "Epoch 2/20\n",
      "152/152 [==============================] - 3s 16ms/step - loss: 0.3742 - accuracy: 0.8408 - val_loss: 0.2869 - val_accuracy: 0.8926\n",
      "Epoch 3/20\n",
      "152/152 [==============================] - 3s 17ms/step - loss: 0.2559 - accuracy: 0.9012 - val_loss: 0.2761 - val_accuracy: 0.8944\n",
      "Epoch 4/20\n",
      "152/152 [==============================] - 3s 19ms/step - loss: 0.1779 - accuracy: 0.9341 - val_loss: 0.2798 - val_accuracy: 0.8852\n",
      "Epoch 5/20\n",
      "152/152 [==============================] - 3s 22ms/step - loss: 0.1375 - accuracy: 0.9527 - val_loss: 0.3397 - val_accuracy: 0.8889\n",
      "Epoch 6/20\n",
      "152/152 [==============================] - 3s 17ms/step - loss: 0.1012 - accuracy: 0.9624 - val_loss: 0.4398 - val_accuracy: 0.8562\n",
      "Epoch 7/20\n",
      "152/152 [==============================] - 3s 16ms/step - loss: 0.0654 - accuracy: 0.9775 - val_loss: 0.4553 - val_accuracy: 0.8858\n",
      "Epoch 8/20\n",
      "152/152 [==============================] - 2s 15ms/step - loss: 0.0429 - accuracy: 0.9845 - val_loss: 0.4894 - val_accuracy: 0.8951\n",
      "Epoch 9/20\n",
      "152/152 [==============================] - 2s 16ms/step - loss: 0.0426 - accuracy: 0.9849 - val_loss: 0.4560 - val_accuracy: 0.8889\n",
      "Epoch 10/20\n",
      "152/152 [==============================] - 2s 15ms/step - loss: 0.0250 - accuracy: 0.9918 - val_loss: 0.5348 - val_accuracy: 0.8735\n",
      "Epoch 11/20\n",
      "152/152 [==============================] - 2s 16ms/step - loss: 0.0305 - accuracy: 0.9902 - val_loss: 0.5642 - val_accuracy: 0.8914\n",
      "Epoch 12/20\n",
      "152/152 [==============================] - 3s 17ms/step - loss: 0.0277 - accuracy: 0.9943 - val_loss: 0.5839 - val_accuracy: 0.8901\n",
      "Epoch 13/20\n",
      "152/152 [==============================] - 2s 14ms/step - loss: 0.0210 - accuracy: 0.9904 - val_loss: 0.4839 - val_accuracy: 0.8870\n",
      "Epoch 14/20\n",
      "152/152 [==============================] - 2s 15ms/step - loss: 0.0213 - accuracy: 0.9935 - val_loss: 0.5850 - val_accuracy: 0.8827\n",
      "Epoch 15/20\n",
      "152/152 [==============================] - 3s 17ms/step - loss: 0.0190 - accuracy: 0.9945 - val_loss: 0.5748 - val_accuracy: 0.8926\n",
      "Epoch 16/20\n",
      "152/152 [==============================] - 2s 15ms/step - loss: 0.0070 - accuracy: 0.9991 - val_loss: 0.7360 - val_accuracy: 0.8809\n",
      "Epoch 17/20\n",
      "152/152 [==============================] - 2s 14ms/step - loss: 0.0282 - accuracy: 0.9901 - val_loss: 0.5171 - val_accuracy: 0.8870\n",
      "Epoch 18/20\n",
      "152/152 [==============================] - 2s 14ms/step - loss: 0.0300 - accuracy: 0.9906 - val_loss: 0.5463 - val_accuracy: 0.8926\n",
      "Epoch 19/20\n",
      "152/152 [==============================] - 2s 16ms/step - loss: 0.0067 - accuracy: 0.9983 - val_loss: 0.6477 - val_accuracy: 0.8938\n",
      "Epoch 20/20\n",
      "152/152 [==============================] - 2s 14ms/step - loss: 0.0170 - accuracy: 0.9941 - val_loss: 0.5671 - val_accuracy: 0.8951\n"
     ]
    }
   ],
   "source": [
    "### train model\n",
    "history_early = early_model.fit(\n",
    "    x=x_train_early,\n",
    "    y=y_train_early,\n",
    "    epochs=20,\n",
    "    batch_size=32,\n",
    "    validation_data=(\n",
    "        x_validate_early,\n",
    "        y_validate_early,\n",
    "    )\n",
    ")\n"
   ]
  },
  {
   "cell_type": "code",
   "execution_count": 27,
   "id": "focused-situation",
   "metadata": {},
   "outputs": [
    {
     "data": {
      "image/png": "[encoded data removed]",
      "text/plain": [
       "<Figure size 432x288 with 1 Axes>"
      ]
     },
     "metadata": {
      "needs_background": "light"
     },
     "output_type": "display_data"
    },
    {
     "data": {
      "image/png": "[encoded data removed]",
      "text/plain": [
       "<Figure size 432x288 with 1 Axes>"
      ]
     },
     "metadata": {
      "needs_background": "light"
     },
     "output_type": "display_data"
    }
   ],
   "source": [
    "graph_plots(history_early, \"accuracy\")\n",
    "graph_plots(history_early, \"loss\")\n"
   ]
  },
  {
   "cell_type": "code",
   "execution_count": 25,
   "id": "favorite-matrix",
   "metadata": {},
   "outputs": [
    {
     "name": "stdout",
     "output_type": "stream",
     "text": [
      "TEST accuracy: 0.9031462060456509\n"
     ]
    }
   ],
   "source": [
    "predict_test_early = early_model.predict(x_test_early)\n",
    "\n",
    "y_test_pred_early = [x[0] for x in (predict_test_early > 0.5).astype(np.int32)]\n",
    "test_acc_early = (y_test_early == y_test_pred_early).sum()/len(y_test_early)\n",
    "\n",
    "print(\"TEST accuracy: {}\".format(test_acc_early))\n"
   ]
  },
  {
   "cell_type": "code",
   "execution_count": 26,
   "id": "opposite-declaration",
   "metadata": {},
   "outputs": [
    {
     "data": {
      "text/plain": [
       "{'0': {'precision': 0.8953488372093024,\n",
       "  'recall': 0.9011703511053316,\n",
       "  'f1-score': 0.8982501620220349,\n",
       "  'support': 769},\n",
       " '1': {'precision': 0.910271546635183,\n",
       "  'recall': 0.9049295774647887,\n",
       "  'f1-score': 0.9075927015891702,\n",
       "  'support': 852},\n",
       " 'accuracy': 0.9031462060456509,\n",
       " 'macro avg': {'precision': 0.9028101919222427,\n",
       "  'recall': 0.9030499642850602,\n",
       "  'f1-score': 0.9029214318056025,\n",
       "  'support': 1621},\n",
       " 'weighted avg': {'precision': 0.9031922353776246,\n",
       "  'recall': 0.9031462060456509,\n",
       "  'f1-score': 0.9031606146507821,\n",
       "  'support': 1621}}"
      ]
     },
     "execution_count": 26,
     "metadata": {},
     "output_type": "execute_result"
    }
   ],
   "source": [
    "report_early = classification_report(y_test_early, y_test_pred_early, output_dict=True)\n",
    "report_early\n"
   ]
  },
  {
   "cell_type": "code",
   "execution_count": null,
   "id": "western-giving",
   "metadata": {},
   "outputs": [],
   "source": []
  },
  {
   "cell_type": "code",
   "execution_count": null,
   "id": "awful-penny",
   "metadata": {},
   "outputs": [],
   "source": []
  }
 ],
 "metadata": {
  "kernelspec": {
   "display_name": "Python 3",
   "language": "python",
   "name": "python3"
  },
  "language_info": {
   "codemirror_mode": {
    "name": "ipython",
    "version": 3
   },
   "file_extension": ".py",
   "mimetype": "text/x-python",
   "name": "python",
   "nbconvert_exporter": "python",
   "pygments_lexer": "ipython3",
   "version": "3.7.7"
  }
 },
 "nbformat": 4,
 "nbformat_minor": 5
}
