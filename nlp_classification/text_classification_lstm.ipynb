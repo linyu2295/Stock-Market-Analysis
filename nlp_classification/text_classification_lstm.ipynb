{
 "cells": [
  {
   "cell_type": "markdown",
   "id": "capable-florence",
   "metadata": {},
   "source": [
    "# Text classification\n",
    "\n",
    "- LSTM recurrent neural network model for text classification problem\n",
    "- Goal: classify whether it is a truly related News or not\n",
    "- Input data: News title, company name, sector informatin, etc.\n",
    "- Output data: Y/N for the relateness of company"
   ]
  },
  {
   "cell_type": "code",
   "execution_count": 1,
   "id": "adequate-thought",
   "metadata": {},
   "outputs": [],
   "source": [
    "import numpy as np\n",
    "import pandas as pd\n",
    "import os\n",
    "\n",
    "from tensorflow.keras.layers import Input, Embedding, Dense, LSTM, Dropout, Concatenate, concatenate, Flatten\n",
    "from tensorflow.keras.models import Model\n",
    "from tensorflow.keras.regularizers import l2\n",
    "from tensorflow import keras\n",
    "from tensorflow.keras.utils import plot_model\n",
    "from sklearn.metrics import classification_report\n",
    "\n",
    "import matplotlib.pyplot as plt\n",
    "\n",
    "### embedding\n",
    "import spacy\n",
    "\n",
    "nlp = spacy.load(\"en_core_web_sm\")\n"
   ]
  },
  {
   "cell_type": "code",
   "execution_count": 2,
   "id": "suited-mobility",
   "metadata": {},
   "outputs": [
    {
     "name": "stdout",
     "output_type": "stream",
     "text": [
      "Data dimension:  (4811, 7)\n",
      "Number of 1:  3269\n"
     ]
    }
   ],
   "source": [
    "news_data = pd.read_csv('News_data_2021_01_27_new.csv')\n",
    "print('Data dimension: ', news_data.shape)\n",
    "\n",
    "news_y = [1 if x == 'y' else 0 for x in news_data['label'].tolist()]\n",
    "print('Number of 1: ', sum(news_y))\n"
   ]
  },
  {
   "cell_type": "markdown",
   "id": "developing-kruger",
   "metadata": {},
   "source": [
    "## Text pre-processing\n",
    "- convert all text to lower case\n",
    "- remove News sources\n",
    "- remove stop words\n",
    "- remove punctuation\n",
    "\n",
    "## Modeling preparation\n",
    "- vectorize each News title/company name/sector, by turning each text into a vector\n",
    "- Set the max number of words in each News title at 20, each company name at 3, and each sector at 2. \n",
    "- Truncate and pad the input sequences so that they are all in the same length for modeling"
   ]
  },
  {
   "cell_type": "code",
   "execution_count": 3,
   "id": "perceived-retirement",
   "metadata": {},
   "outputs": [],
   "source": [
    "# Function: tokens to vector\n",
    "def tokens_to_vectors(max_num_words, tokens, embed_dim):\n",
    "    vectors = np.zeros((max_num_words, embed_dim)).astype('float32')\n",
    "    c = min(max_num_words, len(tokens))-1\n",
    "    end = max_num_words-1\n",
    "    while c >= 0:\n",
    "        vectors[end] = tokens[c].vector\n",
    "        c -= 1\n",
    "        end -= 1\n",
    "    return vectors\n"
   ]
  },
  {
   "cell_type": "code",
   "execution_count": 4,
   "id": "elegant-firmware",
   "metadata": {},
   "outputs": [],
   "source": [
    "def get_input_data(tmp_data, name_max_num, sector_max_num, max_words, embed_dim):\n",
    "\n",
    "    '''\n",
    "    Company name:\n",
    "        - \n",
    "    '''\n",
    "    name_tokens = [\n",
    "        nlp(text.lower()) for text in tmp_data['Name'].tolist()\n",
    "    ]\n",
    "\n",
    "    print('Average length of company name: ', \n",
    "        np.mean([len(i) for i in name_tokens]))\n",
    "\n",
    "    name_inputs = []\n",
    "    for tokens in name_tokens:\n",
    "        name_inputs.append(\n",
    "            np.stack(tokens_to_vectors(name_max_num, tokens, len(name_tokens[0][1].vector)))\n",
    "        )\n",
    "\n",
    "    '''\n",
    "    Sector:\n",
    "        - \n",
    "    '''\n",
    "    sector_tokens = [\n",
    "        nlp(text.lower()) for text in tmp_data['Sector'].tolist()\n",
    "    ]\n",
    "\n",
    "    print('Average length of sector: ', \n",
    "        np.mean([len(i) for i in sector_tokens]))\n",
    "\n",
    "    sector_inputs = []\n",
    "    for tokens in sector_tokens:\n",
    "        sector_inputs.append(\n",
    "            np.stack(tokens_to_vectors(sector_max_num, tokens, len(sector_tokens[0][1].vector)))\n",
    "        )\n",
    "\n",
    "    '''\n",
    "    News title:\n",
    "        - remove news sources\n",
    "        - remove stopwords\n",
    "\n",
    "    '''\n",
    "    news_all_data = tmp_data['title'].tolist()\n",
    "\n",
    "    news_input_data = []\n",
    "    news_source_data = []\n",
    "    for i in range(len(news_all_data)):\n",
    "        tmp_list = news_all_data[i].split(' - ')\n",
    "        if len(tmp_list) > 1:\n",
    "            news_source_data.append(tmp_list[-1])\n",
    "            tmp_list = ' - '.join(tmp_list[:-1])\n",
    "        else:\n",
    "            news_source_data.append('')\n",
    "            tmp_list = news_all_data[i]\n",
    "\n",
    "        news_input_data.append(tmp_list.lower())\n",
    "\n",
    "    text_tokens = [\n",
    "        nlp(text) for text in news_input_data\n",
    "    ]\n",
    "    # filter掉stopword 和 punct\n",
    "    filtered_tokens = [\n",
    "        [token for token in tokens \n",
    "         if not token.is_stop \n",
    "         and not token.is_punct] for tokens in text_tokens\n",
    "    ]\n",
    "\n",
    "    print('50-th and 80-th percentile of the length of titles: ',\n",
    "        np.quantile([len(i) for i in filtered_tokens], [0.5, 0.8]))\n",
    "\n",
    "\n",
    "    print('Word embedding vector length:, ', embed_dim)\n",
    "\n",
    "    print('Length of words in each title: ', max_words)\n",
    "\n",
    "    '''\n",
    "        - vector_input: length = max_words*embed_dim \n",
    "        - each title: \n",
    "            - if length < max_words, pre padding 0s\n",
    "            - if length > max_words, use the first max_words\n",
    "\n",
    "    '''\n",
    "    vector_inputs = []\n",
    "    for tokens in filtered_tokens:\n",
    "        vector_inputs.append(\n",
    "            np.stack(tokens_to_vectors(max_words, tokens, embed_dim))\n",
    "        )\n",
    "\n",
    "    print('vector input dimension: ', vector_inputs[0].shape)\n",
    "\n",
    "    \n",
    "    '''\n",
    "        News source:\n",
    "        - \n",
    "    '''\n",
    "    source_tokens = [\n",
    "        nlp(text.lower()) for text in news_source_data\n",
    "    ]\n",
    "    \n",
    "    print('Average length of sector: ', \n",
    "        np.quantile([len(i) for i in source_tokens], [0.5, 0.9]))\n",
    "\n",
    "    source_inputs = []\n",
    "    for tokens in source_tokens:\n",
    "        source_inputs.append(\n",
    "            np.stack(tokens_to_vectors(source_max_num, tokens, len(source_tokens[0][1].vector)))\n",
    "        )    \n",
    "    \n",
    "    return name_inputs, sector_inputs, vector_inputs, source_inputs, news_input_data\n"
   ]
  },
  {
   "cell_type": "code",
   "execution_count": 5,
   "id": "distant-rebate",
   "metadata": {},
   "outputs": [],
   "source": [
    "# Maximum number of words to be used in each case.\n",
    "name_max_num = 5 # np.ceil(np.mean([len(i) for i in name_tokens]))\n",
    "sector_max_num = 3 # np.ceil(np.mean([len(i) for i in sector_tokens]))\n",
    "max_words = 20\n",
    "source_max_num = 5\n",
    "# Length of embedding word vector\n",
    "embed_dim = len(nlp(\"nike\").vector)\n"
   ]
  },
  {
   "cell_type": "code",
   "execution_count": 6,
   "id": "union-neutral",
   "metadata": {},
   "outputs": [
    {
     "name": "stdout",
     "output_type": "stream",
     "text": [
      "Average length of company name:  2.4961546456038244\n",
      "Average length of sector:  1.7166909166493451\n",
      "50-th and 80-th percentile of the length of titles:  [ 9. 13.]\n",
      "Word embedding vector length:,  96\n",
      "Length of words in each title:  20\n",
      "vector input dimension:  (20, 96)\n",
      "Average length of sector:  [2. 3.]\n"
     ]
    }
   ],
   "source": [
    "name_inputs, \\\n",
    "sector_inputs, \\\n",
    "vector_inputs, \\\n",
    "source_inputs, \\\n",
    "news_input_data = get_input_data(news_data, name_max_num, sector_max_num, \n",
    "                                 max_words, embed_dim)\n"
   ]
  },
  {
   "cell_type": "markdown",
   "id": "annoying-favorite",
   "metadata": {},
   "source": [
    "## LSTM modeling \n",
    "- late fusion: three input features pass into three individual lstm model, then combine to get a final output\n",
    "- early fusion: concatenate three features in the input layer and pass into one lstm model to get the final output\n"
   ]
  },
  {
   "cell_type": "code",
   "execution_count": 7,
   "id": "psychological-programmer",
   "metadata": {},
   "outputs": [],
   "source": [
    "'''\n",
    "    1. Late fusion\n",
    "\n",
    "'''\n",
    "def lstm_late_fusion():\n",
    "    # input layer\n",
    "    '''\n",
    "        News title\n",
    "    '''\n",
    "    input_layer = Input(shape=(max_words, embed_dim), \n",
    "                        name=\"input_title\")\n",
    "    lstm_layer = LSTM(100, name=\"lstm_title\")(input_layer) # why 100?\n",
    "\n",
    "    '''\n",
    "        Company Name\n",
    "    '''\n",
    "    input_company_layer = Input(shape=(name_max_num, embed_dim), \n",
    "                                name = 'input_company')\n",
    "    lstm_company_layer = LSTM(50, name = 'lstm_company')(input_company_layer)\n",
    "\n",
    "    '''\n",
    "        Sector\n",
    "    '''\n",
    "    input_sector_layer = Input(shape=(sector_max_num, embed_dim), \n",
    "                               name = 'input_sector')\n",
    "    lstm_sector_layer = LSTM(50, name = 'lstm_sector')(input_sector_layer)\n",
    "    \n",
    "    '''\n",
    "        News source\n",
    "    '''\n",
    "    input_source_layer = Input(shape=(source_max_num, embed_dim), \n",
    "                               name = 'input_source')\n",
    "    lstm_source_layer = LSTM(50, name = 'lstm_source')(input_source_layer)\n",
    "\n",
    "\n",
    "    # concatenate layer\n",
    "    concat_layer = concatenate([lstm_layer, lstm_company_layer, \n",
    "                                lstm_sector_layer, lstm_source_layer])\n",
    "\n",
    "    # dropout layer\n",
    "    dropout_layer = Dropout(0.5)(concat_layer)\n",
    "\n",
    "    # fully connected layer\n",
    "    fc_layer = Dense(50)(dropout_layer)\n",
    "\n",
    "    # output layer\n",
    "    out = Dense(\n",
    "        1,\n",
    "        activation=\"sigmoid\",\n",
    "        name=\"out\"\n",
    "    )(fc_layer)\n",
    "\n",
    "    model = Model(\n",
    "        inputs=[input_layer, input_company_layer, \n",
    "                input_sector_layer, input_source_layer],\n",
    "        outputs=out\n",
    "    )\n",
    "\n",
    "    model.compile(\n",
    "        loss=\"binary_crossentropy\",\n",
    "        optimizer=\"adam\",\n",
    "        metrics=\"accuracy\"\n",
    "    )\n",
    "    \n",
    "    return model"
   ]
  },
  {
   "cell_type": "code",
   "execution_count": 8,
   "id": "musical-profession",
   "metadata": {},
   "outputs": [
    {
     "data": {
      "image/png": "[encoded data removed]",
      "text/plain": [
       "<IPython.core.display.Image object>"
      ]
     },
     "execution_count": 8,
     "metadata": {},
     "output_type": "execute_result"
    }
   ],
   "source": [
    "late_model = lstm_late_fusion()\n",
    "\n",
    "# plot model architecture\n",
    "plot_model(late_model, to_file=\"./model_late.png\")\n"
   ]
  },
  {
   "cell_type": "code",
   "execution_count": 9,
   "id": "friendly-dryer",
   "metadata": {},
   "outputs": [
    {
     "name": "stdout",
     "output_type": "stream",
     "text": [
      "Model: \"model\"\n",
      "__________________________________________________________________________________________________\n",
      "Layer (type)                    Output Shape         Param #     Connected to                     \n",
      "==================================================================================================\n",
      "input_title (InputLayer)        [(None, 20, 96)]     0                                            \n",
      "__________________________________________________________________________________________________\n",
      "input_company (InputLayer)      [(None, 5, 96)]      0                                            \n",
      "__________________________________________________________________________________________________\n",
      "input_sector (InputLayer)       [(None, 3, 96)]      0                                            \n",
      "__________________________________________________________________________________________________\n",
      "input_source (InputLayer)       [(None, 5, 96)]      0                                            \n",
      "__________________________________________________________________________________________________\n",
      "lstm_title (LSTM)               (None, 100)          78800       input_title[0][0]                \n",
      "__________________________________________________________________________________________________\n",
      "lstm_company (LSTM)             (None, 50)           29400       input_company[0][0]              \n",
      "__________________________________________________________________________________________________\n",
      "lstm_sector (LSTM)              (None, 50)           29400       input_sector[0][0]               \n",
      "__________________________________________________________________________________________________\n",
      "lstm_source (LSTM)              (None, 50)           29400       input_source[0][0]               \n",
      "__________________________________________________________________________________________________\n",
      "concatenate (Concatenate)       (None, 250)          0           lstm_title[0][0]                 \n",
      "                                                                 lstm_company[0][0]               \n",
      "                                                                 lstm_sector[0][0]                \n",
      "                                                                 lstm_source[0][0]                \n",
      "__________________________________________________________________________________________________\n",
      "dropout (Dropout)               (None, 250)          0           concatenate[0][0]                \n",
      "__________________________________________________________________________________________________\n",
      "dense (Dense)                   (None, 50)           12550       dropout[0][0]                    \n",
      "__________________________________________________________________________________________________\n",
      "out (Dense)                     (None, 1)            51          dense[0][0]                      \n",
      "==================================================================================================\n",
      "Total params: 179,601\n",
      "Trainable params: 179,601\n",
      "Non-trainable params: 0\n",
      "__________________________________________________________________________________________________\n"
     ]
    }
   ],
   "source": [
    "late_model.summary()\n"
   ]
  },
  {
   "cell_type": "code",
   "execution_count": 10,
   "id": "upper-finnish",
   "metadata": {},
   "outputs": [],
   "source": [
    "'''\n",
    "    2. early fusion\n",
    "\n",
    "'''\n",
    "def lstm_early_fusion():\n",
    "    # input layer\n",
    "    '''\n",
    "        All: News title + company name + sector + News source\n",
    "    '''\n",
    "    input_layer = Input(shape=(max_words+name_max_num+sector_max_num+source_max_num, \n",
    "                               embed_dim), \n",
    "                        name=\"input_layer\")\n",
    "    lstm_layer = LSTM(100, name=\"lstm\")(input_layer) # why 100?\n",
    "\n",
    "\n",
    "    dropout_layer = Dropout(0.5)(lstm_layer)\n",
    "    fc_layer = Dense(50)(dropout_layer)\n",
    "\n",
    "    # output layer\n",
    "    out = Dense(\n",
    "        1,\n",
    "        activation=\"sigmoid\",\n",
    "        name=\"out\"\n",
    "    )(fc_layer)\n",
    "\n",
    "    model = Model(\n",
    "        inputs=input_layer,\n",
    "        outputs=out\n",
    "    )\n",
    "\n",
    "    model.compile(\n",
    "        loss=\"binary_crossentropy\",\n",
    "        optimizer=\"adam\",\n",
    "        metrics=\"accuracy\"\n",
    "    )\n",
    "\n",
    "    return model"
   ]
  },
  {
   "cell_type": "code",
   "execution_count": 11,
   "id": "authorized-compact",
   "metadata": {},
   "outputs": [
    {
     "data": {
      "image/png": "[encoded data removed]",
      "text/plain": [
       "<IPython.core.display.Image object>"
      ]
     },
     "execution_count": 11,
     "metadata": {},
     "output_type": "execute_result"
    }
   ],
   "source": [
    "early_model = lstm_early_fusion()\n",
    "\n",
    "plot_model(early_model, to_file=\"./model_early.png\")\n"
   ]
  },
  {
   "cell_type": "code",
   "execution_count": 12,
   "id": "computational-rubber",
   "metadata": {},
   "outputs": [
    {
     "name": "stdout",
     "output_type": "stream",
     "text": [
      "Model: \"model_1\"\n",
      "_________________________________________________________________\n",
      "Layer (type)                 Output Shape              Param #   \n",
      "=================================================================\n",
      "input_layer (InputLayer)     [(None, 33, 96)]          0         \n",
      "_________________________________________________________________\n",
      "lstm (LSTM)                  (None, 100)               78800     \n",
      "_________________________________________________________________\n",
      "dropout_1 (Dropout)          (None, 100)               0         \n",
      "_________________________________________________________________\n",
      "dense_1 (Dense)              (None, 50)                5050      \n",
      "_________________________________________________________________\n",
      "out (Dense)                  (None, 1)                 51        \n",
      "=================================================================\n",
      "Total params: 83,901\n",
      "Trainable params: 83,901\n",
      "Non-trainable params: 0\n",
      "_________________________________________________________________\n"
     ]
    }
   ],
   "source": [
    "early_model.summary()\n"
   ]
  },
  {
   "cell_type": "code",
   "execution_count": 13,
   "id": "constant-plaintiff",
   "metadata": {},
   "outputs": [],
   "source": [
    "def graph_plots(history, string):\n",
    "    plt.plot(history.history[string])\n",
    "    plt.plot(history.history['val_'+string])\n",
    "    plt.xlabel(\"Epochs\")\n",
    "    plt.ylabel(string)\n",
    "    plt.legend([string, 'val_'+string])\n",
    "    plt.show()\n"
   ]
  },
  {
   "cell_type": "code",
   "execution_count": 14,
   "id": "electrical-direction",
   "metadata": {},
   "outputs": [],
   "source": [
    "'''\n",
    "    - split dataset into: training, validation, testing with 6:2:2\n",
    "'''\n",
    "def split_dataset(random_seed, ratio = [0.6, 0.2, 0.2]):\n",
    "    np.random.seed(random_seed)\n",
    "    all_index = np.arange(len(news_input_data))\n",
    "    np.random.shuffle(all_index)\n",
    "    train_index = all_index[:int(ratio[0]*len(news_input_data))]\n",
    "    validate_index = all_index[int(ratio[0]*len(news_input_data)):int(sum(ratio[:2])*len(news_input_data))]\n",
    "    test_index = all_index[int(sum(ratio[:2])*len(news_input_data)):]\n",
    "    print(len(train_index), len(validate_index), len(test_index), len(all_index))\n",
    "\n",
    "    return train_index, validate_index, test_index, all_index"
   ]
  },
  {
   "cell_type": "code",
   "execution_count": 15,
   "id": "blond-choice",
   "metadata": {},
   "outputs": [],
   "source": [
    "# upsampling 0s\n",
    "def split_dataset_unsampled(random_seed, ratio = [0.6, 0.2, 0.2]):\n",
    "    i_class0 = np.where(pd.array(news_y) == 0)[0]\n",
    "    i_class1 = np.where(pd.array(news_y) == 1)[0]\n",
    "\n",
    "    np.random.seed(random_seed)\n",
    "    i_class0_upsampled = np.random.choice(i_class0, \n",
    "                                          size=len(i_class1), replace=True)\n",
    "\n",
    "    all_index_unsampled = np.concatenate((i_class0_upsampled, i_class1))\n",
    "    print(len(all_index_unsampled))\n",
    "    \n",
    "    train_index = np.random.choice(all_index_unsampled, \n",
    "                                   int(ratio[0]*len(all_index_unsampled)))\n",
    "    rest_index = np.setdiff1d(all_index_unsampled, train_index)\n",
    "    validate_index = np.random.choice(rest_index, \n",
    "                                     int(ratio[1]*len(all_index_unsampled)))\n",
    "    rest_index = np.setdiff1d(rest_index, validate_index)\n",
    "    test_index = np.random.choice(rest_index,\n",
    "                                 int(ratio[2]*len(all_index_unsampled)))\n",
    "    print(len(train_index), len(validate_index), \n",
    "          len(test_index), len(all_index_unsampled))\n",
    "    \n",
    "    return train_index, validate_index, test_index, all_index_unsampled"
   ]
  },
  {
   "cell_type": "code",
   "execution_count": 16,
   "id": "known-brother",
   "metadata": {},
   "outputs": [],
   "source": [
    "'''\n",
    "    1. late fusion\n",
    "'''\n",
    "def get_late_fusion_dataset():\n",
    "    x_train = [np.array(vector_inputs)[train_index], \n",
    "               np.array(name_inputs)[train_index],\n",
    "               np.array(sector_inputs)[train_index],\n",
    "               np.array(source_inputs)[train_index]]\n",
    "    y_train = np.array(news_y)[train_index]\n",
    "\n",
    "    x_validate = [np.array(vector_inputs)[validate_index],\n",
    "                  np.array(name_inputs)[validate_index],\n",
    "                  np.array(sector_inputs)[validate_index],\n",
    "                  np.array(source_inputs)[validate_index]]\n",
    "    y_validate = np.array(news_y)[validate_index]\n",
    "\n",
    "    x_test = [np.array(vector_inputs)[test_index],\n",
    "              np.array(name_inputs)[test_index],\n",
    "              np.array(sector_inputs)[test_index],\n",
    "              np.array(source_inputs)[test_index]]\n",
    "\n",
    "    y_test = np.array(news_y)[test_index]\n",
    "    \n",
    "    return x_train, y_train, x_validate, y_validate, x_test, y_test"
   ]
  },
  {
   "cell_type": "code",
   "execution_count": 17,
   "id": "visible-heading",
   "metadata": {},
   "outputs": [
    {
     "name": "stdout",
     "output_type": "stream",
     "text": [
      "2886 962 963 4811\n"
     ]
    }
   ],
   "source": [
    "'''\n",
    "    Get training, validation and testing datasets\n",
    "'''\n",
    "\n",
    "train_index, validate_index, \\\n",
    "test_index, all_index = split_dataset(123)\n",
    "\n",
    "x_train_late, y_train_late,\\\n",
    "x_validate_late, y_validate_late, \\\n",
    "x_test_late, y_test_late = get_late_fusion_dataset()"
   ]
  },
  {
   "cell_type": "code",
   "execution_count": 18,
   "id": "intellectual-tunnel",
   "metadata": {
    "scrolled": true
   },
   "outputs": [
    {
     "name": "stdout",
     "output_type": "stream",
     "text": [
      "Epoch 1/20\n",
      "91/91 [==============================] - 9s 42ms/step - loss: 0.5268 - accuracy: 0.7264 - val_loss: 0.3187 - val_accuracy: 0.8836\n",
      "Epoch 2/20\n",
      "91/91 [==============================] - 1s 13ms/step - loss: 0.2548 - accuracy: 0.9083 - val_loss: 0.3096 - val_accuracy: 0.8794\n",
      "Epoch 3/20\n",
      "91/91 [==============================] - 1s 15ms/step - loss: 0.1944 - accuracy: 0.9302 - val_loss: 0.2554 - val_accuracy: 0.9023\n",
      "Epoch 4/20\n",
      "91/91 [==============================] - 1s 14ms/step - loss: 0.1540 - accuracy: 0.9455 - val_loss: 0.2190 - val_accuracy: 0.9241\n",
      "Epoch 5/20\n",
      "91/91 [==============================] - 1s 15ms/step - loss: 0.1214 - accuracy: 0.9554 - val_loss: 0.2744 - val_accuracy: 0.9200\n",
      "Epoch 6/20\n",
      "91/91 [==============================] - 1s 15ms/step - loss: 0.0884 - accuracy: 0.9692 - val_loss: 0.2727 - val_accuracy: 0.9200\n",
      "Epoch 7/20\n",
      "91/91 [==============================] - 1s 14ms/step - loss: 0.0517 - accuracy: 0.9809 - val_loss: 0.2882 - val_accuracy: 0.9304\n",
      "Epoch 8/20\n",
      "91/91 [==============================] - 1s 15ms/step - loss: 0.0602 - accuracy: 0.9766 - val_loss: 0.3069 - val_accuracy: 0.9158\n",
      "Epoch 9/20\n",
      "91/91 [==============================] - 1s 16ms/step - loss: 0.0366 - accuracy: 0.9857 - val_loss: 0.3776 - val_accuracy: 0.9179\n",
      "Epoch 10/20\n",
      "91/91 [==============================] - 1s 16ms/step - loss: 0.0239 - accuracy: 0.9916 - val_loss: 0.3621 - val_accuracy: 0.9189\n",
      "Epoch 11/20\n",
      "91/91 [==============================] - 1s 13ms/step - loss: 0.0189 - accuracy: 0.9932 - val_loss: 0.4466 - val_accuracy: 0.9179\n",
      "Epoch 12/20\n",
      "91/91 [==============================] - 1s 13ms/step - loss: 0.0226 - accuracy: 0.9916 - val_loss: 0.4135 - val_accuracy: 0.9231\n",
      "Epoch 13/20\n",
      "91/91 [==============================] - 1s 14ms/step - loss: 0.0130 - accuracy: 0.9973 - val_loss: 0.4575 - val_accuracy: 0.9127\n",
      "Epoch 14/20\n",
      "91/91 [==============================] - 1s 15ms/step - loss: 0.0104 - accuracy: 0.9958 - val_loss: 0.4955 - val_accuracy: 0.9075\n",
      "Epoch 15/20\n",
      "91/91 [==============================] - 1s 14ms/step - loss: 0.0170 - accuracy: 0.9943 - val_loss: 0.4348 - val_accuracy: 0.9158\n",
      "Epoch 16/20\n",
      "91/91 [==============================] - 1s 14ms/step - loss: 0.0170 - accuracy: 0.9940 - val_loss: 0.4341 - val_accuracy: 0.9116\n",
      "Epoch 17/20\n",
      "91/91 [==============================] - 1s 13ms/step - loss: 0.0259 - accuracy: 0.9924 - val_loss: 0.5392 - val_accuracy: 0.9096\n",
      "Epoch 18/20\n",
      "91/91 [==============================] - 1s 14ms/step - loss: 0.0099 - accuracy: 0.9957 - val_loss: 0.4283 - val_accuracy: 0.9085\n",
      "Epoch 19/20\n",
      "91/91 [==============================] - 1s 13ms/step - loss: 0.0115 - accuracy: 0.9964 - val_loss: 0.6080 - val_accuracy: 0.9085\n",
      "Epoch 20/20\n",
      "91/91 [==============================] - 1s 14ms/step - loss: 0.0169 - accuracy: 0.9937 - val_loss: 0.4834 - val_accuracy: 0.9148\n"
     ]
    }
   ],
   "source": [
    "### train model\n",
    "history_late = late_model.fit(\n",
    "    x=x_train_late,\n",
    "    y=y_train_late,\n",
    "    epochs=20,\n",
    "    batch_size=32,\n",
    "    validation_data=(\n",
    "        x_validate_late,\n",
    "        y_validate_late,\n",
    "    )\n",
    ")\n"
   ]
  },
  {
   "cell_type": "code",
   "execution_count": 19,
   "id": "vertical-charity",
   "metadata": {},
   "outputs": [
    {
     "data": {
      "image/png": "[encoded data removed]",
      "text/plain": [
       "<Figure size 432x288 with 1 Axes>"
      ]
     },
     "metadata": {
      "needs_background": "light"
     },
     "output_type": "display_data"
    },
    {
     "data": {
      "image/png": "[encoded data removed]",
      "text/plain": [
       "<Figure size 432x288 with 1 Axes>"
      ]
     },
     "metadata": {
      "needs_background": "light"
     },
     "output_type": "display_data"
    }
   ],
   "source": [
    "graph_plots(history_late, \"accuracy\")\n",
    "graph_plots(history_late, \"loss\")\n"
   ]
  },
  {
   "cell_type": "code",
   "execution_count": 20,
   "id": "governmental-comparison",
   "metadata": {},
   "outputs": [
    {
     "name": "stdout",
     "output_type": "stream",
     "text": [
      "TEST accuracy: 0.9231568016614745\n"
     ]
    }
   ],
   "source": [
    "predict_test_late = late_model.predict(x_test_late)\n",
    "\n",
    "y_test_pred_late = [x[0] for x in (predict_test_late > 0.5).astype(np.int32)]\n",
    "test_acc_late = (y_test_late == y_test_pred_late).sum()/len(y_test_late)\n",
    "\n",
    "print(\"TEST accuracy: {}\".format(test_acc_late))\n"
   ]
  },
  {
   "cell_type": "markdown",
   "id": "complicated-welcome",
   "metadata": {},
   "source": [
    "The reported averages include macro average (averaging the unweighted mean per label), weighted average (averaging the support-weighted mean per label), and sample average (only for multilabel classification)."
   ]
  },
  {
   "cell_type": "code",
   "execution_count": 22,
   "id": "vietnamese-chancellor",
   "metadata": {},
   "outputs": [
    {
     "data": {
      "text/plain": [
       "{'0': {'precision': 0.8858131487889274,\n",
       "  'recall': 0.8619528619528619,\n",
       "  'f1-score': 0.8737201365187713,\n",
       "  'support': 297},\n",
       " '1': {'precision': 0.9391691394658753,\n",
       "  'recall': 0.9504504504504504,\n",
       "  'f1-score': 0.944776119402985,\n",
       "  'support': 666},\n",
       " 'accuracy': 0.9231568016614745,\n",
       " 'macro avg': {'precision': 0.9124911441274013,\n",
       "  'recall': 0.9062016562016562,\n",
       "  'f1-score': 0.9092481279608782,\n",
       "  'support': 963},\n",
       " 'weighted avg': {'precision': 0.9227135535561625,\n",
       "  'recall': 0.9231568016614745,\n",
       "  'f1-score': 0.9228616573919659,\n",
       "  'support': 963}}"
      ]
     },
     "execution_count": 22,
     "metadata": {},
     "output_type": "execute_result"
    }
   ],
   "source": [
    "report_late = classification_report(y_test_late, y_test_pred_late, output_dict=True)\n",
    "report_late\n"
   ]
  },
  {
   "cell_type": "code",
   "execution_count": 23,
   "id": "legitimate-copper",
   "metadata": {},
   "outputs": [],
   "source": [
    "'''\n",
    "    2. early fusion\n",
    "'''\n",
    "def get_early_fusion_dataset():\n",
    "    \n",
    "    all_inputs = [np.concatenate((vector_inputs[i], name_inputs[i], \n",
    "                                  sector_inputs[i], source_inputs[i]))\n",
    "                     for i in range(len(vector_inputs))]\n",
    "    print(len(all_inputs), all_inputs[0].shape)\n",
    "\n",
    "    x_train = np.array(all_inputs)[train_index]\n",
    "    y_train = np.array(news_y)[train_index]\n",
    "\n",
    "    x_validate = np.array(all_inputs)[validate_index]\n",
    "    y_validate = np.array(news_y)[validate_index]\n",
    "\n",
    "    x_test = np.array(all_inputs)[test_index]\n",
    "\n",
    "    y_test = np.array(news_y)[test_index]\n",
    "\n",
    "    return x_train, y_train, x_validate, y_validate, x_test, y_test"
   ]
  },
  {
   "cell_type": "code",
   "execution_count": 24,
   "id": "posted-jacket",
   "metadata": {},
   "outputs": [
    {
     "name": "stdout",
     "output_type": "stream",
     "text": [
      "4811 (33, 96)\n"
     ]
    }
   ],
   "source": [
    "x_train_early, y_train_early,\\\n",
    "x_validate_early, y_validate_early, \\\n",
    "x_test_early, y_test_early = get_early_fusion_dataset()"
   ]
  },
  {
   "cell_type": "code",
   "execution_count": 25,
   "id": "technological-start",
   "metadata": {
    "scrolled": true
   },
   "outputs": [
    {
     "name": "stdout",
     "output_type": "stream",
     "text": [
      "Epoch 1/20\n",
      "91/91 [==============================] - 3s 20ms/step - loss: 0.5725 - accuracy: 0.7088 - val_loss: 0.3853 - val_accuracy: 0.8378\n",
      "Epoch 2/20\n",
      "91/91 [==============================] - 2s 17ms/step - loss: 0.3146 - accuracy: 0.8729 - val_loss: 0.2788 - val_accuracy: 0.8992\n",
      "Epoch 3/20\n",
      "91/91 [==============================] - 2s 19ms/step - loss: 0.2002 - accuracy: 0.9298 - val_loss: 0.3127 - val_accuracy: 0.8794\n",
      "Epoch 4/20\n",
      "91/91 [==============================] - 2s 17ms/step - loss: 0.1722 - accuracy: 0.9379 - val_loss: 0.2626 - val_accuracy: 0.9054\n",
      "Epoch 5/20\n",
      "91/91 [==============================] - 2s 17ms/step - loss: 0.0981 - accuracy: 0.9625 - val_loss: 0.2868 - val_accuracy: 0.9116\n",
      "Epoch 6/20\n",
      "91/91 [==============================] - 1s 16ms/step - loss: 0.0797 - accuracy: 0.9707 - val_loss: 0.4117 - val_accuracy: 0.8867\n",
      "Epoch 7/20\n",
      "91/91 [==============================] - 1s 15ms/step - loss: 0.0440 - accuracy: 0.9878 - val_loss: 0.3834 - val_accuracy: 0.8992\n",
      "Epoch 8/20\n",
      "91/91 [==============================] - 1s 16ms/step - loss: 0.0817 - accuracy: 0.9671 - val_loss: 0.3453 - val_accuracy: 0.9023\n",
      "Epoch 9/20\n",
      "91/91 [==============================] - 1s 16ms/step - loss: 0.0369 - accuracy: 0.9867 - val_loss: 0.4622 - val_accuracy: 0.9096\n",
      "Epoch 10/20\n",
      "91/91 [==============================] - 1s 16ms/step - loss: 0.0212 - accuracy: 0.9958 - val_loss: 0.4297 - val_accuracy: 0.9116\n",
      "Epoch 11/20\n",
      "91/91 [==============================] - 1s 16ms/step - loss: 0.0772 - accuracy: 0.9797 - val_loss: 0.3756 - val_accuracy: 0.9179\n",
      "Epoch 12/20\n",
      "91/91 [==============================] - 2s 17ms/step - loss: 0.0174 - accuracy: 0.9958 - val_loss: 0.4096 - val_accuracy: 0.9168\n",
      "Epoch 13/20\n",
      "91/91 [==============================] - 1s 16ms/step - loss: 0.0240 - accuracy: 0.9905 - val_loss: 0.4207 - val_accuracy: 0.9085\n",
      "Epoch 14/20\n",
      "91/91 [==============================] - 1s 16ms/step - loss: 0.0115 - accuracy: 0.9972 - val_loss: 0.5265 - val_accuracy: 0.9023\n",
      "Epoch 15/20\n",
      "91/91 [==============================] - 1s 16ms/step - loss: 0.0026 - accuracy: 0.9998 - val_loss: 0.6168 - val_accuracy: 0.8960\n",
      "Epoch 16/20\n",
      "91/91 [==============================] - 1s 16ms/step - loss: 9.2470e-04 - accuracy: 0.9999 - val_loss: 0.6015 - val_accuracy: 0.9064\n",
      "Epoch 17/20\n",
      "91/91 [==============================] - 1s 16ms/step - loss: 0.0081 - accuracy: 0.9978 - val_loss: 0.5882 - val_accuracy: 0.9012\n",
      "Epoch 18/20\n",
      "91/91 [==============================] - 1s 16ms/step - loss: 0.0225 - accuracy: 0.9927 - val_loss: 0.4518 - val_accuracy: 0.9085\n",
      "Epoch 19/20\n",
      "91/91 [==============================] - 2s 18ms/step - loss: 0.0218 - accuracy: 0.9883 - val_loss: 0.5290 - val_accuracy: 0.9127\n",
      "Epoch 20/20\n",
      "91/91 [==============================] - 2s 19ms/step - loss: 0.0132 - accuracy: 0.9967 - val_loss: 0.4956 - val_accuracy: 0.9210\n"
     ]
    }
   ],
   "source": [
    "### train model\n",
    "history_early = early_model.fit(\n",
    "    x=x_train_early,\n",
    "    y=y_train_early,\n",
    "    epochs=20,\n",
    "    batch_size=32,\n",
    "    validation_data=(\n",
    "        x_validate_early,\n",
    "        y_validate_early,\n",
    "    )\n",
    ")\n"
   ]
  },
  {
   "cell_type": "code",
   "execution_count": 26,
   "id": "corresponding-pocket",
   "metadata": {},
   "outputs": [
    {
     "data": {
      "image/png": "[encoded data removed]",
      "text/plain": [
       "<Figure size 432x288 with 1 Axes>"
      ]
     },
     "metadata": {
      "needs_background": "light"
     },
     "output_type": "display_data"
    },
    {
     "data": {
      "image/png": "[encoded data removed]",
      "text/plain": [
       "<Figure size 432x288 with 1 Axes>"
      ]
     },
     "metadata": {
      "needs_background": "light"
     },
     "output_type": "display_data"
    }
   ],
   "source": [
    "graph_plots(history_early, \"accuracy\")\n",
    "graph_plots(history_early, \"loss\")\n"
   ]
  },
  {
   "cell_type": "code",
   "execution_count": 27,
   "id": "earned-pride",
   "metadata": {},
   "outputs": [
    {
     "name": "stdout",
     "output_type": "stream",
     "text": [
      "TEST accuracy: 0.9179646936656283\n"
     ]
    }
   ],
   "source": [
    "predict_test_early = early_model.predict(x_test_early)\n",
    "\n",
    "y_test_pred_early = [x[0] for x in (predict_test_early > 0.5).astype(np.int32)]\n",
    "test_acc_early = (y_test_early == y_test_pred_early).sum()/len(y_test_early)\n",
    "\n",
    "print(\"TEST accuracy: {}\".format(test_acc_early))\n"
   ]
  },
  {
   "cell_type": "code",
   "execution_count": 28,
   "id": "fallen-favor",
   "metadata": {},
   "outputs": [
    {
     "data": {
      "text/plain": [
       "{'0': {'precision': 0.8427672955974843,\n",
       "  'recall': 0.9023569023569024,\n",
       "  'f1-score': 0.8715447154471544,\n",
       "  'support': 297},\n",
       " '1': {'precision': 0.9550387596899225,\n",
       "  'recall': 0.924924924924925,\n",
       "  'f1-score': 0.9397406559877954,\n",
       "  'support': 666},\n",
       " 'accuracy': 0.9179646936656283,\n",
       " 'macro avg': {'precision': 0.8989030276437033,\n",
       "  'recall': 0.9136409136409136,\n",
       "  'f1-score': 0.9056426857174749,\n",
       "  'support': 963},\n",
       " 'weighted avg': {'precision': 0.920412981044591,\n",
       "  'recall': 0.9179646936656283,\n",
       "  'f1-score': 0.9187082631107754,\n",
       "  'support': 963}}"
      ]
     },
     "execution_count": 28,
     "metadata": {},
     "output_type": "execute_result"
    }
   ],
   "source": [
    "report_early = classification_report(y_test_early, y_test_pred_early, output_dict=True)\n",
    "report_early\n"
   ]
  },
  {
   "cell_type": "code",
   "execution_count": null,
   "id": "bulgarian-richards",
   "metadata": {},
   "outputs": [],
   "source": []
  },
  {
   "cell_type": "code",
   "execution_count": null,
   "id": "selected-checkout",
   "metadata": {},
   "outputs": [],
   "source": []
  }
 ],
 "metadata": {
  "kernelspec": {
   "display_name": "Python 3",
   "language": "python",
   "name": "python3"
  },
  "language_info": {
   "codemirror_mode": {
    "name": "ipython",
    "version": 3
   },
   "file_extension": ".py",
   "mimetype": "text/x-python",
   "name": "python",
   "nbconvert_exporter": "python",
   "pygments_lexer": "ipython3",
   "version": "3.7.7"
  }
 },
 "nbformat": 4,
 "nbformat_minor": 5
}
