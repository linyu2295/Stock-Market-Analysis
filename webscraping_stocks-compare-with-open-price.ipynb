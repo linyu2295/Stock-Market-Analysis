{
 "cells": [
  {
   "cell_type": "code",
   "execution_count": 1,
   "metadata": {},
   "outputs": [],
   "source": [
    "import os\n",
    "import re \n",
    "import logging as log\n",
    "import requests\n",
    "\n",
    "import json\n",
    "from json.decoder import JSONDecodeError\n",
    "\n",
    "from datetime import datetime, timedelta\n",
    "import time\n",
    "import glob\n",
    "\n",
    "import numpy as np\n",
    "import pandas as pd\n",
    "from pandas import json_normalize\n",
    "\n",
    "from bs4 import BeautifulSoup\n",
    "from nltk.stem import WordNetLemmatizer\n",
    "\n",
    "\n",
    "import yfinance as yf\n",
    "from pandas_datareader import data as pdr\n",
    "\n",
    "from datetime import datetime\n",
    "from dateutil.relativedelta import *\n",
    "\n",
    "from pygooglenews import GoogleNews\n",
    "# from urllib3.exceptions import ProtocolError\n",
    "\n",
    "pd.set_option('display.max_columns', 500)"
   ]
  },
  {
   "cell_type": "code",
   "execution_count": 192,
   "metadata": {},
   "outputs": [],
   "source": [
    "def priceTracker(s):\n",
    "    url = 'https://finance.yahoo.com/quote/{}?p={}&.tsrc=fin-srch'.format(s, s)\n",
    "\n",
    "    # real-time price tracker\n",
    "\n",
    "    while url:\n",
    "        try:\n",
    "            response = requests.get(url)\n",
    "\n",
    "            soup = BeautifulSoup(response.text, 'lxml')\n",
    "            \n",
    "            tracker = soup.find_all('div', {'class': 'My(6px) Pos(r) smartphone_Mt(6px)'})\n",
    "            \n",
    "            tracker = tracker[0].find_all('span')\n",
    "            current_price = tracker[0].text\n",
    "            price_change = tracker[1].text\n",
    "\n",
    "            price_change_dir = re.findall(r'\\((.*?) *\\)',price_change)[0][0]\n",
    "            price_change_val = float(re.findall(\"\\d+\\.\\d+\", re.findall(r'\\((.*?) *\\)',price_change)[0])[0])\n",
    "            print('{} current price: {}'.format(s, current_price))\n",
    "            \n",
    "            time.sleep(1)\n",
    "            return current_price, price_change_dir, price_change_val\n",
    "            break\n",
    "        except:\n",
    "            print(\"Connection refused by the server..\")\n",
    "            print(\"Let me sleep for 5 seconds\")\n",
    "            print(\"ZZzzzz...\")\n",
    "            \n",
    "            time.sleep(5)\n",
    "            print(\"Assign NaN values...\")\n",
    "            current_price = np.nan\n",
    "            price_change_dir = np.nan\n",
    "            price_change_val = np.nan\n",
    "            print('{} current price: {}'.format(s, current_price))\n",
    "            \n",
    "            return current_price, price_change_dir, price_change_val\n",
    "            break"
   ]
  },
  {
   "cell_type": "code",
   "execution_count": 150,
   "metadata": {},
   "outputs": [
    {
     "name": "stdout",
     "output_type": "stream",
     "text": [
      "ROKU current price: 178.27\n"
     ]
    },
    {
     "data": {
      "text/plain": [
       "('178.27', '-', 4.8)"
      ]
     },
     "execution_count": 150,
     "metadata": {},
     "output_type": "execute_result"
    }
   ],
   "source": [
    "priceTracker('ROKU')"
   ]
  },
  {
   "cell_type": "markdown",
   "metadata": {},
   "source": [
    "### Get popular stocks with sector/industry/sub_industry info"
   ]
  },
  {
   "cell_type": "code",
   "execution_count": 6,
   "metadata": {},
   "outputs": [
    {
     "data": {
      "text/plain": [
       "(5009, 9)"
      ]
     },
     "execution_count": 6,
     "metadata": {},
     "output_type": "execute_result"
    }
   ],
   "source": [
    "stocks_info = pd.read_csv('screener_results_all.csv', header = 0)\n",
    "stocks_info.shape"
   ]
  },
  {
   "cell_type": "markdown",
   "metadata": {},
   "source": [
    "### Get stock lists from StockTwits"
   ]
  },
  {
   "cell_type": "code",
   "execution_count": 7,
   "metadata": {},
   "outputs": [
    {
     "name": "stdout",
     "output_type": "stream",
     "text": [
      "(14431, 4)\n"
     ]
    }
   ],
   "source": [
    "stocktwits_lists = pd.read_csv('Symbols_2020-09-24.csv', names=['Symbol', 'Name', 'Sector', 'Industry'])\n",
    "print(stocktwits_lists.shape)\n"
   ]
  },
  {
   "cell_type": "markdown",
   "metadata": {},
   "source": [
    "## Combine stocks list from StockTwits and Fidelity"
   ]
  },
  {
   "cell_type": "code",
   "execution_count": 8,
   "metadata": {},
   "outputs": [
    {
     "name": "stdout",
     "output_type": "stream",
     "text": [
      "(4684, 9)\n"
     ]
    },
    {
     "data": {
      "text/html": [
       "<div>\n",
       "<style scoped>\n",
       "    .dataframe tbody tr th:only-of-type {\n",
       "        vertical-align: middle;\n",
       "    }\n",
       "\n",
       "    .dataframe tbody tr th {\n",
       "        vertical-align: top;\n",
       "    }\n",
       "\n",
       "    .dataframe thead th {\n",
       "        text-align: right;\n",
       "    }\n",
       "</style>\n",
       "<table border=\"1\" class=\"dataframe\">\n",
       "  <thead>\n",
       "    <tr style=\"text-align: right;\">\n",
       "      <th></th>\n",
       "      <th>Symbol</th>\n",
       "      <th>Name</th>\n",
       "      <th>Security_Type</th>\n",
       "      <th>Security_Price</th>\n",
       "      <th>Sector</th>\n",
       "      <th>Industry</th>\n",
       "      <th>Sub_Industry</th>\n",
       "      <th>Exchange</th>\n",
       "      <th>Headquarters_Location</th>\n",
       "    </tr>\n",
       "  </thead>\n",
       "  <tbody>\n",
       "    <tr>\n",
       "      <th>0</th>\n",
       "      <td>AAU</td>\n",
       "      <td>Almaden Minerals Ltd</td>\n",
       "      <td>Common Stock</td>\n",
       "      <td>0.425</td>\n",
       "      <td>Materials</td>\n",
       "      <td>Metals &amp; Mining</td>\n",
       "      <td>Diversified Metals &amp; Mining</td>\n",
       "      <td>AMEX</td>\n",
       "      <td>Canada</td>\n",
       "    </tr>\n",
       "    <tr>\n",
       "      <th>1</th>\n",
       "      <td>ACU</td>\n",
       "      <td>Acme United Corp</td>\n",
       "      <td>Common Stock</td>\n",
       "      <td>22.640</td>\n",
       "      <td>Industrials</td>\n",
       "      <td>Commercial Services &amp; Supplies</td>\n",
       "      <td>Office Services &amp; Supplies</td>\n",
       "      <td>AMEX</td>\n",
       "      <td>United States of America</td>\n",
       "    </tr>\n",
       "    <tr>\n",
       "      <th>2</th>\n",
       "      <td>ACY</td>\n",
       "      <td>AeroCentury Corp</td>\n",
       "      <td>Common Stock</td>\n",
       "      <td>1.250</td>\n",
       "      <td>Industrials</td>\n",
       "      <td>Trading Companies &amp; Distributors</td>\n",
       "      <td>Trading Companies &amp; Distributors</td>\n",
       "      <td>AMEX</td>\n",
       "      <td>United States of America</td>\n",
       "    </tr>\n",
       "    <tr>\n",
       "      <th>3</th>\n",
       "      <td>AE</td>\n",
       "      <td>Adams Resources &amp; Energy Inc.</td>\n",
       "      <td>Common Stock</td>\n",
       "      <td>29.000</td>\n",
       "      <td>Energy</td>\n",
       "      <td>Oil, Gas &amp; Consumable Fuels</td>\n",
       "      <td>Oil &amp; Gas Refining &amp; Marketing</td>\n",
       "      <td>AMEX</td>\n",
       "      <td>United States of America</td>\n",
       "    </tr>\n",
       "    <tr>\n",
       "      <th>4</th>\n",
       "      <td>AGX</td>\n",
       "      <td>Argan Inc</td>\n",
       "      <td>Common Stock</td>\n",
       "      <td>34.620</td>\n",
       "      <td>Industrials</td>\n",
       "      <td>Construction &amp; Engineering</td>\n",
       "      <td>Construction &amp; Engineering</td>\n",
       "      <td>NYSE</td>\n",
       "      <td>United States of America</td>\n",
       "    </tr>\n",
       "  </tbody>\n",
       "</table>\n",
       "</div>"
      ],
      "text/plain": [
       "  Symbol                           Name Security_Type  Security_Price  \\\n",
       "0    AAU           Almaden Minerals Ltd  Common Stock           0.425   \n",
       "1    ACU               Acme United Corp  Common Stock          22.640   \n",
       "2    ACY               AeroCentury Corp  Common Stock           1.250   \n",
       "3     AE  Adams Resources & Energy Inc.  Common Stock          29.000   \n",
       "4    AGX                      Argan Inc  Common Stock          34.620   \n",
       "\n",
       "        Sector                          Industry  \\\n",
       "0    Materials                   Metals & Mining   \n",
       "1  Industrials    Commercial Services & Supplies   \n",
       "2  Industrials  Trading Companies & Distributors   \n",
       "3       Energy       Oil, Gas & Consumable Fuels   \n",
       "4  Industrials        Construction & Engineering   \n",
       "\n",
       "                       Sub_Industry Exchange     Headquarters_Location  \n",
       "0       Diversified Metals & Mining     AMEX                    Canada  \n",
       "1        Office Services & Supplies     AMEX  United States of America  \n",
       "2  Trading Companies & Distributors     AMEX  United States of America  \n",
       "3    Oil & Gas Refining & Marketing     AMEX  United States of America  \n",
       "4        Construction & Engineering     NYSE  United States of America  "
      ]
     },
     "execution_count": 8,
     "metadata": {},
     "output_type": "execute_result"
    }
   ],
   "source": [
    "stocks_combine_list = pd.merge(stocktwits_lists['Symbol'], stocks_info, \n",
    "                               how = 'inner', on = 'Symbol').reset_index(drop=True)\n",
    "print(stocks_combine_list.shape)\n",
    "\n",
    "stocks_combine_list.head()"
   ]
  },
  {
   "cell_type": "code",
   "execution_count": null,
   "metadata": {},
   "outputs": [],
   "source": []
  },
  {
   "cell_type": "markdown",
   "metadata": {},
   "source": [
    "## Get 'Market Cap' from Yahoo Finance"
   ]
  },
  {
   "cell_type": "code",
   "execution_count": 139,
   "metadata": {},
   "outputs": [],
   "source": [
    "def get_market_cap(s):\n",
    "\n",
    "    url = 'https://finance.yahoo.com/quote/{}?p={}&.tsrc=fin-srch'.format(s, s)\n",
    "        \n",
    "    while url:\n",
    "        try:\n",
    "            response = requests.get(url)\n",
    "\n",
    "            soup = BeautifulSoup(response.text, 'lxml')\n",
    "            tracker = soup.find_all('td', {'class': 'Ta(end) Fw(600) Lh(14px)', 'data-reactid': ['138', '137']})\n",
    "            market_cap = tracker[0].find_all('span', {'class': 'Trsdu(0.3s)'})[0].text\n",
    "            break\n",
    "        except:\n",
    "            print(\"Connection refused by the server..\")\n",
    "            print(\"Let me sleep for 5 seconds\")\n",
    "            print(\"ZZzzzz...\")\n",
    "            time.sleep(5)\n",
    "            print(\"Was a nice sleep, now let me continue the next one...\")\n",
    "            break\n",
    "\n",
    "    return market_cap\n"
   ]
  },
  {
   "cell_type": "markdown",
   "metadata": {},
   "source": [
    "## Add Market Cap in stocks list"
   ]
  },
  {
   "cell_type": "code",
   "execution_count": 153,
   "metadata": {},
   "outputs": [
    {
     "name": "stdout",
     "output_type": "stream",
     "text": [
      "3953\n",
      "(3953, 2)\n"
     ]
    },
    {
     "data": {
      "text/html": [
       "<div>\n",
       "<style scoped>\n",
       "    .dataframe tbody tr th:only-of-type {\n",
       "        vertical-align: middle;\n",
       "    }\n",
       "\n",
       "    .dataframe tbody tr th {\n",
       "        vertical-align: top;\n",
       "    }\n",
       "\n",
       "    .dataframe thead th {\n",
       "        text-align: right;\n",
       "    }\n",
       "</style>\n",
       "<table border=\"1\" class=\"dataframe\">\n",
       "  <thead>\n",
       "    <tr style=\"text-align: right;\">\n",
       "      <th></th>\n",
       "      <th>Symbol</th>\n",
       "      <th>Market_Cap</th>\n",
       "    </tr>\n",
       "  </thead>\n",
       "  <tbody>\n",
       "    <tr>\n",
       "      <th>0</th>\n",
       "      <td>AAPL</td>\n",
       "      <td>1.876243e+12</td>\n",
       "    </tr>\n",
       "    <tr>\n",
       "      <th>1</th>\n",
       "      <td>MSFT</td>\n",
       "      <td>1.537671e+12</td>\n",
       "    </tr>\n",
       "    <tr>\n",
       "      <th>2</th>\n",
       "      <td>AMZN</td>\n",
       "      <td>1.512583e+12</td>\n",
       "    </tr>\n",
       "    <tr>\n",
       "      <th>3</th>\n",
       "      <td>GOOGL</td>\n",
       "      <td>9.677772e+11</td>\n",
       "    </tr>\n",
       "    <tr>\n",
       "      <th>4</th>\n",
       "      <td>BABA</td>\n",
       "      <td>7.297916e+11</td>\n",
       "    </tr>\n",
       "  </tbody>\n",
       "</table>\n",
       "</div>"
      ],
      "text/plain": [
       "  Symbol    Market_Cap\n",
       "0   AAPL  1.876243e+12\n",
       "1   MSFT  1.537671e+12\n",
       "2   AMZN  1.512583e+12\n",
       "3  GOOGL  9.677772e+11\n",
       "4   BABA  7.297916e+11"
      ]
     },
     "execution_count": 153,
     "metadata": {},
     "output_type": "execute_result"
    }
   ],
   "source": [
    "'''\n",
    "    reading mktcap\n",
    "    \n",
    "'''\n",
    "\n",
    "f = open('mktcap', 'r')\n",
    "\n",
    "lines = []\n",
    "c = 0\n",
    "for line in f:\n",
    "    if c % 5 == 3:\n",
    "        lines.append(line.strip().split('\\t'))\n",
    "    c += 1\n",
    "print(len(lines))\n",
    "\n",
    "df_mktcap = pd.DataFrame.from_records(lines, \\\n",
    "                            columns=['Symbol', 'Market_Cap', 'Price', 'p1', 'p2', 'p3'])\n",
    "df_mktcap.drop(['Price', 'p1', 'p2', 'p3'], axis = 1, inplace = True)\n",
    "df_mktcap['Market_Cap'] = df_mktcap['Market_Cap'].map(lambda x:\\\n",
    "                                    float(re.findall(r'\\d+(?:\\.\\d+)?', x.replace(',', ''))[0]))\n",
    "\n",
    "print(df_mktcap.shape)\n",
    "df_mktcap.head()"
   ]
  },
  {
   "cell_type": "code",
   "execution_count": 154,
   "metadata": {},
   "outputs": [
    {
     "name": "stdout",
     "output_type": "stream",
     "text": [
      "(4684, 9) (3953, 2) (3512, 10)\n"
     ]
    },
    {
     "data": {
      "text/html": [
       "<div>\n",
       "<style scoped>\n",
       "    .dataframe tbody tr th:only-of-type {\n",
       "        vertical-align: middle;\n",
       "    }\n",
       "\n",
       "    .dataframe tbody tr th {\n",
       "        vertical-align: top;\n",
       "    }\n",
       "\n",
       "    .dataframe thead th {\n",
       "        text-align: right;\n",
       "    }\n",
       "</style>\n",
       "<table border=\"1\" class=\"dataframe\">\n",
       "  <thead>\n",
       "    <tr style=\"text-align: right;\">\n",
       "      <th></th>\n",
       "      <th>Symbol</th>\n",
       "      <th>Name</th>\n",
       "      <th>Security_Type</th>\n",
       "      <th>Security_Price</th>\n",
       "      <th>Sector</th>\n",
       "      <th>Industry</th>\n",
       "      <th>Sub_Industry</th>\n",
       "      <th>Exchange</th>\n",
       "      <th>Headquarters_Location</th>\n",
       "      <th>Market_Cap</th>\n",
       "    </tr>\n",
       "  </thead>\n",
       "  <tbody>\n",
       "    <tr>\n",
       "      <th>0</th>\n",
       "      <td>AAU</td>\n",
       "      <td>Almaden Minerals Ltd</td>\n",
       "      <td>Common Stock</td>\n",
       "      <td>0.425</td>\n",
       "      <td>Materials</td>\n",
       "      <td>Metals &amp; Mining</td>\n",
       "      <td>Diversified Metals &amp; Mining</td>\n",
       "      <td>AMEX</td>\n",
       "      <td>Canada</td>\n",
       "      <td>98108095.0</td>\n",
       "    </tr>\n",
       "    <tr>\n",
       "      <th>1</th>\n",
       "      <td>AE</td>\n",
       "      <td>Adams Resources &amp; Energy Inc.</td>\n",
       "      <td>Common Stock</td>\n",
       "      <td>29.000</td>\n",
       "      <td>Energy</td>\n",
       "      <td>Oil, Gas &amp; Consumable Fuels</td>\n",
       "      <td>Oil &amp; Gas Refining &amp; Marketing</td>\n",
       "      <td>AMEX</td>\n",
       "      <td>United States of America</td>\n",
       "      <td>85906170.0</td>\n",
       "    </tr>\n",
       "    <tr>\n",
       "      <th>2</th>\n",
       "      <td>AGX</td>\n",
       "      <td>Argan Inc</td>\n",
       "      <td>Common Stock</td>\n",
       "      <td>34.620</td>\n",
       "      <td>Industrials</td>\n",
       "      <td>Construction &amp; Engineering</td>\n",
       "      <td>Construction &amp; Engineering</td>\n",
       "      <td>NYSE</td>\n",
       "      <td>United States of America</td>\n",
       "      <td>656259600.0</td>\n",
       "    </tr>\n",
       "    <tr>\n",
       "      <th>3</th>\n",
       "      <td>AIM</td>\n",
       "      <td>Aim Immunotech Inc</td>\n",
       "      <td>Common Stock</td>\n",
       "      <td>2.300</td>\n",
       "      <td>Health Care</td>\n",
       "      <td>Biotechnology</td>\n",
       "      <td>Biotechnology</td>\n",
       "      <td>AMEX</td>\n",
       "      <td>United States of America</td>\n",
       "      <td>80570700.0</td>\n",
       "    </tr>\n",
       "    <tr>\n",
       "      <th>4</th>\n",
       "      <td>AIM</td>\n",
       "      <td>Aim Immunotech Inc</td>\n",
       "      <td>Common Stock</td>\n",
       "      <td>2.300</td>\n",
       "      <td>Health Care</td>\n",
       "      <td>Biotechnology</td>\n",
       "      <td>Biotechnology</td>\n",
       "      <td>AMEX</td>\n",
       "      <td>United States of America</td>\n",
       "      <td>80570700.0</td>\n",
       "    </tr>\n",
       "  </tbody>\n",
       "</table>\n",
       "</div>"
      ],
      "text/plain": [
       "  Symbol                           Name Security_Type  Security_Price  \\\n",
       "0    AAU           Almaden Minerals Ltd  Common Stock           0.425   \n",
       "1     AE  Adams Resources & Energy Inc.  Common Stock          29.000   \n",
       "2    AGX                      Argan Inc  Common Stock          34.620   \n",
       "3    AIM             Aim Immunotech Inc  Common Stock           2.300   \n",
       "4    AIM             Aim Immunotech Inc  Common Stock           2.300   \n",
       "\n",
       "        Sector                     Industry                    Sub_Industry  \\\n",
       "0    Materials              Metals & Mining     Diversified Metals & Mining   \n",
       "1       Energy  Oil, Gas & Consumable Fuels  Oil & Gas Refining & Marketing   \n",
       "2  Industrials   Construction & Engineering      Construction & Engineering   \n",
       "3  Health Care                Biotechnology                   Biotechnology   \n",
       "4  Health Care                Biotechnology                   Biotechnology   \n",
       "\n",
       "  Exchange     Headquarters_Location   Market_Cap  \n",
       "0     AMEX                    Canada   98108095.0  \n",
       "1     AMEX  United States of America   85906170.0  \n",
       "2     NYSE  United States of America  656259600.0  \n",
       "3     AMEX  United States of America   80570700.0  \n",
       "4     AMEX  United States of America   80570700.0  "
      ]
     },
     "execution_count": 154,
     "metadata": {},
     "output_type": "execute_result"
    }
   ],
   "source": [
    "df_mktcap_combine = pd.merge(stocks_combine_list, df_mktcap, how = 'inner', on = 'Symbol')\n",
    "\n",
    "print(stocks_combine_list.shape, df_mktcap.shape, df_mktcap_combine.shape)\n",
    "\n",
    "df_mktcap_combine.head()"
   ]
  },
  {
   "cell_type": "code",
   "execution_count": 155,
   "metadata": {},
   "outputs": [],
   "source": []
  },
  {
   "cell_type": "markdown",
   "metadata": {},
   "source": [
    "## Select a sample of stocks for the following analysis\n",
    "\n",
    "1. Only keep mid-cap (2-10 billion) and large-cap (>= 10 billion) companies\n",
    "\n",
    "2. Select randomly 10%/15% market-cap companies from each 'sub industry' or 'industry'\n",
    "\n",
    "    micro-cap (< 300 million)\n",
    "    \n",
    "    small-cap (>=300 million, < 2 billion)\n",
    "    \n",
    "    mid-cap (2-10 billion)\n",
    "    \n",
    "    large-cap (>= 10 billion)\n",
    "    "
   ]
  },
  {
   "cell_type": "code",
   "execution_count": 156,
   "metadata": {},
   "outputs": [],
   "source": [
    "stocks_market_cap_dict = {\n",
    "    'Symbol': [],\n",
    "    'Size': [],\n",
    "    'Market_Cap': []\n",
    "}\n",
    "\n",
    "a = df_mktcap_combine[['Symbol', 'Market_Cap']]\n",
    "\n",
    "for i in range(a.shape[0]):\n",
    "    m = a.loc[i, 'Market_Cap']\n",
    "    s = a.loc[i, 'Symbol']\n",
    "    val = m\n",
    "        \n",
    "    if val < 300*1000000:\n",
    "        stocks_market_cap_dict['Symbol'].append(s)\n",
    "        stocks_market_cap_dict['Size'].append('micro-cap')\n",
    "        stocks_market_cap_dict['Market_Cap'].append(val)        \n",
    "    if val >= 300*1000000 and val < 2*1000000000:\n",
    "        stocks_market_cap_dict['Symbol'].append(s)\n",
    "        stocks_market_cap_dict['Size'].append('small-cap')\n",
    "        stocks_market_cap_dict['Market_Cap'].append(val)\n",
    "    if val >= 2*1000000000 and val < 10*1000000000:\n",
    "        stocks_market_cap_dict['Symbol'].append(s)\n",
    "        stocks_market_cap_dict['Size'].append('mid-cap')\n",
    "        stocks_market_cap_dict['Market_Cap'].append(val)\n",
    "    if val >= 10*1000000000:\n",
    "        stocks_market_cap_dict['Symbol'].append(s)\n",
    "        stocks_market_cap_dict['Size'].append('large-cap')\n",
    "        stocks_market_cap_dict['Market_Cap'].append(val)\n",
    "\n"
   ]
  },
  {
   "cell_type": "code",
   "execution_count": 157,
   "metadata": {},
   "outputs": [
    {
     "name": "stdout",
     "output_type": "stream",
     "text": [
      "(1470, 11)\n"
     ]
    },
    {
     "data": {
      "text/html": [
       "<div>\n",
       "<style scoped>\n",
       "    .dataframe tbody tr th:only-of-type {\n",
       "        vertical-align: middle;\n",
       "    }\n",
       "\n",
       "    .dataframe tbody tr th {\n",
       "        vertical-align: top;\n",
       "    }\n",
       "\n",
       "    .dataframe thead th {\n",
       "        text-align: right;\n",
       "    }\n",
       "</style>\n",
       "<table border=\"1\" class=\"dataframe\">\n",
       "  <thead>\n",
       "    <tr style=\"text-align: right;\">\n",
       "      <th></th>\n",
       "      <th>Symbol</th>\n",
       "      <th>Size</th>\n",
       "      <th>Market_Cap</th>\n",
       "      <th>Name</th>\n",
       "      <th>Security_Type</th>\n",
       "      <th>Security_Price</th>\n",
       "      <th>Sector</th>\n",
       "      <th>Industry</th>\n",
       "      <th>Sub_Industry</th>\n",
       "      <th>Exchange</th>\n",
       "      <th>Headquarters_Location</th>\n",
       "    </tr>\n",
       "  </thead>\n",
       "  <tbody>\n",
       "    <tr>\n",
       "      <th>0</th>\n",
       "      <td>APO</td>\n",
       "      <td>large-cap</td>\n",
       "      <td>1.731101e+10</td>\n",
       "      <td>Apollo Global Management Inc</td>\n",
       "      <td>Common Stock</td>\n",
       "      <td>45.08</td>\n",
       "      <td>Financials</td>\n",
       "      <td>Capital Markets</td>\n",
       "      <td>Asset Management &amp; Custody Banks</td>\n",
       "      <td>NYSE</td>\n",
       "      <td>United States of America</td>\n",
       "    </tr>\n",
       "    <tr>\n",
       "      <th>1</th>\n",
       "      <td>BKR</td>\n",
       "      <td>large-cap</td>\n",
       "      <td>1.376959e+10</td>\n",
       "      <td>Baker Hughes a GE Co</td>\n",
       "      <td>Common Stock</td>\n",
       "      <td>14.62</td>\n",
       "      <td>Energy</td>\n",
       "      <td>Energy Equipment &amp; Services</td>\n",
       "      <td>Oil &amp; Gas Equipment &amp; Services</td>\n",
       "      <td>NYSE</td>\n",
       "      <td>United States of America</td>\n",
       "    </tr>\n",
       "    <tr>\n",
       "      <th>2</th>\n",
       "      <td>BLD</td>\n",
       "      <td>mid-cap</td>\n",
       "      <td>5.228389e+09</td>\n",
       "      <td>TopBuild Corp</td>\n",
       "      <td>Common Stock</td>\n",
       "      <td>93.66</td>\n",
       "      <td>Consumer Discretionary</td>\n",
       "      <td>Household Durables</td>\n",
       "      <td>Homebuilding</td>\n",
       "      <td>NYSE</td>\n",
       "      <td>United States of America</td>\n",
       "    </tr>\n",
       "    <tr>\n",
       "      <th>3</th>\n",
       "      <td>BTI</td>\n",
       "      <td>large-cap</td>\n",
       "      <td>8.224864e+10</td>\n",
       "      <td>British American Tobacco PLC</td>\n",
       "      <td>Depository Receipt</td>\n",
       "      <td>38.10</td>\n",
       "      <td>Consumer Staples</td>\n",
       "      <td>Tobacco</td>\n",
       "      <td>Tobacco</td>\n",
       "      <td>NYSE</td>\n",
       "      <td>United Kingdom</td>\n",
       "    </tr>\n",
       "    <tr>\n",
       "      <th>4</th>\n",
       "      <td>COR</td>\n",
       "      <td>mid-cap</td>\n",
       "      <td>4.966141e+09</td>\n",
       "      <td>CoreSite Realty Corp</td>\n",
       "      <td>Common Stock (REIT)</td>\n",
       "      <td>124.13</td>\n",
       "      <td>Real Estate</td>\n",
       "      <td>Equity Real Estate Investment Trusts (REITs)</td>\n",
       "      <td>Specialized REITs</td>\n",
       "      <td>NYSE</td>\n",
       "      <td>United States of America</td>\n",
       "    </tr>\n",
       "  </tbody>\n",
       "</table>\n",
       "</div>"
      ],
      "text/plain": [
       "  Symbol       Size    Market_Cap                          Name  \\\n",
       "0    APO  large-cap  1.731101e+10  Apollo Global Management Inc   \n",
       "1    BKR  large-cap  1.376959e+10          Baker Hughes a GE Co   \n",
       "2    BLD    mid-cap  5.228389e+09                 TopBuild Corp   \n",
       "3    BTI  large-cap  8.224864e+10  British American Tobacco PLC   \n",
       "4    COR    mid-cap  4.966141e+09          CoreSite Realty Corp   \n",
       "\n",
       "         Security_Type  Security_Price                  Sector  \\\n",
       "0         Common Stock           45.08              Financials   \n",
       "1         Common Stock           14.62                  Energy   \n",
       "2         Common Stock           93.66  Consumer Discretionary   \n",
       "3   Depository Receipt           38.10        Consumer Staples   \n",
       "4  Common Stock (REIT)          124.13             Real Estate   \n",
       "\n",
       "                                       Industry  \\\n",
       "0                               Capital Markets   \n",
       "1                   Energy Equipment & Services   \n",
       "2                            Household Durables   \n",
       "3                                       Tobacco   \n",
       "4  Equity Real Estate Investment Trusts (REITs)   \n",
       "\n",
       "                       Sub_Industry Exchange     Headquarters_Location  \n",
       "0  Asset Management & Custody Banks     NYSE  United States of America  \n",
       "1    Oil & Gas Equipment & Services     NYSE  United States of America  \n",
       "2                      Homebuilding     NYSE  United States of America  \n",
       "3                           Tobacco     NYSE            United Kingdom  \n",
       "4                 Specialized REITs     NYSE  United States of America  "
      ]
     },
     "execution_count": 157,
     "metadata": {},
     "output_type": "execute_result"
    }
   ],
   "source": [
    "stocks_market_cap_df = pd.DataFrame(stocks_market_cap_dict)\n",
    "\n",
    "df_mid_large_stocks = stocks_market_cap_df[(stocks_market_cap_df['Size'] == 'mid-cap')|\\\n",
    "                    (stocks_market_cap_df['Size'] == 'large-cap')].reset_index(drop=True)\n",
    "\n",
    "df_mid_large_stocks = pd.merge(df_mid_large_stocks, df_mktcap_combine, \n",
    "                               how = 'left', on = ['Symbol', 'Market_Cap'])\n",
    "\n",
    "print(df_mid_large_stocks.shape)\n",
    "\n",
    "df_mid_large_stocks.head()"
   ]
  },
  {
   "cell_type": "code",
   "execution_count": 161,
   "metadata": {},
   "outputs": [
    {
     "data": {
      "text/plain": [
       "small-cap    1084\n",
       "micro-cap     960\n",
       "mid-cap       829\n",
       "large-cap     639\n",
       "Name: Size, dtype: int64"
      ]
     },
     "execution_count": 161,
     "metadata": {},
     "output_type": "execute_result"
    }
   ],
   "source": [
    "stocks_market_cap_df['Size'].value_counts()"
   ]
  },
  {
   "cell_type": "code",
   "execution_count": 158,
   "metadata": {},
   "outputs": [
    {
     "data": {
      "text/plain": [
       "mid-cap      829\n",
       "large-cap    641\n",
       "Name: Size, dtype: int64"
      ]
     },
     "execution_count": 158,
     "metadata": {},
     "output_type": "execute_result"
    }
   ],
   "source": [
    "df_mid_large_stocks['Size'].value_counts()"
   ]
  },
  {
   "cell_type": "code",
   "execution_count": 160,
   "metadata": {},
   "outputs": [
    {
     "name": "stdout",
     "output_type": "stream",
     "text": [
      "(1082, 11) (1470, 11)\n"
     ]
    },
    {
     "data": {
      "text/plain": [
       "mid-cap      597\n",
       "large-cap    485\n",
       "Name: Size, dtype: int64"
      ]
     },
     "execution_count": 160,
     "metadata": {},
     "output_type": "execute_result"
    }
   ],
   "source": [
    "'''\n",
    "    stratify sampling:\n",
    "        for number of stocks in Sub_Industry >= 10, \n",
    "        select 10%/15% stocks\n",
    "\n",
    "'''\n",
    "\n",
    "subIndustry_cnts = df_mid_large_stocks['Sub_Industry'].value_counts()\n",
    "\n",
    "tmp_df = df_mid_large_stocks[df_mid_large_stocks['Sub_Industry'].isin(subIndustry_cnts[subIndustry_cnts >= 10].index)]\n",
    "\n",
    "print(tmp_df.shape, df_mid_large_stocks.shape)\n",
    "\n",
    "tmp_df['Size'].value_counts()"
   ]
  },
  {
   "cell_type": "code",
   "execution_count": 163,
   "metadata": {},
   "outputs": [
    {
     "name": "stdout",
     "output_type": "stream",
     "text": [
      "(167, 11)\n"
     ]
    },
    {
     "data": {
      "text/html": [
       "<div>\n",
       "<style scoped>\n",
       "    .dataframe tbody tr th:only-of-type {\n",
       "        vertical-align: middle;\n",
       "    }\n",
       "\n",
       "    .dataframe tbody tr th {\n",
       "        vertical-align: top;\n",
       "    }\n",
       "\n",
       "    .dataframe thead th {\n",
       "        text-align: right;\n",
       "    }\n",
       "</style>\n",
       "<table border=\"1\" class=\"dataframe\">\n",
       "  <thead>\n",
       "    <tr style=\"text-align: right;\">\n",
       "      <th></th>\n",
       "      <th>Symbol</th>\n",
       "      <th>Size</th>\n",
       "      <th>Market_Cap</th>\n",
       "      <th>Name</th>\n",
       "      <th>Security_Type</th>\n",
       "      <th>Security_Price</th>\n",
       "      <th>Sector</th>\n",
       "      <th>Industry</th>\n",
       "      <th>Sub_Industry</th>\n",
       "      <th>Exchange</th>\n",
       "      <th>Headquarters_Location</th>\n",
       "    </tr>\n",
       "  </thead>\n",
       "  <tbody>\n",
       "    <tr>\n",
       "      <th>0</th>\n",
       "      <td>AAPL</td>\n",
       "      <td>large-cap</td>\n",
       "      <td>1.876243e+12</td>\n",
       "      <td>Apple Inc</td>\n",
       "      <td>Common Stock</td>\n",
       "      <td>315.01</td>\n",
       "      <td>Information Technology</td>\n",
       "      <td>Technology Hardware, Storage &amp; Peripherals</td>\n",
       "      <td>Technology Hardware, Storage &amp; Peripherals</td>\n",
       "      <td>NASDAQ</td>\n",
       "      <td>United States of America</td>\n",
       "    </tr>\n",
       "    <tr>\n",
       "      <th>1</th>\n",
       "      <td>AB</td>\n",
       "      <td>mid-cap</td>\n",
       "      <td>2.589199e+09</td>\n",
       "      <td>AllianceBernstein Holding LP</td>\n",
       "      <td>Unit Trust Fund</td>\n",
       "      <td>22.51</td>\n",
       "      <td>Financials</td>\n",
       "      <td>Capital Markets</td>\n",
       "      <td>Asset Management &amp; Custody Banks</td>\n",
       "      <td>NYSE</td>\n",
       "      <td>United States of America</td>\n",
       "    </tr>\n",
       "    <tr>\n",
       "      <th>2</th>\n",
       "      <td>ABT</td>\n",
       "      <td>large-cap</td>\n",
       "      <td>1.786819e+11</td>\n",
       "      <td>Abbott Laboratories</td>\n",
       "      <td>Common Stock</td>\n",
       "      <td>96.07</td>\n",
       "      <td>Health Care</td>\n",
       "      <td>Health Care Equipment &amp; Supplies</td>\n",
       "      <td>Health Care Equipment</td>\n",
       "      <td>NYSE</td>\n",
       "      <td>United States of America</td>\n",
       "    </tr>\n",
       "    <tr>\n",
       "      <th>3</th>\n",
       "      <td>ACC</td>\n",
       "      <td>mid-cap</td>\n",
       "      <td>4.614801e+09</td>\n",
       "      <td>American Campus Communities Inc</td>\n",
       "      <td>Common Stock (REIT)</td>\n",
       "      <td>30.59</td>\n",
       "      <td>Real Estate</td>\n",
       "      <td>Equity Real Estate Investment Trusts (REITs)</td>\n",
       "      <td>Residential REITs</td>\n",
       "      <td>NYSE</td>\n",
       "      <td>United States of America</td>\n",
       "    </tr>\n",
       "    <tr>\n",
       "      <th>4</th>\n",
       "      <td>ADBE</td>\n",
       "      <td>large-cap</td>\n",
       "      <td>2.243249e+11</td>\n",
       "      <td>Adobe Inc</td>\n",
       "      <td>Common Stock</td>\n",
       "      <td>371.42</td>\n",
       "      <td>Information Technology</td>\n",
       "      <td>Software</td>\n",
       "      <td>Application Software</td>\n",
       "      <td>NASDAQ</td>\n",
       "      <td>United States of America</td>\n",
       "    </tr>\n",
       "  </tbody>\n",
       "</table>\n",
       "</div>"
      ],
      "text/plain": [
       "  Symbol       Size    Market_Cap                             Name  \\\n",
       "0   AAPL  large-cap  1.876243e+12                        Apple Inc   \n",
       "1     AB    mid-cap  2.589199e+09     AllianceBernstein Holding LP   \n",
       "2    ABT  large-cap  1.786819e+11              Abbott Laboratories   \n",
       "3    ACC    mid-cap  4.614801e+09  American Campus Communities Inc   \n",
       "4   ADBE  large-cap  2.243249e+11                        Adobe Inc   \n",
       "\n",
       "         Security_Type  Security_Price                  Sector  \\\n",
       "0         Common Stock          315.01  Information Technology   \n",
       "1      Unit Trust Fund           22.51              Financials   \n",
       "2         Common Stock           96.07             Health Care   \n",
       "3  Common Stock (REIT)           30.59             Real Estate   \n",
       "4         Common Stock          371.42  Information Technology   \n",
       "\n",
       "                                       Industry  \\\n",
       "0    Technology Hardware, Storage & Peripherals   \n",
       "1                               Capital Markets   \n",
       "2              Health Care Equipment & Supplies   \n",
       "3  Equity Real Estate Investment Trusts (REITs)   \n",
       "4                                      Software   \n",
       "\n",
       "                                 Sub_Industry Exchange  \\\n",
       "0  Technology Hardware, Storage & Peripherals   NASDAQ   \n",
       "1            Asset Management & Custody Banks     NYSE   \n",
       "2                       Health Care Equipment     NYSE   \n",
       "3                           Residential REITs     NYSE   \n",
       "4                        Application Software   NASDAQ   \n",
       "\n",
       "      Headquarters_Location  \n",
       "0  United States of America  \n",
       "1  United States of America  \n",
       "2  United States of America  \n",
       "3  United States of America  \n",
       "4  United States of America  "
      ]
     },
     "execution_count": 163,
     "metadata": {},
     "output_type": "execute_result"
    }
   ],
   "source": [
    "stocks_midlargeCap_webscrape_df = tmp_df.groupby('Sub_Industry').apply(lambda x: \\\n",
    "        x.sample(frac = 0.15, random_state=123)).sort_values('Symbol').reset_index(drop=True)\n",
    "\n",
    "print(stocks_midlargeCap_webscrape_df.shape)\n",
    "\n",
    "stocks_midlargeCap_webscrape_df.head()"
   ]
  },
  {
   "cell_type": "code",
   "execution_count": 164,
   "metadata": {},
   "outputs": [],
   "source": [
    "stocks_midlargeCap_webscrape_df.to_csv('df_stocks_midlargeCap_webscrape.csv')"
   ]
  },
  {
   "cell_type": "code",
   "execution_count": null,
   "metadata": {},
   "outputs": [],
   "source": []
  },
  {
   "cell_type": "markdown",
   "metadata": {},
   "source": [
    "## Construct a group of key words for each stocks"
   ]
  },
  {
   "cell_type": "markdown",
   "metadata": {},
   "source": [
    "# Ticker + Company name!!!\n",
    "narrow down key words, focus on company level"
   ]
  },
  {
   "cell_type": "code",
   "execution_count": 165,
   "metadata": {},
   "outputs": [
    {
     "name": "stdout",
     "output_type": "stream",
     "text": [
      "(167, 11)\n"
     ]
    },
    {
     "data": {
      "text/html": [
       "<div>\n",
       "<style scoped>\n",
       "    .dataframe tbody tr th:only-of-type {\n",
       "        vertical-align: middle;\n",
       "    }\n",
       "\n",
       "    .dataframe tbody tr th {\n",
       "        vertical-align: top;\n",
       "    }\n",
       "\n",
       "    .dataframe thead th {\n",
       "        text-align: right;\n",
       "    }\n",
       "</style>\n",
       "<table border=\"1\" class=\"dataframe\">\n",
       "  <thead>\n",
       "    <tr style=\"text-align: right;\">\n",
       "      <th></th>\n",
       "      <th>Symbol</th>\n",
       "      <th>Size</th>\n",
       "      <th>Market_Cap</th>\n",
       "      <th>Name</th>\n",
       "      <th>Security_Type</th>\n",
       "      <th>Security_Price</th>\n",
       "      <th>Sector</th>\n",
       "      <th>Industry</th>\n",
       "      <th>Sub_Industry</th>\n",
       "      <th>Exchange</th>\n",
       "      <th>Headquarters_Location</th>\n",
       "    </tr>\n",
       "  </thead>\n",
       "  <tbody>\n",
       "    <tr>\n",
       "      <th>0</th>\n",
       "      <td>AAPL</td>\n",
       "      <td>large-cap</td>\n",
       "      <td>1.876243e+12</td>\n",
       "      <td>Apple Inc</td>\n",
       "      <td>Common Stock</td>\n",
       "      <td>315.01</td>\n",
       "      <td>Information Technology</td>\n",
       "      <td>Technology Hardware, Storage &amp; Peripherals</td>\n",
       "      <td>Technology Hardware, Storage &amp; Peripherals</td>\n",
       "      <td>NASDAQ</td>\n",
       "      <td>United States of America</td>\n",
       "    </tr>\n",
       "    <tr>\n",
       "      <th>1</th>\n",
       "      <td>AB</td>\n",
       "      <td>mid-cap</td>\n",
       "      <td>2.589199e+09</td>\n",
       "      <td>AllianceBernstein Holding LP</td>\n",
       "      <td>Unit Trust Fund</td>\n",
       "      <td>22.51</td>\n",
       "      <td>Financials</td>\n",
       "      <td>Capital Markets</td>\n",
       "      <td>Asset Management &amp; Custody Banks</td>\n",
       "      <td>NYSE</td>\n",
       "      <td>United States of America</td>\n",
       "    </tr>\n",
       "    <tr>\n",
       "      <th>2</th>\n",
       "      <td>ABT</td>\n",
       "      <td>large-cap</td>\n",
       "      <td>1.786819e+11</td>\n",
       "      <td>Abbott Laboratories</td>\n",
       "      <td>Common Stock</td>\n",
       "      <td>96.07</td>\n",
       "      <td>Health Care</td>\n",
       "      <td>Health Care Equipment &amp; Supplies</td>\n",
       "      <td>Health Care Equipment</td>\n",
       "      <td>NYSE</td>\n",
       "      <td>United States of America</td>\n",
       "    </tr>\n",
       "    <tr>\n",
       "      <th>3</th>\n",
       "      <td>ACC</td>\n",
       "      <td>mid-cap</td>\n",
       "      <td>4.614801e+09</td>\n",
       "      <td>American Campus Communities Inc</td>\n",
       "      <td>Common Stock (REIT)</td>\n",
       "      <td>30.59</td>\n",
       "      <td>Real Estate</td>\n",
       "      <td>Equity Real Estate Investment Trusts (REITs)</td>\n",
       "      <td>Residential REITs</td>\n",
       "      <td>NYSE</td>\n",
       "      <td>United States of America</td>\n",
       "    </tr>\n",
       "    <tr>\n",
       "      <th>4</th>\n",
       "      <td>ADBE</td>\n",
       "      <td>large-cap</td>\n",
       "      <td>2.243249e+11</td>\n",
       "      <td>Adobe Inc</td>\n",
       "      <td>Common Stock</td>\n",
       "      <td>371.42</td>\n",
       "      <td>Information Technology</td>\n",
       "      <td>Software</td>\n",
       "      <td>Application Software</td>\n",
       "      <td>NASDAQ</td>\n",
       "      <td>United States of America</td>\n",
       "    </tr>\n",
       "  </tbody>\n",
       "</table>\n",
       "</div>"
      ],
      "text/plain": [
       "  Symbol       Size    Market_Cap                             Name  \\\n",
       "0   AAPL  large-cap  1.876243e+12                        Apple Inc   \n",
       "1     AB    mid-cap  2.589199e+09     AllianceBernstein Holding LP   \n",
       "2    ABT  large-cap  1.786819e+11              Abbott Laboratories   \n",
       "3    ACC    mid-cap  4.614801e+09  American Campus Communities Inc   \n",
       "4   ADBE  large-cap  2.243249e+11                        Adobe Inc   \n",
       "\n",
       "         Security_Type  Security_Price                  Sector  \\\n",
       "0         Common Stock          315.01  Information Technology   \n",
       "1      Unit Trust Fund           22.51              Financials   \n",
       "2         Common Stock           96.07             Health Care   \n",
       "3  Common Stock (REIT)           30.59             Real Estate   \n",
       "4         Common Stock          371.42  Information Technology   \n",
       "\n",
       "                                       Industry  \\\n",
       "0    Technology Hardware, Storage & Peripherals   \n",
       "1                               Capital Markets   \n",
       "2              Health Care Equipment & Supplies   \n",
       "3  Equity Real Estate Investment Trusts (REITs)   \n",
       "4                                      Software   \n",
       "\n",
       "                                 Sub_Industry Exchange  \\\n",
       "0  Technology Hardware, Storage & Peripherals   NASDAQ   \n",
       "1            Asset Management & Custody Banks     NYSE   \n",
       "2                       Health Care Equipment     NYSE   \n",
       "3                           Residential REITs     NYSE   \n",
       "4                        Application Software   NASDAQ   \n",
       "\n",
       "      Headquarters_Location  \n",
       "0  United States of America  \n",
       "1  United States of America  \n",
       "2  United States of America  \n",
       "3  United States of America  \n",
       "4  United States of America  "
      ]
     },
     "execution_count": 165,
     "metadata": {},
     "output_type": "execute_result"
    }
   ],
   "source": [
    "stocks_combine_list = pd.read_csv('stocks_midlargeCap_webscrape_df.csv', index_col=0)\n",
    "print(stocks_combine_list.shape)\n",
    "\n",
    "stocks_combine_list.head()"
   ]
  },
  {
   "cell_type": "code",
   "execution_count": 166,
   "metadata": {},
   "outputs": [],
   "source": [
    "del_words = ['Ltd', 'Inc', 'Corp', 'Holdings', 'LLC', 'Corporation', \n",
    "             'HOLDERs', 'Co', 'Limited', 'Company',\n",
    "             'Providers', 'group', 'com', 'Brands']\n",
    "del_words = [w.lower() for w in del_words]"
   ]
  },
  {
   "cell_type": "code",
   "execution_count": 167,
   "metadata": {},
   "outputs": [],
   "source": [
    "stocks_key_words_dict = {}\n",
    "\n",
    "for s in stocks_combine_list['Symbol']:\n",
    "    w_lemmatizer = WordNetLemmatizer()\n",
    "\n",
    "    tmp_words = []\n",
    "    tmp_words.append(s.lower())\n",
    "    tmp_names = [w_lemmatizer.lemmatize(w.lower()) for w in re.findall(r'\\w+', stocks_combine_list[stocks_combine_list['Symbol'] == s]['Name'].values[0]) \\\n",
    "                 if w.lower() not in del_words]\n",
    "    tmp_words.extend(tmp_names)\n",
    "    tmp_words.append(' '.join(tmp_names))\n",
    "    \n",
    "    tmp_words = list(set([w_lemmatizer.lemmatize(w) for w in tmp_words]))\n",
    "    stocks_key_words_dict[s] = tmp_words\n",
    "    "
   ]
  },
  {
   "cell_type": "code",
   "execution_count": 251,
   "metadata": {},
   "outputs": [],
   "source": [
    "with open('/Users/lin/Downloads/Q3_Web_scraping/stocks_key_words_dict.json', 'w') as fp:\n",
    "    json.dump(stocks_key_words_dict, fp, indent = 4)\n"
   ]
  },
  {
   "cell_type": "markdown",
   "metadata": {},
   "source": [
    "## Get historical stocks data (past 6m) to decide the threshold for large change"
   ]
  },
  {
   "cell_type": "code",
   "execution_count": null,
   "metadata": {},
   "outputs": [],
   "source": [
    "### compare with yesterday's close price???(open price)"
   ]
  },
  {
   "cell_type": "code",
   "execution_count": 170,
   "metadata": {},
   "outputs": [],
   "source": [
    "## Get 12 months historical stock data, and cut at top_q% to determine a large change for the stock\n",
    "def get_threshold_at_p(s, ms, top_p):\n",
    "    # print(s)\n",
    "\n",
    "    tmp_stock = yf.Ticker(s)\n",
    "\n",
    "    current_date = datetime.today().strftime(\"%Y-%m-%d\")\n",
    "    start_date = (datetime.today() + relativedelta(months=-ms)).strftime(\"%Y-%m-%d\")\n",
    "\n",
    "    # print(current_date, start_date)\n",
    "\n",
    "    tmp_hist = pdr.get_data_yahoo(s, start = start_date, end = current_date)\n",
    "    tmp_hist['%change'] = round(abs(tmp_hist['Close'] - tmp_hist['Open'])/tmp_hist['Open']*100, 2)\n",
    "    tmp_hist['change_dir'] = ['+' if tmp_hist['Close'][x] > tmp_hist['Open'][x] else '-' \\\n",
    "                              for x in range(tmp_hist.shape[0])]\n",
    "    \n",
    "    threshold_at_p = np.percentile(tmp_hist['%change'], top_p)\n",
    "    # print(threshold_at_p)\n",
    "\n",
    "    return threshold_at_p, tmp_hist"
   ]
  },
  {
   "cell_type": "code",
   "execution_count": 171,
   "metadata": {},
   "outputs": [
    {
     "data": {
      "text/plain": [
       "2.9480000000000004"
      ]
     },
     "execution_count": 171,
     "metadata": {},
     "output_type": "execute_result"
    }
   ],
   "source": [
    "get_threshold_at_p('AAPL', ms = 12, top_p = 90)[0]"
   ]
  },
  {
   "cell_type": "markdown",
   "metadata": {},
   "source": [
    "## News API: extract news headlines\n",
    "\n",
    "Use pygooglenews to extract Google News headlines\n"
   ]
  },
  {
   "cell_type": "markdown",
   "metadata": {},
   "source": [
    "doc: https://github.com/kotartemiy/pygooglenews\n",
    "\n",
    "The returned object contains \"feed\" (FeedParserDict) and \"entries\" list of articles found with all data parsed.\n",
    "\n",
    "Accepted topics are:\n",
    "1. WORLD\n",
    "2. NATION\n",
    "3. BUSINESS\n",
    "4. TECHNOLOGY\n",
    "5. ENTERTAINMENT\n",
    "6. SCIENCE\n",
    "7. SPORTS\n",
    "8. HEALTH\n",
    "\n",
    "\n",
    "gn.search(query: str, helper = True, when = None, from_ = None, to_ = None, proxies=None, scraping_bee=None)\n",
    "\n",
    "\n",
    "\"when\" parameter (str) sets the time range for the published datetime.\n",
    "- \"h\" for hours (worked for up to 101h). when = 12h will search for only the articles matching the search criteri and published for the last 12 hours\n",
    "- \"d\" for days.\n",
    "- \"m\" for month (worked for up to 48m)\n",
    "\n",
    "\"from_\" and \"to_\" accept the following formate of date: \"%Y-%m-%d\" for example, \"2020-07-01\"\n",
    "\n",
    "Tip. If you want to build a $\\bf{\\text{near real-time}}$ feed for a specific topic, use when='1h'. If Google captured fewer than 100 articles over the past hour, you should be able to retrieve all of them."
   ]
  },
  {
   "cell_type": "code",
   "execution_count": null,
   "metadata": {},
   "outputs": [],
   "source": [
    "## time_len -> 15/30mins less noise!!! -> 1 hour"
   ]
  },
  {
   "cell_type": "code",
   "execution_count": 172,
   "metadata": {},
   "outputs": [],
   "source": [
    "def get_news(s, stocks_key_words_dict, time_len = '1h'):\n",
    "    gn = GoogleNews()\n",
    "    tmp_news = gn.search(' OR '.join(stocks_key_words_dict[s]), when = '1h')\n",
    "    return tmp_news['entries']"
   ]
  },
  {
   "cell_type": "code",
   "execution_count": 176,
   "metadata": {},
   "outputs": [
    {
     "data": {
      "text/plain": [
       "(43,)"
      ]
     },
     "execution_count": 176,
     "metadata": {},
     "output_type": "execute_result"
    }
   ],
   "source": [
    "## FB!\n",
    "gn = GoogleNews()\n",
    "tmp_news = gn.search(' OR '.join(['aapl', 'apple']), when = '1h')\n",
    "len(tmp_news['entries']),\\"
   ]
  },
  {
   "cell_type": "code",
   "execution_count": 177,
   "metadata": {},
   "outputs": [
    {
     "data": {
      "text/plain": [
       "['apple', 'aapl']"
      ]
     },
     "execution_count": 177,
     "metadata": {},
     "output_type": "execute_result"
    }
   ],
   "source": [
    "stocks_key_words_dict['AAPL']"
   ]
  },
  {
   "cell_type": "markdown",
   "metadata": {},
   "source": [
    "# Get UGC data from StockTwits"
   ]
  },
  {
   "cell_type": "code",
   "execution_count": 178,
   "metadata": {},
   "outputs": [],
   "source": [
    "class Requests():\n",
    "    \"\"\" Uses `requests` library to GET and POST to Stocktwits, and also to convert resonses to JSON\n",
    "    \"\"\"\n",
    "    def get_json(url, params=None):\n",
    "        \"\"\" Uses tries to GET a few times before giving up if a timeout.  returns JSON\n",
    "        \"\"\"\n",
    "        resp = None\n",
    "        for i in range(4):\n",
    "            try:\n",
    "                resp = requests.get(url, params=params, timeout=5)\n",
    "            except requests.Timeout:\n",
    "                trimmed_params = {k: v for k, v in params.items() if k not in ST_BASE_PARAMS.keys()}\n",
    "                log.error('GET Timeout to {} w/ {}'.format(url[len(ST_BASE_URL):], trimmed_params))\n",
    "            if resp is not None:\n",
    "                break\n",
    "        if resp is None:\n",
    "            log.error('GET loop Timeout')\n",
    "            return None\n",
    "        else:\n",
    "            return json.loads(resp.content)\n",
    "\n",
    "    def post_json(url, params=None, deadline=30):\n",
    "        \"\"\" Tries to post a couple times in a loop before giving up if a timeout.\n",
    "        \"\"\"\n",
    "        resp = None\n",
    "        for i in range(4):\n",
    "            try:\n",
    "                resp = requests.post(url, params=params, timeout=5)\n",
    "            except requests.Timeout:\n",
    "                trimmed_params = {k: v for k, v in params.iteritems() if k not in ST_BASE_PARAMS.keys()}\n",
    "                log.error('POST Timeout to {} w/ {}'.format(url[len(ST_BASE_URL):], trimmed_params))\n",
    "            if resp is not None:\n",
    "                break\n",
    "        # TODO wrap in appropriate try/except\n",
    "        return json.loads(resp.content)\n"
   ]
  },
  {
   "cell_type": "code",
   "execution_count": 179,
   "metadata": {},
   "outputs": [],
   "source": [
    "# StockTwits details\n",
    "ST_BASE_URL = 'https://api.stocktwits.com/api/2/'\n",
    "ST_BASE_PARAMS = dict(access_token=os.getenv('ST_ACCESS_TOKEN'))\n",
    "\n",
    "TOTAL_LIMITS = 30\n",
    "\n",
    "# ---------------------------------------------------------------------\n",
    "# Basic StockTwits interface\n",
    "# ---------------------------------------------------------------------\n",
    "\n",
    "def get_stock_stream(symbol, params={}):\n",
    "    \"\"\" gets stream of messages for given symbol\n",
    "    \"\"\"\n",
    "    all_params = ST_BASE_PARAMS.copy()\n",
    "    for k, v in params.items():\n",
    "        all_params[k] = v\n",
    "    return Requests.get_json(ST_BASE_URL + 'streams/symbol/{}.json'.format(symbol), params=all_params)\n"
   ]
  },
  {
   "cell_type": "code",
   "execution_count": null,
   "metadata": {},
   "outputs": [],
   "source": []
  },
  {
   "cell_type": "markdown",
   "metadata": {},
   "source": [
    "# Algorithm \n",
    "\n",
    "1. Get past 1 year historical stock data and decide the threshold based on top_p% percentile: \n",
    "\n",
    "get_threshold_at_p(s, ms = 12, top_p = 90): threshold_at_q\n",
    "\n",
    "2. Real-time stock price tracker: return real-time stock price and % change between the current price and the open price: \n",
    "\n",
    "priceTracker(s) with time.sleep(): price_change_val\n",
    "\n",
    "\n",
    "3. If price_change_val > threshold_at_q, start scaping the related news headline (containing stock name, sector, industry and sub_industry key words) and end up collecting the headline data after 30mins/1hour. And also get UGC data from StockTwits:\n",
    "\n",
    "stocks_key_words_dict\n"
   ]
  },
  {
   "cell_type": "code",
   "execution_count": 181,
   "metadata": {},
   "outputs": [
    {
     "data": {
      "text/plain": [
       "Application Software     10\n",
       "Biotechnology             9\n",
       "Regional Banks            6\n",
       "Health Care Equipment     5\n",
       "Semiconductors            5\n",
       "Name: Sub_Industry, dtype: int64"
      ]
     },
     "execution_count": 181,
     "metadata": {},
     "output_type": "execute_result"
    }
   ],
   "source": [
    "stocks_combine_list['Sub_Industry'].value_counts()[:5]"
   ]
  },
  {
   "cell_type": "code",
   "execution_count": 182,
   "metadata": {},
   "outputs": [
    {
     "data": {
      "text/html": [
       "<div>\n",
       "<style scoped>\n",
       "    .dataframe tbody tr th:only-of-type {\n",
       "        vertical-align: middle;\n",
       "    }\n",
       "\n",
       "    .dataframe tbody tr th {\n",
       "        vertical-align: top;\n",
       "    }\n",
       "\n",
       "    .dataframe thead th {\n",
       "        text-align: right;\n",
       "    }\n",
       "</style>\n",
       "<table border=\"1\" class=\"dataframe\">\n",
       "  <thead>\n",
       "    <tr style=\"text-align: right;\">\n",
       "      <th></th>\n",
       "      <th>Symbol</th>\n",
       "      <th>Size</th>\n",
       "      <th>Market_Cap</th>\n",
       "      <th>Name</th>\n",
       "      <th>Security_Type</th>\n",
       "      <th>Security_Price</th>\n",
       "      <th>Sector</th>\n",
       "      <th>Industry</th>\n",
       "      <th>Sub_Industry</th>\n",
       "      <th>Exchange</th>\n",
       "      <th>Headquarters_Location</th>\n",
       "    </tr>\n",
       "  </thead>\n",
       "  <tbody>\n",
       "    <tr>\n",
       "      <th>0</th>\n",
       "      <td>AAPL</td>\n",
       "      <td>large-cap</td>\n",
       "      <td>1.876243e+12</td>\n",
       "      <td>Apple Inc</td>\n",
       "      <td>Common Stock</td>\n",
       "      <td>315.01</td>\n",
       "      <td>Information Technology</td>\n",
       "      <td>Technology Hardware, Storage &amp; Peripherals</td>\n",
       "      <td>Technology Hardware, Storage &amp; Peripherals</td>\n",
       "      <td>NASDAQ</td>\n",
       "      <td>United States of America</td>\n",
       "    </tr>\n",
       "    <tr>\n",
       "      <th>1</th>\n",
       "      <td>AB</td>\n",
       "      <td>mid-cap</td>\n",
       "      <td>2.589199e+09</td>\n",
       "      <td>AllianceBernstein Holding LP</td>\n",
       "      <td>Unit Trust Fund</td>\n",
       "      <td>22.51</td>\n",
       "      <td>Financials</td>\n",
       "      <td>Capital Markets</td>\n",
       "      <td>Asset Management &amp; Custody Banks</td>\n",
       "      <td>NYSE</td>\n",
       "      <td>United States of America</td>\n",
       "    </tr>\n",
       "    <tr>\n",
       "      <th>2</th>\n",
       "      <td>ABT</td>\n",
       "      <td>large-cap</td>\n",
       "      <td>1.786819e+11</td>\n",
       "      <td>Abbott Laboratories</td>\n",
       "      <td>Common Stock</td>\n",
       "      <td>96.07</td>\n",
       "      <td>Health Care</td>\n",
       "      <td>Health Care Equipment &amp; Supplies</td>\n",
       "      <td>Health Care Equipment</td>\n",
       "      <td>NYSE</td>\n",
       "      <td>United States of America</td>\n",
       "    </tr>\n",
       "    <tr>\n",
       "      <th>3</th>\n",
       "      <td>ACC</td>\n",
       "      <td>mid-cap</td>\n",
       "      <td>4.614801e+09</td>\n",
       "      <td>American Campus Communities Inc</td>\n",
       "      <td>Common Stock (REIT)</td>\n",
       "      <td>30.59</td>\n",
       "      <td>Real Estate</td>\n",
       "      <td>Equity Real Estate Investment Trusts (REITs)</td>\n",
       "      <td>Residential REITs</td>\n",
       "      <td>NYSE</td>\n",
       "      <td>United States of America</td>\n",
       "    </tr>\n",
       "    <tr>\n",
       "      <th>4</th>\n",
       "      <td>ADBE</td>\n",
       "      <td>large-cap</td>\n",
       "      <td>2.243249e+11</td>\n",
       "      <td>Adobe Inc</td>\n",
       "      <td>Common Stock</td>\n",
       "      <td>371.42</td>\n",
       "      <td>Information Technology</td>\n",
       "      <td>Software</td>\n",
       "      <td>Application Software</td>\n",
       "      <td>NASDAQ</td>\n",
       "      <td>United States of America</td>\n",
       "    </tr>\n",
       "  </tbody>\n",
       "</table>\n",
       "</div>"
      ],
      "text/plain": [
       "  Symbol       Size    Market_Cap                             Name  \\\n",
       "0   AAPL  large-cap  1.876243e+12                        Apple Inc   \n",
       "1     AB    mid-cap  2.589199e+09     AllianceBernstein Holding LP   \n",
       "2    ABT  large-cap  1.786819e+11              Abbott Laboratories   \n",
       "3    ACC    mid-cap  4.614801e+09  American Campus Communities Inc   \n",
       "4   ADBE  large-cap  2.243249e+11                        Adobe Inc   \n",
       "\n",
       "         Security_Type  Security_Price                  Sector  \\\n",
       "0         Common Stock          315.01  Information Technology   \n",
       "1      Unit Trust Fund           22.51              Financials   \n",
       "2         Common Stock           96.07             Health Care   \n",
       "3  Common Stock (REIT)           30.59             Real Estate   \n",
       "4         Common Stock          371.42  Information Technology   \n",
       "\n",
       "                                       Industry  \\\n",
       "0    Technology Hardware, Storage & Peripherals   \n",
       "1                               Capital Markets   \n",
       "2              Health Care Equipment & Supplies   \n",
       "3  Equity Real Estate Investment Trusts (REITs)   \n",
       "4                                      Software   \n",
       "\n",
       "                                 Sub_Industry Exchange  \\\n",
       "0  Technology Hardware, Storage & Peripherals   NASDAQ   \n",
       "1            Asset Management & Custody Banks     NYSE   \n",
       "2                       Health Care Equipment     NYSE   \n",
       "3                           Residential REITs     NYSE   \n",
       "4                        Application Software   NASDAQ   \n",
       "\n",
       "      Headquarters_Location  \n",
       "0  United States of America  \n",
       "1  United States of America  \n",
       "2  United States of America  \n",
       "3  United States of America  \n",
       "4  United States of America  "
      ]
     },
     "execution_count": 182,
     "metadata": {},
     "output_type": "execute_result"
    }
   ],
   "source": [
    "stocks_combine_list.head()"
   ]
  },
  {
   "cell_type": "markdown",
   "metadata": {},
   "source": [
    "# Make directory for today's results\n",
    "\n",
    "- 3_Readme.txt: pulling stock price every 15/30mins"
   ]
  },
  {
   "cell_type": "code",
   "execution_count": 236,
   "metadata": {},
   "outputs": [
    {
     "name": "stdout",
     "output_type": "stream",
     "text": [
      "2020-09-28\n",
      "90\n"
     ]
    }
   ],
   "source": [
    "current_dt = datetime.today().strftime('%Y-%m-%d')\n",
    "print(current_dt)\n",
    "\n",
    "top_p = 90\n",
    "print(top_p)"
   ]
  },
  {
   "cell_type": "code",
   "execution_count": 237,
   "metadata": {},
   "outputs": [
    {
     "name": "stdout",
     "output_type": "stream",
     "text": [
      "/Users/lin/Downloads/Q3_Web_scraping/\n",
      "/Users/lin/Dropbox/My Mac (余振平的MacBook Pro)/Downloads/Q3_Web_scraping/mid_large_cap_stocks/2020-09-28/threshold_90\n"
     ]
    }
   ],
   "source": [
    "# create file for each stocks\n",
    "parent_dir = '/Users/lin/Downloads/Q3_Web_scraping/'\n",
    "print(parent_dir)\n",
    "\n",
    "tmp_path = os.path.join(parent_dir, 'mid_large_cap_stocks')\n",
    "try:\n",
    "    os.chdir(tmp_path)\n",
    "except:\n",
    "    os.mkdir(tmp_path)\n",
    "\n",
    "tmp_path = os.path.join(tmp_path, current_dt)\n",
    "\n",
    "try:\n",
    "    os.chdir(tmp_path)\n",
    "except:\n",
    "    os.mkdir(tmp_path)\n",
    "    \n",
    "tmp_path = os.path.join(tmp_path, 'threshold_{}'.format(top_p))\n",
    "\n",
    "try:\n",
    "    os.chdir(tmp_path)\n",
    "except:\n",
    "    os.mkdir(tmp_path)\n",
    "    os.chdir(tmp_path)\n",
    "\n",
    "    \n",
    "for s in stocks_combine_list['Symbol']:\n",
    "    if not os.path.exists(os.path.join(tmp_path, s)):\n",
    "        os.mkdir(os.path.join(tmp_path, s))\n",
    "print(os.getcwd())\n"
   ]
  },
  {
   "cell_type": "code",
   "execution_count": 239,
   "metadata": {},
   "outputs": [],
   "source": [
    "def return_large_change_stocks(thre_at_q_lists, current_price_change_lists, tmp_prices):\n",
    "    \n",
    "    tmp_stocks = []\n",
    "    tmp_news_dict = {}\n",
    "    tmp_ugc_dict = {}\n",
    "    \n",
    "    tmp_time = datetime.now().isoformat()\n",
    "    \n",
    "        \n",
    "    for i, thre in enumerate(thre_at_q_lists):\n",
    "        if current_price_change_lists[i] > thre:\n",
    "            tmp_stocks.append((stocks_combine_list['Symbol'][i], tmp_prices[i][2], current_price_change_lists[i], tmp_time))\n",
    "    \n",
    "    if not tmp_stocks:\n",
    "        print('No large change stocks at time {}'.format(tmp_time))\n",
    "    else:\n",
    "        print('Find large change stocks: {} at time {}'.format(tmp_stocks, tmp_time))\n",
    "        \n",
    "    return tmp_stocks"
   ]
  },
  {
   "cell_type": "code",
   "execution_count": 240,
   "metadata": {},
   "outputs": [],
   "source": [
    "def save_webscape_data(cnt, tmp_stocks):\n",
    "    tmp_time = datetime.now().isoformat()\n",
    "        \n",
    "    if not tmp_stocks:\n",
    "        print('Iteration {}: No large change stocks found at time {}'.format(cnt, tmp_time)) \n",
    "    \n",
    "    else:\n",
    "        print('Iteration {}: Find large change stocks: {}'.format(cnt, tmp_stocks))\n",
    "        for s in tmp_stocks:\n",
    "\n",
    "            # News data\n",
    "            tmp_news_dict = get_news(s, stocks_key_words_dict)\n",
    "            with open(os.path.join(os.path.join(tmp_path, s), \\\n",
    "                               'News_{}_{}.json'.format(s, tmp_time)), 'w') as f:\n",
    "                json.dump(tmp_news_dict, f, indent = 2)\n",
    "            f.close()\n",
    "\n",
    "\n",
    "            # StockTwits UGC data\n",
    "            tmp_ugc_dict = get_stock_stream(s)\n",
    "            with open(os.path.join(os.path.join(tmp_path, s), \\\n",
    "                               'UGC_{}_{}.json'.format(s, tmp_time)), 'w') as f:\n",
    "                json.dump(tmp_ugc_dict, f, indent = 2)\n",
    "            f.close()"
   ]
  },
  {
   "cell_type": "code",
   "execution_count": 241,
   "metadata": {},
   "outputs": [
    {
     "name": "stdout",
     "output_type": "stream",
     "text": [
      "2020-09-28 20:58:19.806749 2020-09-28 21:03:19.806752\n"
     ]
    }
   ],
   "source": [
    "print(datetime.now(), datetime.now() + timedelta(hours=5/60))"
   ]
  },
  {
   "cell_type": "markdown",
   "metadata": {},
   "source": [
    "#### Get past 12months historical data"
   ]
  },
  {
   "cell_type": "code",
   "execution_count": 198,
   "metadata": {},
   "outputs": [
    {
     "data": {
      "text/html": [
       "<div>\n",
       "<style scoped>\n",
       "    .dataframe tbody tr th:only-of-type {\n",
       "        vertical-align: middle;\n",
       "    }\n",
       "\n",
       "    .dataframe tbody tr th {\n",
       "        vertical-align: top;\n",
       "    }\n",
       "\n",
       "    .dataframe thead th {\n",
       "        text-align: right;\n",
       "    }\n",
       "</style>\n",
       "<table border=\"1\" class=\"dataframe\">\n",
       "  <thead>\n",
       "    <tr style=\"text-align: right;\">\n",
       "      <th></th>\n",
       "      <th>symbols</th>\n",
       "      <th>threshold_at_90</th>\n",
       "    </tr>\n",
       "  </thead>\n",
       "  <tbody>\n",
       "  </tbody>\n",
       "</table>\n",
       "</div>"
      ],
      "text/plain": [
       "Empty DataFrame\n",
       "Columns: [symbols, threshold_at_90]\n",
       "Index: []"
      ]
     },
     "execution_count": 198,
     "metadata": {},
     "output_type": "execute_result"
    }
   ],
   "source": [
    "tmp_list = stocks_combine_list['Symbol'].values # sub_df['Symbol']\n",
    "\n",
    "print(top_p)\n",
    "\n",
    "thre_at_q_lists = [get_threshold_at_p(s, ms = 12, top_p=top_p)[0] for s in tmp_list]\n",
    "\n",
    "df_thre_at_q = pd.DataFrame({'symbols': tmp_list, \n",
    "              'threshold_at_{}'.format(top_p): thre_at_q_lists})\n",
    "df_thre_at_q[df_thre_at_q['threshold_at_90'] != df_thre_at_q['threshold_at_90']]"
   ]
  },
  {
   "cell_type": "code",
   "execution_count": 242,
   "metadata": {},
   "outputs": [
    {
     "data": {
      "text/html": [
       "<div>\n",
       "<style scoped>\n",
       "    .dataframe tbody tr th:only-of-type {\n",
       "        vertical-align: middle;\n",
       "    }\n",
       "\n",
       "    .dataframe tbody tr th {\n",
       "        vertical-align: top;\n",
       "    }\n",
       "\n",
       "    .dataframe thead th {\n",
       "        text-align: right;\n",
       "    }\n",
       "</style>\n",
       "<table border=\"1\" class=\"dataframe\">\n",
       "  <thead>\n",
       "    <tr style=\"text-align: right;\">\n",
       "      <th></th>\n",
       "      <th>symbols</th>\n",
       "      <th>threshold_at_90</th>\n",
       "    </tr>\n",
       "  </thead>\n",
       "  <tbody>\n",
       "    <tr>\n",
       "      <th>0</th>\n",
       "      <td>AAPL</td>\n",
       "      <td>2.948</td>\n",
       "    </tr>\n",
       "    <tr>\n",
       "      <th>1</th>\n",
       "      <td>AB</td>\n",
       "      <td>3.910</td>\n",
       "    </tr>\n",
       "    <tr>\n",
       "      <th>2</th>\n",
       "      <td>ABT</td>\n",
       "      <td>3.048</td>\n",
       "    </tr>\n",
       "    <tr>\n",
       "      <th>3</th>\n",
       "      <td>ACC</td>\n",
       "      <td>4.280</td>\n",
       "    </tr>\n",
       "    <tr>\n",
       "      <th>4</th>\n",
       "      <td>ADBE</td>\n",
       "      <td>3.300</td>\n",
       "    </tr>\n",
       "  </tbody>\n",
       "</table>\n",
       "</div>"
      ],
      "text/plain": [
       "  symbols  threshold_at_90\n",
       "0    AAPL            2.948\n",
       "1      AB            3.910\n",
       "2     ABT            3.048\n",
       "3     ACC            4.280\n",
       "4    ADBE            3.300"
      ]
     },
     "execution_count": 242,
     "metadata": {},
     "output_type": "execute_result"
    }
   ],
   "source": [
    "df_thre_at_q.head()"
   ]
  },
  {
   "cell_type": "code",
   "execution_count": 226,
   "metadata": {},
   "outputs": [],
   "source": [
    "# df_thre_at_q.to_csv('{}/df_thre_at_q_day{}.csv'.format(parent_dir, current_dt))"
   ]
  },
  {
   "cell_type": "code",
   "execution_count": 244,
   "metadata": {},
   "outputs": [],
   "source": [
    "'''\n",
    "    time_interval: 15mins, 30mins\n",
    "'''\n",
    "time_interval = 15"
   ]
  },
  {
   "cell_type": "code",
   "execution_count": null,
   "metadata": {
    "scrolled": true
   },
   "outputs": [],
   "source": [
    "# Comments\n",
    "\n",
    "dt_end = datetime.now() + timedelta(hours=6.5)\n",
    "\n",
    "print('starting time: {} and end time: {}'.format(datetime.now(), dt_end), '\\n')\n",
    "\n",
    "cnt = 1\n",
    "\n",
    "current_prices = {}\n",
    "\n",
    "large_change_stocks_all = {}\n",
    "\n",
    "while datetime.now() < dt_end:\n",
    "       \n",
    "    start_time = time.time()\n",
    "\n",
    "    print('iteration = {}'.format(cnt))\n",
    "\n",
    "    tmp_stocks = []\n",
    "\n",
    "    print(datetime.now())\n",
    "\n",
    "    current_price_change_lists = []\n",
    "    tmp_prices = []\n",
    "\n",
    "    for s in tmp_list:\n",
    "        tmp_pricetracker = priceTracker(s)\n",
    "        current_price_change_lists.append(tmp_pricetracker[2])\n",
    "        tmp_prices.append((s, datetime.now().isoformat(), tmp_pricetracker[0]))\n",
    "\n",
    "    try:\n",
    "        if not np.isnan(current_price_change_lists).any():\n",
    "            tmp_stocks.extend(return_large_change_stocks(thre_at_q_lists, current_price_change_lists, tmp_prices))\n",
    "\n",
    "        print('Checking all the stocks...')\n",
    "\n",
    "        large_change_stocks_all[cnt] = tmp_stocks\n",
    "        current_prices[cnt] = tmp_prices\n",
    "\n",
    "        # Scraping UGC and News data \n",
    "        tmp_stocks_symbol = list(set([i[0] for i in tmp_stocks]))\n",
    "        save_webscape_data(cnt, tmp_stocks_symbol)\n",
    "\n",
    "        print('Finished {}-th iteration with {} seconds'.format(cnt, round(time.time()-start_time, 2)), '\\n')\n",
    "\n",
    "        cnt += 1\n",
    "        print('Sleep {}mins more before the next iteration, and total {}mins...'.format(round((time_interval*60 - (time.time() - start_time))/60.0 ,2), time_interval))\n",
    "\n",
    "        time.sleep(time_interval*60 - (time.time() - start_time)) # pull current stock prices with an interval 15mins\n",
    "\n",
    "    \n",
    "    except:\n",
    "        print('Lost connection...')\n",
    "        print('Sleep 60seconds and try again...')\n",
    "        time.sleep(60)\n",
    "        continue\n",
    "        \n",
    "    #time.sleep(sleep_period) # update every 60s\n",
    "    \n"
   ]
  },
  {
   "cell_type": "code",
   "execution_count": 247,
   "metadata": {
    "scrolled": true
   },
   "outputs": [],
   "source": [
    "with open('{}/1_large_change_stocks.json'.format(tmp_path), 'w') as fp:\n",
    "    json.dump(large_change_stocks_all, fp, indent = 4)\n",
    "    \n",
    "with open('{}/2_current_prices.json'.format(tmp_path), 'w') as fp:\n",
    "    json.dump(current_prices, fp, indent = 4)\n",
    "    \n",
    "with open('{}/3_Readme.txt'.format(tmp_path), 'w') as fp:\n",
    "    fp.write('Pulling stock prices every {} mins...'.format(time_interval))"
   ]
  },
  {
   "cell_type": "code",
   "execution_count": 235,
   "metadata": {
    "scrolled": true
   },
   "outputs": [],
   "source": []
  },
  {
   "cell_type": "code",
   "execution_count": null,
   "metadata": {},
   "outputs": [],
   "source": []
  },
  {
   "cell_type": "code",
   "execution_count": null,
   "metadata": {},
   "outputs": [],
   "source": []
  },
  {
   "cell_type": "code",
   "execution_count": null,
   "metadata": {},
   "outputs": [],
   "source": []
  }
 ],
 "metadata": {
  "kernelspec": {
   "display_name": "Python 3",
   "language": "python",
   "name": "python3"
  },
  "language_info": {
   "codemirror_mode": {
    "name": "ipython",
    "version": 3
   },
   "file_extension": ".py",
   "mimetype": "text/x-python",
   "name": "python",
   "nbconvert_exporter": "python",
   "pygments_lexer": "ipython3",
   "version": "3.7.7"
  }
 },
 "nbformat": 4,
 "nbformat_minor": 4
}
