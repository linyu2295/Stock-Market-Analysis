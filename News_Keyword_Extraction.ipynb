{
 "cells": [
  {
   "cell_type": "code",
   "execution_count": 1,
   "metadata": {},
   "outputs": [],
   "source": [
    "import os \n",
    "import json\n",
    "import time\n",
    "import glob\n",
    "import numpy as np\n",
    "import pandas as pd\n",
    "import datetime\n",
    "import re\n",
    "from collections import Counter\n",
    "\n",
    "import matplotlib.pyplot as plt\n",
    "\n",
    "import spacy\n",
    "\n",
    "nlp = spacy.load('en_core_web_sm')\n",
    "\n",
    "pd.set_option('display.max_rows', 500)\n",
    "pd.set_option('display.max_columns', 500)\n"
   ]
  },
  {
   "cell_type": "code",
   "execution_count": 2,
   "metadata": {},
   "outputs": [],
   "source": [
    "# from rake_nltk import Rake\n",
    "\n",
    "# r = Rake()\n",
    "\n",
    "# '''\n",
    "#     https://github.com/csurfer/rake-nltk\n",
    "    \n",
    "#     https://github.com/aneesha/RAKE\n",
    "# '''\n"
   ]
  },
  {
   "cell_type": "code",
   "execution_count": 3,
   "metadata": {},
   "outputs": [
    {
     "data": {
      "text/plain": [
       "(575, 10)"
      ]
     },
     "execution_count": 3,
     "metadata": {},
     "output_type": "execute_result"
    }
   ],
   "source": [
    "training_data = pd.read_csv('Stock market project - all training samples.csv')\n",
    "training_data.shape"
   ]
  },
  {
   "cell_type": "code",
   "execution_count": 4,
   "metadata": {},
   "outputs": [
    {
     "data": {
      "text/html": [
       "<div>\n",
       "<style scoped>\n",
       "    .dataframe tbody tr th:only-of-type {\n",
       "        vertical-align: middle;\n",
       "    }\n",
       "\n",
       "    .dataframe tbody tr th {\n",
       "        vertical-align: top;\n",
       "    }\n",
       "\n",
       "    .dataframe thead th {\n",
       "        text-align: right;\n",
       "    }\n",
       "</style>\n",
       "<table border=\"1\" class=\"dataframe\">\n",
       "  <thead>\n",
       "    <tr style=\"text-align: right;\">\n",
       "      <th></th>\n",
       "      <th>dates</th>\n",
       "      <th>symbol</th>\n",
       "      <th>name</th>\n",
       "      <th>open price</th>\n",
       "      <th>1st price change</th>\n",
       "      <th>% change</th>\n",
       "      <th>time of 1st price change</th>\n",
       "      <th>published</th>\n",
       "      <th>news</th>\n",
       "      <th>label (p/n)</th>\n",
       "    </tr>\n",
       "  </thead>\n",
       "  <tbody>\n",
       "    <tr>\n",
       "      <th>0</th>\n",
       "      <td>2020/10/02</td>\n",
       "      <td>HSBC</td>\n",
       "      <td>HSBC Holdings PLC</td>\n",
       "      <td>$19.51</td>\n",
       "      <td>$19.91</td>\n",
       "      <td>2.05%</td>\n",
       "      <td>2020-10-02T23:41:38</td>\n",
       "      <td>Fri, 02 Oct 2020 18:00:11 GMT</td>\n",
       "      <td>HSBC Holdings plc (NYSE:HSBC) Currently 99.45%...</td>\n",
       "      <td>n</td>\n",
       "    </tr>\n",
       "    <tr>\n",
       "      <th>1</th>\n",
       "      <td>NaN</td>\n",
       "      <td>NaN</td>\n",
       "      <td>NaN</td>\n",
       "      <td>NaN</td>\n",
       "      <td>NaN</td>\n",
       "      <td>NaN</td>\n",
       "      <td>NaN</td>\n",
       "      <td>Fri, 02 Oct 2020 17:19:17 GMT</td>\n",
       "      <td>Oman Cards and Payments Market Report- Growth ...</td>\n",
       "      <td>n</td>\n",
       "    </tr>\n",
       "    <tr>\n",
       "      <th>2</th>\n",
       "      <td>2020/10/02</td>\n",
       "      <td>LSCC</td>\n",
       "      <td>Lattice Semiconductor Corp</td>\n",
       "      <td>$29.75</td>\n",
       "      <td>$28.09</td>\n",
       "      <td>-5.58%</td>\n",
       "      <td>2020-10-03T00:10:57</td>\n",
       "      <td>-</td>\n",
       "      <td>-</td>\n",
       "      <td>NaN</td>\n",
       "    </tr>\n",
       "    <tr>\n",
       "      <th>3</th>\n",
       "      <td>2020/10/05</td>\n",
       "      <td>AGIO</td>\n",
       "      <td>Agios Pharmaceuticals Inc</td>\n",
       "      <td>$33.42</td>\n",
       "      <td>$36.38</td>\n",
       "      <td>8.86%</td>\n",
       "      <td>2020-10-06T00:11:38</td>\n",
       "      <td>Mon, 05 Oct 2020 18:29:31 GMT</td>\n",
       "      <td>Agios Pharmaceuticals Inc (AGIO) Stock: Buy, H...</td>\n",
       "      <td>n</td>\n",
       "    </tr>\n",
       "    <tr>\n",
       "      <th>4</th>\n",
       "      <td>NaN</td>\n",
       "      <td>NaN</td>\n",
       "      <td>NaN</td>\n",
       "      <td>NaN</td>\n",
       "      <td>NaN</td>\n",
       "      <td>NaN</td>\n",
       "      <td>NaN</td>\n",
       "      <td>Mon, 05 Oct 2020 17:18:00 GMT</td>\n",
       "      <td>Should be in your portfolio? Its Depends: Alle...</td>\n",
       "      <td>n</td>\n",
       "    </tr>\n",
       "  </tbody>\n",
       "</table>\n",
       "</div>"
      ],
      "text/plain": [
       "        dates symbol                        name open price 1st price change  \\\n",
       "0  2020/10/02   HSBC           HSBC Holdings PLC     $19.51           $19.91   \n",
       "1         NaN    NaN                         NaN        NaN              NaN   \n",
       "2  2020/10/02   LSCC  Lattice Semiconductor Corp     $29.75           $28.09   \n",
       "3  2020/10/05   AGIO   Agios Pharmaceuticals Inc     $33.42           $36.38   \n",
       "4         NaN    NaN                         NaN        NaN              NaN   \n",
       "\n",
       "  % change time of 1st price change                      published  \\\n",
       "0    2.05%      2020-10-02T23:41:38  Fri, 02 Oct 2020 18:00:11 GMT   \n",
       "1      NaN                      NaN  Fri, 02 Oct 2020 17:19:17 GMT   \n",
       "2   -5.58%      2020-10-03T00:10:57                              -   \n",
       "3    8.86%      2020-10-06T00:11:38  Mon, 05 Oct 2020 18:29:31 GMT   \n",
       "4      NaN                      NaN  Mon, 05 Oct 2020 17:18:00 GMT   \n",
       "\n",
       "                                                news label (p/n)  \n",
       "0  HSBC Holdings plc (NYSE:HSBC) Currently 99.45%...           n  \n",
       "1  Oman Cards and Payments Market Report- Growth ...           n  \n",
       "2                                                  -         NaN  \n",
       "3  Agios Pharmaceuticals Inc (AGIO) Stock: Buy, H...           n  \n",
       "4  Should be in your portfolio? Its Depends: Alle...           n  "
      ]
     },
     "execution_count": 4,
     "metadata": {},
     "output_type": "execute_result"
    }
   ],
   "source": [
    "training_data.head()"
   ]
  },
  {
   "cell_type": "code",
   "execution_count": 5,
   "metadata": {},
   "outputs": [
    {
     "data": {
      "text/plain": [
       "210"
      ]
     },
     "execution_count": 5,
     "metadata": {},
     "output_type": "execute_result"
    }
   ],
   "source": [
    "'''\n",
    "    Complete the training dataset:\n",
    "'''\n",
    "\n",
    "dat = training_data.copy()\n",
    "\n",
    "for i in range(1, dat.shape[0]):\n",
    "    if pd.isnull(dat.iloc[i, 0]): # position \n",
    "        dat.iloc[i, :7] = dat.iloc[i-1, :7]\n",
    "\n",
    "'''\n",
    "    news_source_list: list of website names \n",
    "\n",
    "'''\n",
    "\n",
    "dat['news_source'] = ''\n",
    "dat['news_wo_source'] = ''\n",
    "\n",
    "news_source_list = []\n",
    "\n",
    "for i in range(dat.shape[0]):\n",
    "    tmp_news = dat.loc[i, 'news']\n",
    "    tmp_news_list = tmp_news.split(' - ')\n",
    "    if len(tmp_news_list) > 1:\n",
    "        dat.loc[i, 'news_wo_source'] = ' - '.join(tmp_news_list[:-1])\n",
    "        dat.loc[i, 'news_source'] = tmp_news_list[-1]\n",
    "        if tmp_news_list[-1] not in news_source_list:\n",
    "            news_source_list.append(tmp_news_list[-1])\n",
    "    else:\n",
    "        dat.loc[i, 'news_wo_source'] = tmp_news\n",
    "\n",
    "len(news_source_list)"
   ]
  },
  {
   "cell_type": "code",
   "execution_count": 28,
   "metadata": {},
   "outputs": [
    {
     "data": {
      "text/plain": [
       "['Marketing Sentinel',\n",
       " 'The Market Records',\n",
       " 'InvestorsObserver',\n",
       " 'BOV News',\n",
       " 'Nasdaq',\n",
       " 'Investing.com',\n",
       " 'The InvestChronicle',\n",
       " 'The Oracle Dispatch',\n",
       " 'Simply Wall St',\n",
       " 'Seeking Alpha']"
      ]
     },
     "execution_count": 28,
     "metadata": {},
     "output_type": "execute_result"
    }
   ],
   "source": [
    "news_source_list[:10]"
   ]
  },
  {
   "cell_type": "code",
   "execution_count": 6,
   "metadata": {},
   "outputs": [
    {
     "data": {
      "text/html": [
       "<div>\n",
       "<style scoped>\n",
       "    .dataframe tbody tr th:only-of-type {\n",
       "        vertical-align: middle;\n",
       "    }\n",
       "\n",
       "    .dataframe tbody tr th {\n",
       "        vertical-align: top;\n",
       "    }\n",
       "\n",
       "    .dataframe thead th {\n",
       "        text-align: right;\n",
       "    }\n",
       "</style>\n",
       "<table border=\"1\" class=\"dataframe\">\n",
       "  <thead>\n",
       "    <tr style=\"text-align: right;\">\n",
       "      <th></th>\n",
       "      <th>dates</th>\n",
       "      <th>symbol</th>\n",
       "      <th>name</th>\n",
       "      <th>open price</th>\n",
       "      <th>1st price change</th>\n",
       "      <th>% change</th>\n",
       "      <th>time of 1st price change</th>\n",
       "      <th>published</th>\n",
       "      <th>news</th>\n",
       "      <th>label (p/n)</th>\n",
       "      <th>news_source</th>\n",
       "      <th>news_wo_source</th>\n",
       "    </tr>\n",
       "  </thead>\n",
       "  <tbody>\n",
       "    <tr>\n",
       "      <th>0</th>\n",
       "      <td>2020/10/02</td>\n",
       "      <td>HSBC</td>\n",
       "      <td>HSBC Holdings PLC</td>\n",
       "      <td>$19.51</td>\n",
       "      <td>$19.91</td>\n",
       "      <td>2.05%</td>\n",
       "      <td>2020-10-02T23:41:38</td>\n",
       "      <td>Fri, 02 Oct 2020 18:00:11 GMT</td>\n",
       "      <td>HSBC Holdings plc (NYSE:HSBC) Currently 99.45%...</td>\n",
       "      <td>n</td>\n",
       "      <td>Marketing Sentinel</td>\n",
       "      <td>HSBC Holdings plc (NYSE:HSBC) Currently 99.45%...</td>\n",
       "    </tr>\n",
       "    <tr>\n",
       "      <th>1</th>\n",
       "      <td>2020/10/02</td>\n",
       "      <td>HSBC</td>\n",
       "      <td>HSBC Holdings PLC</td>\n",
       "      <td>$19.51</td>\n",
       "      <td>$19.91</td>\n",
       "      <td>2.05%</td>\n",
       "      <td>2020-10-02T23:41:38</td>\n",
       "      <td>Fri, 02 Oct 2020 17:19:17 GMT</td>\n",
       "      <td>Oman Cards and Payments Market Report- Growth ...</td>\n",
       "      <td>n</td>\n",
       "      <td>The Market Records</td>\n",
       "      <td>Oman Cards and Payments Market Report- Growth ...</td>\n",
       "    </tr>\n",
       "    <tr>\n",
       "      <th>2</th>\n",
       "      <td>2020/10/02</td>\n",
       "      <td>LSCC</td>\n",
       "      <td>Lattice Semiconductor Corp</td>\n",
       "      <td>$29.75</td>\n",
       "      <td>$28.09</td>\n",
       "      <td>-5.58%</td>\n",
       "      <td>2020-10-03T00:10:57</td>\n",
       "      <td>-</td>\n",
       "      <td>-</td>\n",
       "      <td>NaN</td>\n",
       "      <td></td>\n",
       "      <td>-</td>\n",
       "    </tr>\n",
       "    <tr>\n",
       "      <th>3</th>\n",
       "      <td>2020/10/05</td>\n",
       "      <td>AGIO</td>\n",
       "      <td>Agios Pharmaceuticals Inc</td>\n",
       "      <td>$33.42</td>\n",
       "      <td>$36.38</td>\n",
       "      <td>8.86%</td>\n",
       "      <td>2020-10-06T00:11:38</td>\n",
       "      <td>Mon, 05 Oct 2020 18:29:31 GMT</td>\n",
       "      <td>Agios Pharmaceuticals Inc (AGIO) Stock: Buy, H...</td>\n",
       "      <td>n</td>\n",
       "      <td>InvestorsObserver</td>\n",
       "      <td>Agios Pharmaceuticals Inc (AGIO) Stock: Buy, H...</td>\n",
       "    </tr>\n",
       "    <tr>\n",
       "      <th>4</th>\n",
       "      <td>2020/10/05</td>\n",
       "      <td>AGIO</td>\n",
       "      <td>Agios Pharmaceuticals Inc</td>\n",
       "      <td>$33.42</td>\n",
       "      <td>$36.38</td>\n",
       "      <td>8.86%</td>\n",
       "      <td>2020-10-06T00:11:38</td>\n",
       "      <td>Mon, 05 Oct 2020 17:18:00 GMT</td>\n",
       "      <td>Should be in your portfolio? Its Depends: Alle...</td>\n",
       "      <td>n</td>\n",
       "      <td>BOV News</td>\n",
       "      <td>Should be in your portfolio? Its Depends: Alle...</td>\n",
       "    </tr>\n",
       "  </tbody>\n",
       "</table>\n",
       "</div>"
      ],
      "text/plain": [
       "        dates symbol                        name open price 1st price change  \\\n",
       "0  2020/10/02   HSBC           HSBC Holdings PLC     $19.51           $19.91   \n",
       "1  2020/10/02   HSBC           HSBC Holdings PLC     $19.51           $19.91   \n",
       "2  2020/10/02   LSCC  Lattice Semiconductor Corp     $29.75           $28.09   \n",
       "3  2020/10/05   AGIO   Agios Pharmaceuticals Inc     $33.42           $36.38   \n",
       "4  2020/10/05   AGIO   Agios Pharmaceuticals Inc     $33.42           $36.38   \n",
       "\n",
       "  % change time of 1st price change                      published  \\\n",
       "0    2.05%      2020-10-02T23:41:38  Fri, 02 Oct 2020 18:00:11 GMT   \n",
       "1    2.05%      2020-10-02T23:41:38  Fri, 02 Oct 2020 17:19:17 GMT   \n",
       "2   -5.58%      2020-10-03T00:10:57                              -   \n",
       "3    8.86%      2020-10-06T00:11:38  Mon, 05 Oct 2020 18:29:31 GMT   \n",
       "4    8.86%      2020-10-06T00:11:38  Mon, 05 Oct 2020 17:18:00 GMT   \n",
       "\n",
       "                                                news label (p/n)  \\\n",
       "0  HSBC Holdings plc (NYSE:HSBC) Currently 99.45%...           n   \n",
       "1  Oman Cards and Payments Market Report- Growth ...           n   \n",
       "2                                                  -         NaN   \n",
       "3  Agios Pharmaceuticals Inc (AGIO) Stock: Buy, H...           n   \n",
       "4  Should be in your portfolio? Its Depends: Alle...           n   \n",
       "\n",
       "          news_source                                     news_wo_source  \n",
       "0  Marketing Sentinel  HSBC Holdings plc (NYSE:HSBC) Currently 99.45%...  \n",
       "1  The Market Records  Oman Cards and Payments Market Report- Growth ...  \n",
       "2                                                                      -  \n",
       "3   InvestorsObserver  Agios Pharmaceuticals Inc (AGIO) Stock: Buy, H...  \n",
       "4            BOV News  Should be in your portfolio? Its Depends: Alle...  "
      ]
     },
     "execution_count": 6,
     "metadata": {},
     "output_type": "execute_result"
    }
   ],
   "source": [
    "dat.head()"
   ]
  },
  {
   "cell_type": "code",
   "execution_count": 7,
   "metadata": {},
   "outputs": [
    {
     "name": "stdout",
     "output_type": "stream",
     "text": [
      "(575, 12) (362, 12) (213, 12)\n"
     ]
    }
   ],
   "source": [
    "dat_up = dat[dat['% change'].map(lambda x: float(x.split('%')[0]) > 0)].reset_index(drop=True)\n",
    "dat_down = dat[dat['% change'].map(lambda x: float(x.split('%')[0]) < 0)].reset_index(drop=True)\n",
    "\n",
    "print(dat.shape, dat_up.shape, dat_down.shape)\n",
    "\n"
   ]
  },
  {
   "cell_type": "code",
   "execution_count": 8,
   "metadata": {},
   "outputs": [
    {
     "data": {
      "text/html": [
       "<div>\n",
       "<style scoped>\n",
       "    .dataframe tbody tr th:only-of-type {\n",
       "        vertical-align: middle;\n",
       "    }\n",
       "\n",
       "    .dataframe tbody tr th {\n",
       "        vertical-align: top;\n",
       "    }\n",
       "\n",
       "    .dataframe thead th {\n",
       "        text-align: right;\n",
       "    }\n",
       "</style>\n",
       "<table border=\"1\" class=\"dataframe\">\n",
       "  <thead>\n",
       "    <tr style=\"text-align: right;\">\n",
       "      <th></th>\n",
       "      <th>dates</th>\n",
       "      <th>symbol</th>\n",
       "      <th>name</th>\n",
       "      <th>open price</th>\n",
       "      <th>1st price change</th>\n",
       "      <th>% change</th>\n",
       "      <th>time of 1st price change</th>\n",
       "      <th>published</th>\n",
       "      <th>news</th>\n",
       "      <th>label (p/n)</th>\n",
       "      <th>news_source</th>\n",
       "      <th>news_wo_source</th>\n",
       "    </tr>\n",
       "  </thead>\n",
       "  <tbody>\n",
       "    <tr>\n",
       "      <th>0</th>\n",
       "      <td>2020/10/02</td>\n",
       "      <td>HSBC</td>\n",
       "      <td>HSBC Holdings PLC</td>\n",
       "      <td>$19.51</td>\n",
       "      <td>$19.91</td>\n",
       "      <td>2.05%</td>\n",
       "      <td>2020-10-02T23:41:38</td>\n",
       "      <td>Fri, 02 Oct 2020 18:00:11 GMT</td>\n",
       "      <td>HSBC Holdings plc (NYSE:HSBC) Currently 99.45%...</td>\n",
       "      <td>n</td>\n",
       "      <td>Marketing Sentinel</td>\n",
       "      <td>HSBC Holdings plc (NYSE:HSBC) Currently 99.45%...</td>\n",
       "    </tr>\n",
       "    <tr>\n",
       "      <th>1</th>\n",
       "      <td>2020/10/02</td>\n",
       "      <td>HSBC</td>\n",
       "      <td>HSBC Holdings PLC</td>\n",
       "      <td>$19.51</td>\n",
       "      <td>$19.91</td>\n",
       "      <td>2.05%</td>\n",
       "      <td>2020-10-02T23:41:38</td>\n",
       "      <td>Fri, 02 Oct 2020 17:19:17 GMT</td>\n",
       "      <td>Oman Cards and Payments Market Report- Growth ...</td>\n",
       "      <td>n</td>\n",
       "      <td>The Market Records</td>\n",
       "      <td>Oman Cards and Payments Market Report- Growth ...</td>\n",
       "    </tr>\n",
       "    <tr>\n",
       "      <th>2</th>\n",
       "      <td>2020/10/05</td>\n",
       "      <td>AGIO</td>\n",
       "      <td>Agios Pharmaceuticals Inc</td>\n",
       "      <td>$33.42</td>\n",
       "      <td>$36.38</td>\n",
       "      <td>8.86%</td>\n",
       "      <td>2020-10-06T00:11:38</td>\n",
       "      <td>Mon, 05 Oct 2020 18:29:31 GMT</td>\n",
       "      <td>Agios Pharmaceuticals Inc (AGIO) Stock: Buy, H...</td>\n",
       "      <td>n</td>\n",
       "      <td>InvestorsObserver</td>\n",
       "      <td>Agios Pharmaceuticals Inc (AGIO) Stock: Buy, H...</td>\n",
       "    </tr>\n",
       "    <tr>\n",
       "      <th>3</th>\n",
       "      <td>2020/10/05</td>\n",
       "      <td>AGIO</td>\n",
       "      <td>Agios Pharmaceuticals Inc</td>\n",
       "      <td>$33.42</td>\n",
       "      <td>$36.38</td>\n",
       "      <td>8.86%</td>\n",
       "      <td>2020-10-06T00:11:38</td>\n",
       "      <td>Mon, 05 Oct 2020 17:18:00 GMT</td>\n",
       "      <td>Should be in your portfolio? Its Depends: Alle...</td>\n",
       "      <td>n</td>\n",
       "      <td>BOV News</td>\n",
       "      <td>Should be in your portfolio? Its Depends: Alle...</td>\n",
       "    </tr>\n",
       "    <tr>\n",
       "      <th>4</th>\n",
       "      <td>2020/10/05</td>\n",
       "      <td>AGIO</td>\n",
       "      <td>Agios Pharmaceuticals Inc</td>\n",
       "      <td>$33.42</td>\n",
       "      <td>$36.38</td>\n",
       "      <td>8.86%</td>\n",
       "      <td>2020-10-06T00:11:38</td>\n",
       "      <td>Mon, 05 Oct 2020 16:00:00 GMT</td>\n",
       "      <td>All You Need to Know About Agios Pharmaceutica...</td>\n",
       "      <td>n</td>\n",
       "      <td>Nasdaq</td>\n",
       "      <td>All You Need to Know About Agios Pharmaceutica...</td>\n",
       "    </tr>\n",
       "  </tbody>\n",
       "</table>\n",
       "</div>"
      ],
      "text/plain": [
       "        dates symbol                       name open price 1st price change  \\\n",
       "0  2020/10/02   HSBC          HSBC Holdings PLC     $19.51           $19.91   \n",
       "1  2020/10/02   HSBC          HSBC Holdings PLC     $19.51           $19.91   \n",
       "2  2020/10/05   AGIO  Agios Pharmaceuticals Inc     $33.42           $36.38   \n",
       "3  2020/10/05   AGIO  Agios Pharmaceuticals Inc     $33.42           $36.38   \n",
       "4  2020/10/05   AGIO  Agios Pharmaceuticals Inc     $33.42           $36.38   \n",
       "\n",
       "  % change time of 1st price change                      published  \\\n",
       "0    2.05%      2020-10-02T23:41:38  Fri, 02 Oct 2020 18:00:11 GMT   \n",
       "1    2.05%      2020-10-02T23:41:38  Fri, 02 Oct 2020 17:19:17 GMT   \n",
       "2    8.86%      2020-10-06T00:11:38  Mon, 05 Oct 2020 18:29:31 GMT   \n",
       "3    8.86%      2020-10-06T00:11:38  Mon, 05 Oct 2020 17:18:00 GMT   \n",
       "4    8.86%      2020-10-06T00:11:38  Mon, 05 Oct 2020 16:00:00 GMT   \n",
       "\n",
       "                                                news label (p/n)  \\\n",
       "0  HSBC Holdings plc (NYSE:HSBC) Currently 99.45%...           n   \n",
       "1  Oman Cards and Payments Market Report- Growth ...           n   \n",
       "2  Agios Pharmaceuticals Inc (AGIO) Stock: Buy, H...           n   \n",
       "3  Should be in your portfolio? Its Depends: Alle...           n   \n",
       "4  All You Need to Know About Agios Pharmaceutica...           n   \n",
       "\n",
       "          news_source                                     news_wo_source  \n",
       "0  Marketing Sentinel  HSBC Holdings plc (NYSE:HSBC) Currently 99.45%...  \n",
       "1  The Market Records  Oman Cards and Payments Market Report- Growth ...  \n",
       "2   InvestorsObserver  Agios Pharmaceuticals Inc (AGIO) Stock: Buy, H...  \n",
       "3            BOV News  Should be in your portfolio? Its Depends: Alle...  \n",
       "4              Nasdaq  All You Need to Know About Agios Pharmaceutica...  "
      ]
     },
     "execution_count": 8,
     "metadata": {},
     "output_type": "execute_result"
    }
   ],
   "source": [
    "dat_up.head()"
   ]
  },
  {
   "cell_type": "code",
   "execution_count": 9,
   "metadata": {},
   "outputs": [
    {
     "data": {
      "text/html": [
       "<div>\n",
       "<style scoped>\n",
       "    .dataframe tbody tr th:only-of-type {\n",
       "        vertical-align: middle;\n",
       "    }\n",
       "\n",
       "    .dataframe tbody tr th {\n",
       "        vertical-align: top;\n",
       "    }\n",
       "\n",
       "    .dataframe thead th {\n",
       "        text-align: right;\n",
       "    }\n",
       "</style>\n",
       "<table border=\"1\" class=\"dataframe\">\n",
       "  <thead>\n",
       "    <tr style=\"text-align: right;\">\n",
       "      <th></th>\n",
       "      <th></th>\n",
       "      <th>dates</th>\n",
       "    </tr>\n",
       "    <tr>\n",
       "      <th>dates</th>\n",
       "      <th>symbol</th>\n",
       "      <th></th>\n",
       "    </tr>\n",
       "  </thead>\n",
       "  <tbody>\n",
       "    <tr>\n",
       "      <th>2020/10/02</th>\n",
       "      <th>HSBC</th>\n",
       "      <td>2</td>\n",
       "    </tr>\n",
       "    <tr>\n",
       "      <th rowspan=\"4\" valign=\"top\">2020/10/05</th>\n",
       "      <th>AGIO</th>\n",
       "      <td>3</td>\n",
       "    </tr>\n",
       "    <tr>\n",
       "      <th>AQN</th>\n",
       "      <td>1</td>\n",
       "    </tr>\n",
       "    <tr>\n",
       "      <th>LSCC</th>\n",
       "      <td>1</td>\n",
       "    </tr>\n",
       "    <tr>\n",
       "      <th>MRVL</th>\n",
       "      <td>4</td>\n",
       "    </tr>\n",
       "  </tbody>\n",
       "</table>\n",
       "</div>"
      ],
      "text/plain": [
       "                   dates\n",
       "dates      symbol       \n",
       "2020/10/02 HSBC        2\n",
       "2020/10/05 AGIO        3\n",
       "           AQN         1\n",
       "           LSCC        1\n",
       "           MRVL        4"
      ]
     },
     "execution_count": 9,
     "metadata": {},
     "output_type": "execute_result"
    }
   ],
   "source": [
    "dat_up.groupby(['dates', 'symbol']).agg({'dates': len}).head()"
   ]
  },
  {
   "cell_type": "code",
   "execution_count": 10,
   "metadata": {},
   "outputs": [
    {
     "data": {
      "text/plain": [
       "array(['HSBC Holdings PLC', 'Lattice Semiconductor Corp',\n",
       "       'Agios Pharmaceuticals Inc', 'Algonquin Power & Utilities Corp',\n",
       "       'EPR Properties', 'Marvell Technology Group Ltd', 'MyoKardia Inc',\n",
       "       'Regeneron Pharmaceuticals Inc', 'Wipro Ltd',\n",
       "       'Bristol-Myers Squibb Co', 'Arcelormittal SA', 'Netflix Inc',\n",
       "       'NovoCure Ltd', 'Quidel Corp', 'Sirius XM Holdings Inc',\n",
       "       'Sarepta Therapeutics Inc', 'United Microelectronics Corp',\n",
       "       'Qiagen NV', 'Parsley Energy Inc', 'Trade Desk Inc (The)',\n",
       "       'Twist Bioscience Corp', 'J.B. Hunt Transport Services Inc.',\n",
       "       'Teradata Corp', 'Comerica Inc', 'MercadoLibre Inc',\n",
       "       'Conocophillips', 'Casella Waste Systems Inc',\n",
       "       'Fiverr International Ltd', 'Pinterest Inc', 'PayPal Holdings Inc',\n",
       "       'Teradyne Inc.', 'Trupanion Inc', 'Twitter Inc',\n",
       "       'Align Technology Inc', 'Crown Castle International Corp',\n",
       "       'Huntington Bancshares Inc', 'JetBlue Airways Corp',\n",
       "       'PulteGroup Inc', 'TRI Pointe Group Inc',\n",
       "       'Zions Bancorporation NA', \"Dunkin' Brands Group Inc\",\n",
       "       'Eli Lilly and Co', 'Akamai Technologies Inc', 'Yamana Gold Inc',\n",
       "       'Armstrong World Industries Inc', 'Equity Residential',\n",
       "       'Equinox Gold Corp', 'Intuitive Surgical Inc',\n",
       "       'Petroleo Brasileiro S.A.- Petrobras', 'VMware Inc',\n",
       "       'A. O. Smith Corp', 'CoStar Group Inc', 'IDEXX Laboratories Inc',\n",
       "       'Insmed Inc', 'Inphi Corp', 'KLA Corp', 'Nokia Corp',\n",
       "       'Ralph Lauren Corp', 'Spotify Technology S.A', 'Apple Inc',\n",
       "       'Charter Communications Inc', 'Proofpoint Inc', 'Under Armour Inc',\n",
       "       'Zendesk Inc', 'CVS Health Corp', 'Pluralsight Inc', 'Canon Inc',\n",
       "       'Ford Motor Co', 'Highwoods Properties Inc.',\n",
       "       'Biohaven Pharmaceutical Holding Co Ltd', 'Stifel Financial Corp.',\n",
       "       'Huazhu Group Ltd', 'CDK Global Inc', 'DocuSign Inc.',\n",
       "       'Elastic NV', 'Equifax Inc.', 'STMicroelectronics NV',\n",
       "       'CarGurus Inc', 'Datadog Inc', 'Hologic Inc',\n",
       "       'Itau Unibanco Holding SA', 'Cloudflare Inc',\n",
       "       'Companhia Siderurgica Nacional', 'QUALCOMM Inc.'], dtype=object)"
      ]
     },
     "execution_count": 10,
     "metadata": {},
     "output_type": "execute_result"
    }
   ],
   "source": [
    "dat['name'].unique()"
   ]
  },
  {
   "cell_type": "code",
   "execution_count": 11,
   "metadata": {},
   "outputs": [
    {
     "data": {
      "text/plain": [
       "'\\n    Stocks_key_words_dict\\n'"
      ]
     },
     "execution_count": 11,
     "metadata": {},
     "output_type": "execute_result"
    }
   ],
   "source": [
    "'''\n",
    "    Stocks_key_words_dict\n",
    "'''\n",
    "# del_words = ['Ltd', 'Inc', 'Corp', 'PLC', 'LLC', 'Corporation', \n",
    "#              'HOLDERs', 'Co', 'Limited', 'Company',\n",
    "#              'Providers', 'group', 'com', 'Brands', \n",
    "#              'NA', 'SA', 'NV', 's', 'a', 'and']\n",
    "# del_words = [w.lower() for w in del_words]\n",
    "\n",
    "# stocks_key_words_dict = {}\n",
    "\n",
    "# for s in list(sorted(dat['symbol'].unique())):\n",
    "#     w_lemmatizer = WordNetLemmatizer()\n",
    "\n",
    "#     tmp_words = []\n",
    "#     tmp_words.append(s.lower())\n",
    "#     tmp_names = [w.lower() for w in re.findall(r'\\w+', dat[dat['symbol'] == s]['name'].values[0]) \\\n",
    "#                  if w.lower() not in del_words]\n",
    "#     tmp_words.extend(tmp_names)\n",
    "#     tmp_words.append(' '.join(tmp_names))\n",
    "    \n",
    "#     tmp_words = list(set([w for w in tmp_words]))\n",
    "#     stocks_key_words_dict[s] = tmp_words\n",
    "    "
   ]
  },
  {
   "cell_type": "code",
   "execution_count": 12,
   "metadata": {},
   "outputs": [],
   "source": [
    "'''\n",
    "    stocks_NameSymbolStr_dict\n",
    "'''\n",
    "\n",
    "stocks_NameSymbolStr_dict = {}\n",
    "\n",
    "for s in list(sorted(dat['symbol'].unique())):\n",
    "    tmp_NameStr = dat[dat['symbol'] == s]['name'].values[0]\n",
    "    stocks_NameSymbolStr_dict[s] = ' '.join([s, tmp_NameStr])\n",
    "    "
   ]
  },
  {
   "cell_type": "code",
   "execution_count": 42,
   "metadata": {},
   "outputs": [],
   "source": [
    "\n",
    "def check_word_in_sent(word, sentence):\n",
    "    # lowercase\n",
    "    # words: list of word\n",
    "    # sentence: string - stocks_NameSymbolStr_dict\n",
    "    \n",
    "    # all_words = re.findall(r'\\w+', sentence)\n",
    "    all_words = [t.text.lower() for t in nlp(sentence)]\n",
    "    if word.lower() in all_words:\n",
    "#         print('{}, Found!'.format(word))\n",
    "        return True\n",
    "    else:\n",
    "#         print('{}, Not in sentence!'.format(word))\n",
    "        return False\n"
   ]
  },
  {
   "cell_type": "code",
   "execution_count": 16,
   "metadata": {},
   "outputs": [
    {
     "name": "stdout",
     "output_type": "stream",
     "text": [
      "zion, Found!\n"
     ]
    },
    {
     "data": {
      "text/plain": [
       "('ZION Zions Bancorporation NA', True)"
      ]
     },
     "execution_count": 16,
     "metadata": {},
     "output_type": "execute_result"
    }
   ],
   "source": [
    "stocks_NameSymbolStr_dict['ZION'], \\\n",
    "check_word_in_sent('zion', stocks_NameSymbolStr_dict['ZION'])"
   ]
  },
  {
   "cell_type": "code",
   "execution_count": null,
   "metadata": {},
   "outputs": [],
   "source": []
  },
  {
   "cell_type": "markdown",
   "metadata": {},
   "source": [
    "### The necessary steps include (but aren’t limited to) the following:\n",
    "\n",
    "1. Tokenizing sentences to break text down into sentences, words, or other units\n",
    "2. Removing stop words like “if,” “but,” “or,” and so on\n"
   ]
  },
  {
   "cell_type": "code",
   "execution_count": 61,
   "metadata": {},
   "outputs": [],
   "source": [
    "del_words = ['$', '|', 'inc.', 'inc', 'corp', 'corporation', 'company', 'co', \n",
    "             'stock', 'stocks', 'nyse', 'nasdaq', 'llc', 'ltd.', 'limited', 'ltd',\n",
    "             'com', 'brands', 'market']"
   ]
  },
  {
   "cell_type": "code",
   "execution_count": 62,
   "metadata": {},
   "outputs": [],
   "source": [
    "'''\n",
    "    News data processing:\n",
    "    - filter out:\n",
    "        - company name and symbol\n",
    "        - news sources: website name\n",
    "        - stopwords\n",
    "        - delimiters\n",
    "        \n",
    "'''\n",
    "\n",
    "keywords_up_dict = {}\n",
    "keywords_up_list = []\n",
    "\n",
    "for i in range(dat_up.shape[0]):\n",
    "    s = dat_up.loc[i, 'symbol']\n",
    "\n",
    "    tmp_news = dat_up.loc[i, 'news_wo_source']\n",
    "\n",
    "    tmp_keywords = [(token.text.lower(), token.lemma_.lower(), token.pos_) for token in nlp(tmp_news) \n",
    "                     if not token.is_stop\n",
    "                     if not token.is_punct\n",
    "                     if not token.is_space\n",
    "                     if not check_word_in_sent(token.text, stocks_NameSymbolStr_dict[s])\n",
    "                     if token.text.lower() not in del_words]\n",
    "\n",
    "    tmp_keywords\n",
    "    if s not in keywords_up_dict:\n",
    "        keywords_up_dict[s] = []\n",
    "\n",
    "    keywords_up_dict[s].extend(tmp_keywords)\n",
    "\n",
    "    keywords_up_list.extend(tmp_keywords)\n"
   ]
  },
  {
   "cell_type": "code",
   "execution_count": 63,
   "metadata": {},
   "outputs": [
    {
     "data": {
      "text/plain": [
       "(61, 61, 2549)"
      ]
     },
     "execution_count": 63,
     "metadata": {},
     "output_type": "execute_result"
    }
   ],
   "source": [
    "len(dat_up['symbol'].unique()), len(keywords_up_dict.keys()), len(keywords_up_list)"
   ]
  },
  {
   "cell_type": "code",
   "execution_count": 64,
   "metadata": {},
   "outputs": [
    {
     "data": {
      "text/plain": [
       "[('currently', 'currently', 'ADV'),\n",
       " ('99.45', '99.45', 'NUM'),\n",
       " ('52-week', '52-week', 'NUM'),\n",
       " ('high', 'high', 'ADJ'),\n",
       " ('upside', 'upside', 'PROPN'),\n",
       " ('potential', 'potential', 'PROPN'),\n",
       " ('surprise', 'surprise', 'VERB'),\n",
       " ('oman', 'oman', 'PROPN'),\n",
       " ('cards', 'cards', 'PROPN'),\n",
       " ('payments', 'payments', 'PROPN')]"
      ]
     },
     "execution_count": 64,
     "metadata": {},
     "output_type": "execute_result"
    }
   ],
   "source": [
    "keywords_up_list[:10]"
   ]
  },
  {
   "cell_type": "code",
   "execution_count": 70,
   "metadata": {},
   "outputs": [
    {
     "data": {
      "text/plain": [
       "array(['ADJ', 'ADP', 'ADV', 'CCONJ', 'NOUN', 'NUM', 'PROPN', 'SCONJ',\n",
       "       'VERB', 'X'], dtype='<U5')"
      ]
     },
     "execution_count": 70,
     "metadata": {},
     "output_type": "execute_result"
    }
   ],
   "source": [
    "np.unique([k[2] for k in keywords_up_list])"
   ]
  },
  {
   "cell_type": "code",
   "execution_count": 67,
   "metadata": {},
   "outputs": [
    {
     "data": {
      "text/plain": [
       "[('buy', 22),\n",
       " ('sell', 13),\n",
       " ('announce', 11),\n",
       " ('rise', 11),\n",
       " ('beat', 11),\n",
       " ('get', 9),\n",
       " ('hold', 6),\n",
       " ('investigate', 6),\n",
       " ('lead', 6),\n",
       " ('say', 6),\n",
       " ('hit', 6),\n",
       " ('acquire', 5),\n",
       " ('surge', 5),\n",
       " ('let', 5),\n",
       " ('add', 5),\n",
       " ('encourage', 4),\n",
       " ('contact', 4),\n",
       " ('propose', 4),\n",
       " ('gain', 4),\n",
       " ('jump', 4)]"
      ]
     },
     "execution_count": 67,
     "metadata": {},
     "output_type": "execute_result"
    }
   ],
   "source": [
    "Counter([k[1] for k in keywords_up_list if k[2] == 'VERB']).most_common(20)"
   ]
  },
  {
   "cell_type": "code",
   "execution_count": null,
   "metadata": {},
   "outputs": [],
   "source": [
    "Counter([k[1] for k in keywords_up_list if k[2] == 'VERB']).most_common(20)"
   ]
  },
  {
   "cell_type": "code",
   "execution_count": null,
   "metadata": {},
   "outputs": [],
   "source": []
  },
  {
   "cell_type": "code",
   "execution_count": null,
   "metadata": {},
   "outputs": [],
   "source": []
  },
  {
   "cell_type": "code",
   "execution_count": null,
   "metadata": {},
   "outputs": [],
   "source": []
  },
  {
   "cell_type": "code",
   "execution_count": null,
   "metadata": {},
   "outputs": [],
   "source": []
  },
  {
   "cell_type": "code",
   "execution_count": null,
   "metadata": {},
   "outputs": [],
   "source": []
  }
 ],
 "metadata": {
  "kernelspec": {
   "display_name": "Python 3",
   "language": "python",
   "name": "python3"
  },
  "language_info": {
   "codemirror_mode": {
    "name": "ipython",
    "version": 3
   },
   "file_extension": ".py",
   "mimetype": "text/x-python",
   "name": "python",
   "nbconvert_exporter": "python",
   "pygments_lexer": "ipython3",
   "version": "3.7.7"
  }
 },
 "nbformat": 4,
 "nbformat_minor": 4
}
